{
 "cells": [
  {
   "cell_type": "code",
   "execution_count": 1,
   "metadata": {
    "vscode": {
     "languageId": "r"
    }
   },
   "outputs": [
    {
     "name": "stderr",
     "output_type": "stream",
     "text": [
      "\n",
      "Attaching package: 'dplyr'\n",
      "\n",
      "\n",
      "The following objects are masked from 'package:stats':\n",
      "\n",
      "    filter, lag\n",
      "\n",
      "\n",
      "The following objects are masked from 'package:base':\n",
      "\n",
      "    intersect, setdiff, setequal, union\n",
      "\n",
      "\n",
      "Loading required package: mvtnorm\n",
      "\n",
      "Loading required package: survival\n",
      "\n"
     ]
    },
    {
     "name": "stderr",
     "output_type": "stream",
     "text": [
      "Loading required package: TH.data\n",
      "\n",
      "Loading required package: MASS\n",
      "\n",
      "\n",
      "Attaching package: 'MASS'\n",
      "\n",
      "\n",
      "The following object is masked from 'package:dplyr':\n",
      "\n",
      "    select\n",
      "\n",
      "\n",
      "\n",
      "Attaching package: 'TH.data'\n",
      "\n",
      "\n",
      "The following object is masked from 'package:MASS':\n",
      "\n",
      "    geyser\n",
      "\n",
      "\n"
     ]
    }
   ],
   "source": [
    "library(readr)\n",
    "library(dplyr)\n",
    "library(tidyr)\n",
    "library(stats)\n",
    "library(dplyr)\n",
    "library(knitr)\n",
    "library(stringr) # For string operations\n",
    "# For Tukey's HSD test\n",
    "library(multcomp)\n",
    "library(ggplot2)"
   ]
  },
  {
   "cell_type": "code",
   "execution_count": 2,
   "metadata": {
    "vscode": {
     "languageId": "r"
    }
   },
   "outputs": [
    {
     "data": {
      "text/html": [
       "<table class=\"dataframe\">\n",
       "<caption>A data.frame: 6 x 35</caption>\n",
       "<thead>\n",
       "\t<tr><th></th><th scope=col>StartDate</th><th scope=col>EndDate</th><th scope=col>Status</th><th scope=col>IPAddress</th><th scope=col>Progress</th><th scope=col>Duration..in.seconds.</th><th scope=col>Finished</th><th scope=col>RecordedDate</th><th scope=col>ResponseId</th><th scope=col>RecipientLastName</th><th scope=col>...</th><th scope=col>Q3.2</th><th scope=col>Q4.2</th><th scope=col>Q5</th><th scope=col>Q5_5_TEXT</th><th scope=col>Q6</th><th scope=col>Q6_5_TEXT</th><th scope=col>Q7</th><th scope=col>Q8</th><th scope=col>Q8_4_TEXT</th><th scope=col>ConditionAssigned</th></tr>\n",
       "\t<tr><th></th><th scope=col>&lt;chr&gt;</th><th scope=col>&lt;chr&gt;</th><th scope=col>&lt;chr&gt;</th><th scope=col>&lt;chr&gt;</th><th scope=col>&lt;chr&gt;</th><th scope=col>&lt;chr&gt;</th><th scope=col>&lt;chr&gt;</th><th scope=col>&lt;chr&gt;</th><th scope=col>&lt;chr&gt;</th><th scope=col>&lt;chr&gt;</th><th scope=col>...</th><th scope=col>&lt;chr&gt;</th><th scope=col>&lt;chr&gt;</th><th scope=col>&lt;chr&gt;</th><th scope=col>&lt;chr&gt;</th><th scope=col>&lt;chr&gt;</th><th scope=col>&lt;chr&gt;</th><th scope=col>&lt;chr&gt;</th><th scope=col>&lt;chr&gt;</th><th scope=col>&lt;chr&gt;</th><th scope=col>&lt;chr&gt;</th></tr>\n",
       "</thead>\n",
       "<tbody>\n",
       "\t<tr><th scope=row>1</th><td>Start Date                                          </td><td>End Date                                          </td><td>Response Type        </td><td>IP Address              </td><td>Progress               </td><td>Duration (in seconds)  </td><td>Finished               </td><td>Recorded Date                                          </td><td>Response ID             </td><td>Recipient Last Name             </td><td>...</td><td>How likely are you to reduce using single use cups?</td><td>How likely are you to bring your own reusable cup when purchasing beverages?</td><td>What is your status at UBC? - Selected Choice</td><td>What is your status at UBC? - Other (please specify) - Text</td><td>What is your gender identity? - Selected Choice</td><td>What is your gender identity? - Other (please specify) - Text</td><td>What is your age? (in number of years)</td><td>What factor(s) would most likely reduce your consumption of single-use cups? (Choose all applicable answers) - Selected Choice                                                                      </td><td>What factor(s) would most likely reduce your consumption of single-use cups? (Choose all applicable answers) - Other (Specify) - Text</td><td>ConditionAssigned               </td></tr>\n",
       "\t<tr><th scope=row>2</th><td>{\"ImportId\":\"startDate\",\"timeZone\":\"America/Denver\"}</td><td>{\"ImportId\":\"endDate\",\"timeZone\":\"America/Denver\"}</td><td>{\"ImportId\":\"status\"}</td><td>{\"ImportId\":\"ipAddress\"}</td><td>{\"ImportId\":\"progress\"}</td><td>{\"ImportId\":\"duration\"}</td><td>{\"ImportId\":\"finished\"}</td><td>{\"ImportId\":\"recordedDate\",\"timeZone\":\"America/Denver\"}</td><td>{\"ImportId\":\"_recordId\"}</td><td>{\"ImportId\":\"recipientLastName\"}</td><td>...</td><td>{\"ImportId\":\"QID52\"}                               </td><td>{\"ImportId\":\"QID53\"}                                                        </td><td>{\"ImportId\":\"QID22\"}                         </td><td>{\"ImportId\":\"QID22_5_TEXT\"}                                </td><td>{\"ImportId\":\"QID24\"}                           </td><td>{\"ImportId\":\"QID24_5_TEXT\"}                                  </td><td>{\"ImportId\":\"QID23_TEXT\"}             </td><td>{\"ImportId\":\"QID32\"}                                                                                                                                                                                </td><td>{\"ImportId\":\"QID32_4_TEXT\"}                                                                                                          </td><td>{\"ImportId\":\"ConditionAssigned\"}</td></tr>\n",
       "\t<tr><th scope=row>3</th><td>2024-03-06 14:25:55                                 </td><td>2024-03-06 14:27:13                               </td><td>IP Address           </td><td>206.12.179.98           </td><td>100                    </td><td>77                     </td><td>True                   </td><td>2024-03-06 14:27:13                                    </td><td>R_7P4M3QNUV0sz7kl       </td><td>                                </td><td>...</td><td>                                                   </td><td>                                                                            </td><td>Students                                     </td><td>                                                           </td><td>Woman                                          </td><td>                                                             </td><td>21                                    </td><td>Learning about the environmental consequences associated with single-use cups (i.e,. pollution, cups used per day),Preferences for alternatives of single-use cup (i.e., I prefer to use my own mug)</td><td>                                                                                                                                     </td><td>Loss                            </td></tr>\n",
       "\t<tr><th scope=row>4</th><td>2024-03-06 14:36:46                                 </td><td>2024-03-06 14:37:20                               </td><td>IP Address           </td><td>24.84.220.242           </td><td>100                    </td><td>34                     </td><td>True                   </td><td>2024-03-06 14:37:21                                    </td><td>R_3uPoKeQUqogIL4l       </td><td>                                </td><td>...</td><td>                                                   </td><td>                                                                            </td><td>Not Affiliated                               </td><td>                                                           </td><td>Man                                            </td><td>                                                             </td><td>21                                    </td><td>Learning about the financial implications of using single-use cups (i.e., cost per cup)                                                                                                             </td><td>                                                                                                                                     </td><td>Gain                            </td></tr>\n",
       "\t<tr><th scope=row>5</th><td>2024-03-06 15:59:14                                 </td><td>2024-03-06 16:00:22                               </td><td>IP Address           </td><td>108.180.201.174         </td><td>100                    </td><td>68                     </td><td>True                   </td><td>2024-03-06 16:00:23                                    </td><td>R_65G7BrispC2eV2n       </td><td>                                </td><td>...</td><td>Slightly unlikely                                  </td><td>Slightly unlikely                                                           </td><td>Students                                     </td><td>                                                           </td><td>Woman                                          </td><td>                                                             </td><td>22                                    </td><td>Learning about the financial implications of using single-use cups (i.e., cost per cup),Preferences for alternatives of single-use cup (i.e., I prefer to use my own mug)                           </td><td>                                                                                                                                     </td><td>Control                         </td></tr>\n",
       "\t<tr><th scope=row>6</th><td>2024-03-06 17:01:22                                 </td><td>2024-03-06 17:04:00                               </td><td>IP Address           </td><td>49.36.185.105           </td><td>100                    </td><td>158                    </td><td>True                   </td><td>2024-03-06 17:04:01                                    </td><td>R_40i6X1z7fQUH2Bs       </td><td>                                </td><td>...</td><td>                                                   </td><td>                                                                            </td><td>Not Affiliated                               </td><td>                                                           </td><td>Woman                                          </td><td>                                                             </td><td>                                      </td><td>Preferences for alternatives of single-use cup (i.e., I prefer to use my own mug)                                                                                                                   </td><td>                                                                                                                                     </td><td>Loss                            </td></tr>\n",
       "</tbody>\n",
       "</table>\n"
      ],
      "text/latex": [
       "A data.frame: 6 x 35\n",
       "\\begin{tabular}{r|lllllllllllllllllllll}\n",
       "  & StartDate & EndDate & Status & IPAddress & Progress & Duration..in.seconds. & Finished & RecordedDate & ResponseId & RecipientLastName & ... & Q3.2 & Q4.2 & Q5 & Q5\\_5\\_TEXT & Q6 & Q6\\_5\\_TEXT & Q7 & Q8 & Q8\\_4\\_TEXT & ConditionAssigned\\\\\n",
       "  & <chr> & <chr> & <chr> & <chr> & <chr> & <chr> & <chr> & <chr> & <chr> & <chr> & ... & <chr> & <chr> & <chr> & <chr> & <chr> & <chr> & <chr> & <chr> & <chr> & <chr>\\\\\n",
       "\\hline\n",
       "\t1 & Start Date                                           & End Date                                           & Response Type         & IP Address               & Progress                & Duration (in seconds)   & Finished                & Recorded Date                                           & Response ID              & Recipient Last Name              & ... & How likely are you to reduce using single use cups? & How likely are you to bring your own reusable cup when purchasing beverages? & What is your status at UBC? - Selected Choice & What is your status at UBC? - Other (please specify) - Text & What is your gender identity? - Selected Choice & What is your gender identity? - Other (please specify) - Text & What is your age? (in number of years) & What factor(s) would most likely reduce your consumption of single-use cups? (Choose all applicable answers) - Selected Choice                                                                       & What factor(s) would most likely reduce your consumption of single-use cups? (Choose all applicable answers) - Other (Specify) - Text & ConditionAssigned               \\\\\n",
       "\t2 & \\{\"ImportId\":\"startDate\",\"timeZone\":\"America/Denver\"\\} & \\{\"ImportId\":\"endDate\",\"timeZone\":\"America/Denver\"\\} & \\{\"ImportId\":\"status\"\\} & \\{\"ImportId\":\"ipAddress\"\\} & \\{\"ImportId\":\"progress\"\\} & \\{\"ImportId\":\"duration\"\\} & \\{\"ImportId\":\"finished\"\\} & \\{\"ImportId\":\"recordedDate\",\"timeZone\":\"America/Denver\"\\} & \\{\"ImportId\":\"\\_recordId\"\\} & \\{\"ImportId\":\"recipientLastName\"\\} & ... & \\{\"ImportId\":\"QID52\"\\}                                & \\{\"ImportId\":\"QID53\"\\}                                                         & \\{\"ImportId\":\"QID22\"\\}                          & \\{\"ImportId\":\"QID22\\_5\\_TEXT\"\\}                                 & \\{\"ImportId\":\"QID24\"\\}                            & \\{\"ImportId\":\"QID24\\_5\\_TEXT\"\\}                                   & \\{\"ImportId\":\"QID23\\_TEXT\"\\}              & \\{\"ImportId\":\"QID32\"\\}                                                                                                                                                                                 & \\{\"ImportId\":\"QID32\\_4\\_TEXT\"\\}                                                                                                           & \\{\"ImportId\":\"ConditionAssigned\"\\}\\\\\n",
       "\t3 & 2024-03-06 14:25:55                                  & 2024-03-06 14:27:13                                & IP Address            & 206.12.179.98            & 100                     & 77                      & True                    & 2024-03-06 14:27:13                                     & R\\_7P4M3QNUV0sz7kl        &                                  & ... &                                                     &                                                                              & Students                                      &                                                             & Woman                                           &                                                               & 21                                     & Learning about the environmental consequences associated with single-use cups (i.e,. pollution, cups used per day),Preferences for alternatives of single-use cup (i.e., I prefer to use my own mug) &                                                                                                                                       & Loss                            \\\\\n",
       "\t4 & 2024-03-06 14:36:46                                  & 2024-03-06 14:37:20                                & IP Address            & 24.84.220.242            & 100                     & 34                      & True                    & 2024-03-06 14:37:21                                     & R\\_3uPoKeQUqogIL4l        &                                  & ... &                                                     &                                                                              & Not Affiliated                                &                                                             & Man                                             &                                                               & 21                                     & Learning about the financial implications of using single-use cups (i.e., cost per cup)                                                                                                              &                                                                                                                                       & Gain                            \\\\\n",
       "\t5 & 2024-03-06 15:59:14                                  & 2024-03-06 16:00:22                                & IP Address            & 108.180.201.174          & 100                     & 68                      & True                    & 2024-03-06 16:00:23                                     & R\\_65G7BrispC2eV2n        &                                  & ... & Slightly unlikely                                   & Slightly unlikely                                                            & Students                                      &                                                             & Woman                                           &                                                               & 22                                     & Learning about the financial implications of using single-use cups (i.e., cost per cup),Preferences for alternatives of single-use cup (i.e., I prefer to use my own mug)                            &                                                                                                                                       & Control                         \\\\\n",
       "\t6 & 2024-03-06 17:01:22                                  & 2024-03-06 17:04:00                                & IP Address            & 49.36.185.105            & 100                     & 158                     & True                    & 2024-03-06 17:04:01                                     & R\\_40i6X1z7fQUH2Bs        &                                  & ... &                                                     &                                                                              & Not Affiliated                                &                                                             & Woman                                           &                                                               &                                        & Preferences for alternatives of single-use cup (i.e., I prefer to use my own mug)                                                                                                                    &                                                                                                                                       & Loss                            \\\\\n",
       "\\end{tabular}\n"
      ],
      "text/markdown": [
       "\n",
       "A data.frame: 6 x 35\n",
       "\n",
       "| <!--/--> | StartDate &lt;chr&gt; | EndDate &lt;chr&gt; | Status &lt;chr&gt; | IPAddress &lt;chr&gt; | Progress &lt;chr&gt; | Duration..in.seconds. &lt;chr&gt; | Finished &lt;chr&gt; | RecordedDate &lt;chr&gt; | ResponseId &lt;chr&gt; | RecipientLastName &lt;chr&gt; | ... ... | Q3.2 &lt;chr&gt; | Q4.2 &lt;chr&gt; | Q5 &lt;chr&gt; | Q5_5_TEXT &lt;chr&gt; | Q6 &lt;chr&gt; | Q6_5_TEXT &lt;chr&gt; | Q7 &lt;chr&gt; | Q8 &lt;chr&gt; | Q8_4_TEXT &lt;chr&gt; | ConditionAssigned &lt;chr&gt; |\n",
       "|---|---|---|---|---|---|---|---|---|---|---|---|---|---|---|---|---|---|---|---|---|---|\n",
       "| 1 | Start Date                                           | End Date                                           | Response Type         | IP Address               | Progress                | Duration (in seconds)   | Finished                | Recorded Date                                           | Response ID              | Recipient Last Name              | ... | How likely are you to reduce using single use cups? | How likely are you to bring your own reusable cup when purchasing beverages? | What is your status at UBC? - Selected Choice | What is your status at UBC? - Other (please specify) - Text | What is your gender identity? - Selected Choice | What is your gender identity? - Other (please specify) - Text | What is your age? (in number of years) | What factor(s) would most likely reduce your consumption of single-use cups? (Choose all applicable answers) - Selected Choice                                                                       | What factor(s) would most likely reduce your consumption of single-use cups? (Choose all applicable answers) - Other (Specify) - Text | ConditionAssigned                |\n",
       "| 2 | {\"ImportId\":\"startDate\",\"timeZone\":\"America/Denver\"} | {\"ImportId\":\"endDate\",\"timeZone\":\"America/Denver\"} | {\"ImportId\":\"status\"} | {\"ImportId\":\"ipAddress\"} | {\"ImportId\":\"progress\"} | {\"ImportId\":\"duration\"} | {\"ImportId\":\"finished\"} | {\"ImportId\":\"recordedDate\",\"timeZone\":\"America/Denver\"} | {\"ImportId\":\"_recordId\"} | {\"ImportId\":\"recipientLastName\"} | ... | {\"ImportId\":\"QID52\"}                                | {\"ImportId\":\"QID53\"}                                                         | {\"ImportId\":\"QID22\"}                          | {\"ImportId\":\"QID22_5_TEXT\"}                                 | {\"ImportId\":\"QID24\"}                            | {\"ImportId\":\"QID24_5_TEXT\"}                                   | {\"ImportId\":\"QID23_TEXT\"}              | {\"ImportId\":\"QID32\"}                                                                                                                                                                                 | {\"ImportId\":\"QID32_4_TEXT\"}                                                                                                           | {\"ImportId\":\"ConditionAssigned\"} |\n",
       "| 3 | 2024-03-06 14:25:55                                  | 2024-03-06 14:27:13                                | IP Address            | 206.12.179.98            | 100                     | 77                      | True                    | 2024-03-06 14:27:13                                     | R_7P4M3QNUV0sz7kl        | <!----> | ... | <!----> | <!----> | Students                                      | <!----> | Woman                                           | <!----> | 21                                     | Learning about the environmental consequences associated with single-use cups (i.e,. pollution, cups used per day),Preferences for alternatives of single-use cup (i.e., I prefer to use my own mug) | <!----> | Loss                             |\n",
       "| 4 | 2024-03-06 14:36:46                                  | 2024-03-06 14:37:20                                | IP Address            | 24.84.220.242            | 100                     | 34                      | True                    | 2024-03-06 14:37:21                                     | R_3uPoKeQUqogIL4l        | <!----> | ... | <!----> | <!----> | Not Affiliated                                | <!----> | Man                                             | <!----> | 21                                     | Learning about the financial implications of using single-use cups (i.e., cost per cup)                                                                                                              | <!----> | Gain                             |\n",
       "| 5 | 2024-03-06 15:59:14                                  | 2024-03-06 16:00:22                                | IP Address            | 108.180.201.174          | 100                     | 68                      | True                    | 2024-03-06 16:00:23                                     | R_65G7BrispC2eV2n        | <!----> | ... | Slightly unlikely                                   | Slightly unlikely                                                            | Students                                      | <!----> | Woman                                           | <!----> | 22                                     | Learning about the financial implications of using single-use cups (i.e., cost per cup),Preferences for alternatives of single-use cup (i.e., I prefer to use my own mug)                            | <!----> | Control                          |\n",
       "| 6 | 2024-03-06 17:01:22                                  | 2024-03-06 17:04:00                                | IP Address            | 49.36.185.105            | 100                     | 158                     | True                    | 2024-03-06 17:04:01                                     | R_40i6X1z7fQUH2Bs        | <!----> | ... | <!----> | <!----> | Not Affiliated                                | <!----> | Woman                                           | <!----> | <!----> | Preferences for alternatives of single-use cup (i.e., I prefer to use my own mug)                                                                                                                    | <!----> | Loss                             |\n",
       "\n"
      ],
      "text/plain": [
       "  StartDate                                           \n",
       "1 Start Date                                          \n",
       "2 {\"ImportId\":\"startDate\",\"timeZone\":\"America/Denver\"}\n",
       "3 2024-03-06 14:25:55                                 \n",
       "4 2024-03-06 14:36:46                                 \n",
       "5 2024-03-06 15:59:14                                 \n",
       "6 2024-03-06 17:01:22                                 \n",
       "  EndDate                                            Status               \n",
       "1 End Date                                           Response Type        \n",
       "2 {\"ImportId\":\"endDate\",\"timeZone\":\"America/Denver\"} {\"ImportId\":\"status\"}\n",
       "3 2024-03-06 14:27:13                                IP Address           \n",
       "4 2024-03-06 14:37:20                                IP Address           \n",
       "5 2024-03-06 16:00:22                                IP Address           \n",
       "6 2024-03-06 17:04:00                                IP Address           \n",
       "  IPAddress                Progress                Duration..in.seconds.  \n",
       "1 IP Address               Progress                Duration (in seconds)  \n",
       "2 {\"ImportId\":\"ipAddress\"} {\"ImportId\":\"progress\"} {\"ImportId\":\"duration\"}\n",
       "3 206.12.179.98            100                     77                     \n",
       "4 24.84.220.242            100                     34                     \n",
       "5 108.180.201.174          100                     68                     \n",
       "6 49.36.185.105            100                     158                    \n",
       "  Finished               \n",
       "1 Finished               \n",
       "2 {\"ImportId\":\"finished\"}\n",
       "3 True                   \n",
       "4 True                   \n",
       "5 True                   \n",
       "6 True                   \n",
       "  RecordedDate                                           \n",
       "1 Recorded Date                                          \n",
       "2 {\"ImportId\":\"recordedDate\",\"timeZone\":\"America/Denver\"}\n",
       "3 2024-03-06 14:27:13                                    \n",
       "4 2024-03-06 14:37:21                                    \n",
       "5 2024-03-06 16:00:23                                    \n",
       "6 2024-03-06 17:04:01                                    \n",
       "  ResponseId               RecipientLastName                ...\n",
       "1 Response ID              Recipient Last Name              ...\n",
       "2 {\"ImportId\":\"_recordId\"} {\"ImportId\":\"recipientLastName\"} ...\n",
       "3 R_7P4M3QNUV0sz7kl                                         ...\n",
       "4 R_3uPoKeQUqogIL4l                                         ...\n",
       "5 R_65G7BrispC2eV2n                                         ...\n",
       "6 R_40i6X1z7fQUH2Bs                                         ...\n",
       "  Q3.2                                               \n",
       "1 How likely are you to reduce using single use cups?\n",
       "2 {\"ImportId\":\"QID52\"}                               \n",
       "3                                                    \n",
       "4                                                    \n",
       "5 Slightly unlikely                                  \n",
       "6                                                    \n",
       "  Q4.2                                                                        \n",
       "1 How likely are you to bring your own reusable cup when purchasing beverages?\n",
       "2 {\"ImportId\":\"QID53\"}                                                        \n",
       "3                                                                             \n",
       "4                                                                             \n",
       "5 Slightly unlikely                                                           \n",
       "6                                                                             \n",
       "  Q5                                           \n",
       "1 What is your status at UBC? - Selected Choice\n",
       "2 {\"ImportId\":\"QID22\"}                         \n",
       "3 Students                                     \n",
       "4 Not Affiliated                               \n",
       "5 Students                                     \n",
       "6 Not Affiliated                               \n",
       "  Q5_5_TEXT                                                  \n",
       "1 What is your status at UBC? - Other (please specify) - Text\n",
       "2 {\"ImportId\":\"QID22_5_TEXT\"}                                \n",
       "3                                                            \n",
       "4                                                            \n",
       "5                                                            \n",
       "6                                                            \n",
       "  Q6                                             \n",
       "1 What is your gender identity? - Selected Choice\n",
       "2 {\"ImportId\":\"QID24\"}                           \n",
       "3 Woman                                          \n",
       "4 Man                                            \n",
       "5 Woman                                          \n",
       "6 Woman                                          \n",
       "  Q6_5_TEXT                                                    \n",
       "1 What is your gender identity? - Other (please specify) - Text\n",
       "2 {\"ImportId\":\"QID24_5_TEXT\"}                                  \n",
       "3                                                              \n",
       "4                                                              \n",
       "5                                                              \n",
       "6                                                              \n",
       "  Q7                                    \n",
       "1 What is your age? (in number of years)\n",
       "2 {\"ImportId\":\"QID23_TEXT\"}             \n",
       "3 21                                    \n",
       "4 21                                    \n",
       "5 22                                    \n",
       "6                                       \n",
       "  Q8                                                                                                                                                                                                  \n",
       "1 What factor(s) would most likely reduce your consumption of single-use cups? (Choose all applicable answers) - Selected Choice                                                                      \n",
       "2 {\"ImportId\":\"QID32\"}                                                                                                                                                                                \n",
       "3 Learning about the environmental consequences associated with single-use cups (i.e,. pollution, cups used per day),Preferences for alternatives of single-use cup (i.e., I prefer to use my own mug)\n",
       "4 Learning about the financial implications of using single-use cups (i.e., cost per cup)                                                                                                             \n",
       "5 Learning about the financial implications of using single-use cups (i.e., cost per cup),Preferences for alternatives of single-use cup (i.e., I prefer to use my own mug)                           \n",
       "6 Preferences for alternatives of single-use cup (i.e., I prefer to use my own mug)                                                                                                                   \n",
       "  Q8_4_TEXT                                                                                                                            \n",
       "1 What factor(s) would most likely reduce your consumption of single-use cups? (Choose all applicable answers) - Other (Specify) - Text\n",
       "2 {\"ImportId\":\"QID32_4_TEXT\"}                                                                                                          \n",
       "3                                                                                                                                      \n",
       "4                                                                                                                                      \n",
       "5                                                                                                                                      \n",
       "6                                                                                                                                      \n",
       "  ConditionAssigned               \n",
       "1 ConditionAssigned               \n",
       "2 {\"ImportId\":\"ConditionAssigned\"}\n",
       "3 Loss                            \n",
       "4 Gain                            \n",
       "5 Control                         \n",
       "6 Loss                            "
      ]
     },
     "metadata": {},
     "output_type": "display_data"
    }
   ],
   "source": [
    "# Load the CSV file\n",
    "survey_data <- read.csv(\"../data/raw/2023-04-18_text_PSYC421-Single-Use-Cup.csv\", stringsAsFactors = FALSE)\n",
    "\n",
    "# View the first few rows of the data frame\n",
    "head(survey_data)"
   ]
  },
  {
   "cell_type": "code",
   "execution_count": 3,
   "metadata": {
    "vscode": {
     "languageId": "r"
    }
   },
   "outputs": [
    {
     "data": {
      "text/html": [
       "<style>\n",
       ".list-inline {list-style: none; margin:0; padding: 0}\n",
       ".list-inline>li {display: inline-block}\n",
       ".list-inline>li:not(:last-child)::after {content: \"\\00b7\"; padding: 0 .5ex}\n",
       "</style>\n",
       "<ol class=list-inline><li>'StartDate'</li><li>'EndDate'</li><li>'Status'</li><li>'IPAddress'</li><li>'Progress'</li><li>'Duration..in.seconds.'</li><li>'Finished'</li><li>'RecordedDate'</li><li>'ResponseId'</li><li>'RecipientLastName'</li><li>'RecipientFirstName'</li><li>'RecipientEmail'</li><li>'ExternalReference'</li><li>'LocationLatitude'</li><li>'LocationLongitude'</li><li>'DistributionChannel'</li><li>'UserLanguage'</li><li>'Consent.Form'</li><li>'Q2'</li><li>'Q3'</li><li>'Q4'</li><li>'Q2.1'</li><li>'Q3.1'</li><li>'Q4.1'</li><li>'Q2.2'</li><li>'Q3.2'</li><li>'Q4.2'</li><li>'Q5'</li><li>'Q5_5_TEXT'</li><li>'Q6'</li><li>'Q6_5_TEXT'</li><li>'Q7'</li><li>'Q8'</li><li>'Q8_4_TEXT'</li><li>'ConditionAssigned'</li></ol>\n"
      ],
      "text/latex": [
       "\\begin{enumerate*}\n",
       "\\item 'StartDate'\n",
       "\\item 'EndDate'\n",
       "\\item 'Status'\n",
       "\\item 'IPAddress'\n",
       "\\item 'Progress'\n",
       "\\item 'Duration..in.seconds.'\n",
       "\\item 'Finished'\n",
       "\\item 'RecordedDate'\n",
       "\\item 'ResponseId'\n",
       "\\item 'RecipientLastName'\n",
       "\\item 'RecipientFirstName'\n",
       "\\item 'RecipientEmail'\n",
       "\\item 'ExternalReference'\n",
       "\\item 'LocationLatitude'\n",
       "\\item 'LocationLongitude'\n",
       "\\item 'DistributionChannel'\n",
       "\\item 'UserLanguage'\n",
       "\\item 'Consent.Form'\n",
       "\\item 'Q2'\n",
       "\\item 'Q3'\n",
       "\\item 'Q4'\n",
       "\\item 'Q2.1'\n",
       "\\item 'Q3.1'\n",
       "\\item 'Q4.1'\n",
       "\\item 'Q2.2'\n",
       "\\item 'Q3.2'\n",
       "\\item 'Q4.2'\n",
       "\\item 'Q5'\n",
       "\\item 'Q5\\_5\\_TEXT'\n",
       "\\item 'Q6'\n",
       "\\item 'Q6\\_5\\_TEXT'\n",
       "\\item 'Q7'\n",
       "\\item 'Q8'\n",
       "\\item 'Q8\\_4\\_TEXT'\n",
       "\\item 'ConditionAssigned'\n",
       "\\end{enumerate*}\n"
      ],
      "text/markdown": [
       "1. 'StartDate'\n",
       "2. 'EndDate'\n",
       "3. 'Status'\n",
       "4. 'IPAddress'\n",
       "5. 'Progress'\n",
       "6. 'Duration..in.seconds.'\n",
       "7. 'Finished'\n",
       "8. 'RecordedDate'\n",
       "9. 'ResponseId'\n",
       "10. 'RecipientLastName'\n",
       "11. 'RecipientFirstName'\n",
       "12. 'RecipientEmail'\n",
       "13. 'ExternalReference'\n",
       "14. 'LocationLatitude'\n",
       "15. 'LocationLongitude'\n",
       "16. 'DistributionChannel'\n",
       "17. 'UserLanguage'\n",
       "18. 'Consent.Form'\n",
       "19. 'Q2'\n",
       "20. 'Q3'\n",
       "21. 'Q4'\n",
       "22. 'Q2.1'\n",
       "23. 'Q3.1'\n",
       "24. 'Q4.1'\n",
       "25. 'Q2.2'\n",
       "26. 'Q3.2'\n",
       "27. 'Q4.2'\n",
       "28. 'Q5'\n",
       "29. 'Q5_5_TEXT'\n",
       "30. 'Q6'\n",
       "31. 'Q6_5_TEXT'\n",
       "32. 'Q7'\n",
       "33. 'Q8'\n",
       "34. 'Q8_4_TEXT'\n",
       "35. 'ConditionAssigned'\n",
       "\n",
       "\n"
      ],
      "text/plain": [
       " [1] \"StartDate\"             \"EndDate\"               \"Status\"               \n",
       " [4] \"IPAddress\"             \"Progress\"              \"Duration..in.seconds.\"\n",
       " [7] \"Finished\"              \"RecordedDate\"          \"ResponseId\"           \n",
       "[10] \"RecipientLastName\"     \"RecipientFirstName\"    \"RecipientEmail\"       \n",
       "[13] \"ExternalReference\"     \"LocationLatitude\"      \"LocationLongitude\"    \n",
       "[16] \"DistributionChannel\"   \"UserLanguage\"          \"Consent.Form\"         \n",
       "[19] \"Q2\"                    \"Q3\"                    \"Q4\"                   \n",
       "[22] \"Q2.1\"                  \"Q3.1\"                  \"Q4.1\"                 \n",
       "[25] \"Q2.2\"                  \"Q3.2\"                  \"Q4.2\"                 \n",
       "[28] \"Q5\"                    \"Q5_5_TEXT\"             \"Q6\"                   \n",
       "[31] \"Q6_5_TEXT\"             \"Q7\"                    \"Q8\"                   \n",
       "[34] \"Q8_4_TEXT\"             \"ConditionAssigned\"    "
      ]
     },
     "metadata": {},
     "output_type": "display_data"
    }
   ],
   "source": [
    "# Get the columns in the survey\n",
    "column_names <- names(survey_data)\n",
    "column_names\n"
   ]
  },
  {
   "cell_type": "code",
   "execution_count": 4,
   "metadata": {
    "vscode": {
     "languageId": "r"
    }
   },
   "outputs": [],
   "source": [
    "filter_df <- dplyr::select(survey_data, \n",
    "  `Duration..in.seconds.`, `Finished`, `ResponseId`, \n",
    "  `Q2`, `Q3`, `Q4`, \n",
    "  `Q2.1`, `Q3.1`, `Q4.1`, \n",
    "  `Q2.2`, `Q3.2`, `Q4.2`, \n",
    "  `Q5`, `Q5_5_TEXT`, `Q6`, `Q6_5_TEXT`, `Q7`, `Q8`, `Q8_4_TEXT`, \n",
    "  `ConditionAssigned`\n",
    ")\n"
   ]
  },
  {
   "cell_type": "code",
   "execution_count": 5,
   "metadata": {
    "vscode": {
     "languageId": "r"
    }
   },
   "outputs": [
    {
     "data": {
      "text/html": [
       "<table class=\"dataframe\">\n",
       "<caption>A data.frame: 6 x 20</caption>\n",
       "<thead>\n",
       "\t<tr><th></th><th scope=col>Duration..in.seconds.</th><th scope=col>Finished</th><th scope=col>ResponseId</th><th scope=col>Q2</th><th scope=col>Q3</th><th scope=col>Q4</th><th scope=col>Q2.1</th><th scope=col>Q3.1</th><th scope=col>Q4.1</th><th scope=col>Q2.2</th><th scope=col>Q3.2</th><th scope=col>Q4.2</th><th scope=col>Q5</th><th scope=col>Q5_5_TEXT</th><th scope=col>Q6</th><th scope=col>Q6_5_TEXT</th><th scope=col>Q7</th><th scope=col>Q8</th><th scope=col>Q8_4_TEXT</th><th scope=col>ConditionAssigned</th></tr>\n",
       "\t<tr><th></th><th scope=col>&lt;chr&gt;</th><th scope=col>&lt;chr&gt;</th><th scope=col>&lt;chr&gt;</th><th scope=col>&lt;chr&gt;</th><th scope=col>&lt;chr&gt;</th><th scope=col>&lt;chr&gt;</th><th scope=col>&lt;chr&gt;</th><th scope=col>&lt;chr&gt;</th><th scope=col>&lt;chr&gt;</th><th scope=col>&lt;chr&gt;</th><th scope=col>&lt;chr&gt;</th><th scope=col>&lt;chr&gt;</th><th scope=col>&lt;chr&gt;</th><th scope=col>&lt;chr&gt;</th><th scope=col>&lt;chr&gt;</th><th scope=col>&lt;chr&gt;</th><th scope=col>&lt;chr&gt;</th><th scope=col>&lt;chr&gt;</th><th scope=col>&lt;chr&gt;</th><th scope=col>&lt;chr&gt;</th></tr>\n",
       "</thead>\n",
       "<tbody>\n",
       "\t<tr><th scope=row>1</th><td>Duration (in seconds)</td><td>Finished</td><td>Response ID      </td><td>How surprising was the above information?</td><td>How likely are you to reduce using single use cups?</td><td>How likely are you to bring your own reusable cup when purchasing beverages?</td><td>How surprising was the above information?</td><td>How likely are you to reduce using single use cups?</td><td>How likely are you to bring your own reusable cup when purchasing beverages?</td><td>How surprising was the above information?</td><td>How likely are you to reduce using single use cups?</td><td>How likely are you to bring your own reusable cup when purchasing beverages?</td><td>What is your status at UBC? - Selected Choice</td><td>What is your status at UBC? - Other (please specify) - Text</td><td>What is your gender identity? - Selected Choice</td><td>What is your gender identity? - Other (please specify) - Text</td><td>What is your age? (in number of years)</td><td>What factor(s) would most likely reduce your consumption of single-use cups? (Choose all applicable answers) - Selected Choice                                                                      </td><td>What factor(s) would most likely reduce your consumption of single-use cups? (Choose all applicable answers) - Other (Specify) - Text</td><td>ConditionAssigned</td></tr>\n",
       "\t<tr><th scope=row>3</th><td>77                   </td><td>True    </td><td>R_7P4M3QNUV0sz7kl</td><td>                                         </td><td>                                                   </td><td>                                                                            </td><td>Extremely unsurprising                   </td><td>Slightly unlikely                                  </td><td>Slightly likely                                                             </td><td>                                         </td><td>                                                   </td><td>                                                                            </td><td>Students                                     </td><td>                                                           </td><td>Woman                                          </td><td>                                                             </td><td>21                                    </td><td>Learning about the environmental consequences associated with single-use cups (i.e,. pollution, cups used per day),Preferences for alternatives of single-use cup (i.e., I prefer to use my own mug)</td><td>                                                                                                                                     </td><td>Loss             </td></tr>\n",
       "\t<tr><th scope=row>4</th><td>34                   </td><td>True    </td><td>R_3uPoKeQUqogIL4l</td><td>Slightly surprising                      </td><td>Moderately unlikely                                </td><td>Moderately unlikely                                                         </td><td>                                         </td><td>                                                   </td><td>                                                                            </td><td>                                         </td><td>                                                   </td><td>                                                                            </td><td>Not Affiliated                               </td><td>                                                           </td><td>Man                                            </td><td>                                                             </td><td>21                                    </td><td>Learning about the financial implications of using single-use cups (i.e., cost per cup)                                                                                                             </td><td>                                                                                                                                     </td><td>Gain             </td></tr>\n",
       "\t<tr><th scope=row>5</th><td>68                   </td><td>True    </td><td>R_65G7BrispC2eV2n</td><td>                                         </td><td>                                                   </td><td>                                                                            </td><td>                                         </td><td>                                                   </td><td>                                                                            </td><td>Slightly surprising                      </td><td>Slightly unlikely                                  </td><td>Slightly unlikely                                                           </td><td>Students                                     </td><td>                                                           </td><td>Woman                                          </td><td>                                                             </td><td>22                                    </td><td>Learning about the financial implications of using single-use cups (i.e., cost per cup),Preferences for alternatives of single-use cup (i.e., I prefer to use my own mug)                           </td><td>                                                                                                                                     </td><td>Control          </td></tr>\n",
       "\t<tr><th scope=row>6</th><td>158                  </td><td>True    </td><td>R_40i6X1z7fQUH2Bs</td><td>                                         </td><td>                                                   </td><td>                                                                            </td><td>Moderately unsurprising                  </td><td>Moderately likely                                  </td><td>Slightly likely                                                             </td><td>                                         </td><td>                                                   </td><td>                                                                            </td><td>Not Affiliated                               </td><td>                                                           </td><td>Woman                                          </td><td>                                                             </td><td>                                      </td><td>Preferences for alternatives of single-use cup (i.e., I prefer to use my own mug)                                                                                                                   </td><td>                                                                                                                                     </td><td>Loss             </td></tr>\n",
       "\t<tr><th scope=row>7</th><td>91                   </td><td>True    </td><td>R_1k0T1HeuJsmtdQm</td><td>Slightly surprising                      </td><td>Slightly unlikely                                  </td><td>Slightly unlikely                                                           </td><td>                                         </td><td>                                                   </td><td>                                                                            </td><td>                                         </td><td>                                                   </td><td>                                                                            </td><td>Students                                     </td><td>                                                           </td><td>Man                                            </td><td>                                                             </td><td>21                                    </td><td>Learning about the financial implications of using single-use cups (i.e., cost per cup)                                                                                                             </td><td>                                                                                                                                     </td><td>Gain             </td></tr>\n",
       "</tbody>\n",
       "</table>\n"
      ],
      "text/latex": [
       "A data.frame: 6 x 20\n",
       "\\begin{tabular}{r|llllllllllllllllllll}\n",
       "  & Duration..in.seconds. & Finished & ResponseId & Q2 & Q3 & Q4 & Q2.1 & Q3.1 & Q4.1 & Q2.2 & Q3.2 & Q4.2 & Q5 & Q5\\_5\\_TEXT & Q6 & Q6\\_5\\_TEXT & Q7 & Q8 & Q8\\_4\\_TEXT & ConditionAssigned\\\\\n",
       "  & <chr> & <chr> & <chr> & <chr> & <chr> & <chr> & <chr> & <chr> & <chr> & <chr> & <chr> & <chr> & <chr> & <chr> & <chr> & <chr> & <chr> & <chr> & <chr> & <chr>\\\\\n",
       "\\hline\n",
       "\t1 & Duration (in seconds) & Finished & Response ID       & How surprising was the above information? & How likely are you to reduce using single use cups? & How likely are you to bring your own reusable cup when purchasing beverages? & How surprising was the above information? & How likely are you to reduce using single use cups? & How likely are you to bring your own reusable cup when purchasing beverages? & How surprising was the above information? & How likely are you to reduce using single use cups? & How likely are you to bring your own reusable cup when purchasing beverages? & What is your status at UBC? - Selected Choice & What is your status at UBC? - Other (please specify) - Text & What is your gender identity? - Selected Choice & What is your gender identity? - Other (please specify) - Text & What is your age? (in number of years) & What factor(s) would most likely reduce your consumption of single-use cups? (Choose all applicable answers) - Selected Choice                                                                       & What factor(s) would most likely reduce your consumption of single-use cups? (Choose all applicable answers) - Other (Specify) - Text & ConditionAssigned\\\\\n",
       "\t3 & 77                    & True     & R\\_7P4M3QNUV0sz7kl &                                           &                                                     &                                                                              & Extremely unsurprising                    & Slightly unlikely                                   & Slightly likely                                                              &                                           &                                                     &                                                                              & Students                                      &                                                             & Woman                                           &                                                               & 21                                     & Learning about the environmental consequences associated with single-use cups (i.e,. pollution, cups used per day),Preferences for alternatives of single-use cup (i.e., I prefer to use my own mug) &                                                                                                                                       & Loss             \\\\\n",
       "\t4 & 34                    & True     & R\\_3uPoKeQUqogIL4l & Slightly surprising                       & Moderately unlikely                                 & Moderately unlikely                                                          &                                           &                                                     &                                                                              &                                           &                                                     &                                                                              & Not Affiliated                                &                                                             & Man                                             &                                                               & 21                                     & Learning about the financial implications of using single-use cups (i.e., cost per cup)                                                                                                              &                                                                                                                                       & Gain             \\\\\n",
       "\t5 & 68                    & True     & R\\_65G7BrispC2eV2n &                                           &                                                     &                                                                              &                                           &                                                     &                                                                              & Slightly surprising                       & Slightly unlikely                                   & Slightly unlikely                                                            & Students                                      &                                                             & Woman                                           &                                                               & 22                                     & Learning about the financial implications of using single-use cups (i.e., cost per cup),Preferences for alternatives of single-use cup (i.e., I prefer to use my own mug)                            &                                                                                                                                       & Control          \\\\\n",
       "\t6 & 158                   & True     & R\\_40i6X1z7fQUH2Bs &                                           &                                                     &                                                                              & Moderately unsurprising                   & Moderately likely                                   & Slightly likely                                                              &                                           &                                                     &                                                                              & Not Affiliated                                &                                                             & Woman                                           &                                                               &                                        & Preferences for alternatives of single-use cup (i.e., I prefer to use my own mug)                                                                                                                    &                                                                                                                                       & Loss             \\\\\n",
       "\t7 & 91                    & True     & R\\_1k0T1HeuJsmtdQm & Slightly surprising                       & Slightly unlikely                                   & Slightly unlikely                                                            &                                           &                                                     &                                                                              &                                           &                                                     &                                                                              & Students                                      &                                                             & Man                                             &                                                               & 21                                     & Learning about the financial implications of using single-use cups (i.e., cost per cup)                                                                                                              &                                                                                                                                       & Gain             \\\\\n",
       "\\end{tabular}\n"
      ],
      "text/markdown": [
       "\n",
       "A data.frame: 6 x 20\n",
       "\n",
       "| <!--/--> | Duration..in.seconds. &lt;chr&gt; | Finished &lt;chr&gt; | ResponseId &lt;chr&gt; | Q2 &lt;chr&gt; | Q3 &lt;chr&gt; | Q4 &lt;chr&gt; | Q2.1 &lt;chr&gt; | Q3.1 &lt;chr&gt; | Q4.1 &lt;chr&gt; | Q2.2 &lt;chr&gt; | Q3.2 &lt;chr&gt; | Q4.2 &lt;chr&gt; | Q5 &lt;chr&gt; | Q5_5_TEXT &lt;chr&gt; | Q6 &lt;chr&gt; | Q6_5_TEXT &lt;chr&gt; | Q7 &lt;chr&gt; | Q8 &lt;chr&gt; | Q8_4_TEXT &lt;chr&gt; | ConditionAssigned &lt;chr&gt; |\n",
       "|---|---|---|---|---|---|---|---|---|---|---|---|---|---|---|---|---|---|---|---|---|\n",
       "| 1 | Duration (in seconds) | Finished | Response ID       | How surprising was the above information? | How likely are you to reduce using single use cups? | How likely are you to bring your own reusable cup when purchasing beverages? | How surprising was the above information? | How likely are you to reduce using single use cups? | How likely are you to bring your own reusable cup when purchasing beverages? | How surprising was the above information? | How likely are you to reduce using single use cups? | How likely are you to bring your own reusable cup when purchasing beverages? | What is your status at UBC? - Selected Choice | What is your status at UBC? - Other (please specify) - Text | What is your gender identity? - Selected Choice | What is your gender identity? - Other (please specify) - Text | What is your age? (in number of years) | What factor(s) would most likely reduce your consumption of single-use cups? (Choose all applicable answers) - Selected Choice                                                                       | What factor(s) would most likely reduce your consumption of single-use cups? (Choose all applicable answers) - Other (Specify) - Text | ConditionAssigned |\n",
       "| 3 | 77                    | True     | R_7P4M3QNUV0sz7kl | <!----> | <!----> | <!----> | Extremely unsurprising                    | Slightly unlikely                                   | Slightly likely                                                              | <!----> | <!----> | <!----> | Students                                      | <!----> | Woman                                           | <!----> | 21                                     | Learning about the environmental consequences associated with single-use cups (i.e,. pollution, cups used per day),Preferences for alternatives of single-use cup (i.e., I prefer to use my own mug) | <!----> | Loss              |\n",
       "| 4 | 34                    | True     | R_3uPoKeQUqogIL4l | Slightly surprising                       | Moderately unlikely                                 | Moderately unlikely                                                          | <!----> | <!----> | <!----> | <!----> | <!----> | <!----> | Not Affiliated                                | <!----> | Man                                             | <!----> | 21                                     | Learning about the financial implications of using single-use cups (i.e., cost per cup)                                                                                                              | <!----> | Gain              |\n",
       "| 5 | 68                    | True     | R_65G7BrispC2eV2n | <!----> | <!----> | <!----> | <!----> | <!----> | <!----> | Slightly surprising                       | Slightly unlikely                                   | Slightly unlikely                                                            | Students                                      | <!----> | Woman                                           | <!----> | 22                                     | Learning about the financial implications of using single-use cups (i.e., cost per cup),Preferences for alternatives of single-use cup (i.e., I prefer to use my own mug)                            | <!----> | Control           |\n",
       "| 6 | 158                   | True     | R_40i6X1z7fQUH2Bs | <!----> | <!----> | <!----> | Moderately unsurprising                   | Moderately likely                                   | Slightly likely                                                              | <!----> | <!----> | <!----> | Not Affiliated                                | <!----> | Woman                                           | <!----> | <!----> | Preferences for alternatives of single-use cup (i.e., I prefer to use my own mug)                                                                                                                    | <!----> | Loss              |\n",
       "| 7 | 91                    | True     | R_1k0T1HeuJsmtdQm | Slightly surprising                       | Slightly unlikely                                   | Slightly unlikely                                                            | <!----> | <!----> | <!----> | <!----> | <!----> | <!----> | Students                                      | <!----> | Man                                             | <!----> | 21                                     | Learning about the financial implications of using single-use cups (i.e., cost per cup)                                                                                                              | <!----> | Gain              |\n",
       "\n"
      ],
      "text/plain": [
       "  Duration..in.seconds. Finished ResponseId       \n",
       "1 Duration (in seconds) Finished Response ID      \n",
       "3 77                    True     R_7P4M3QNUV0sz7kl\n",
       "4 34                    True     R_3uPoKeQUqogIL4l\n",
       "5 68                    True     R_65G7BrispC2eV2n\n",
       "6 158                   True     R_40i6X1z7fQUH2Bs\n",
       "7 91                    True     R_1k0T1HeuJsmtdQm\n",
       "  Q2                                       \n",
       "1 How surprising was the above information?\n",
       "3                                          \n",
       "4 Slightly surprising                      \n",
       "5                                          \n",
       "6                                          \n",
       "7 Slightly surprising                      \n",
       "  Q3                                                 \n",
       "1 How likely are you to reduce using single use cups?\n",
       "3                                                    \n",
       "4 Moderately unlikely                                \n",
       "5                                                    \n",
       "6                                                    \n",
       "7 Slightly unlikely                                  \n",
       "  Q4                                                                          \n",
       "1 How likely are you to bring your own reusable cup when purchasing beverages?\n",
       "3                                                                             \n",
       "4 Moderately unlikely                                                         \n",
       "5                                                                             \n",
       "6                                                                             \n",
       "7 Slightly unlikely                                                           \n",
       "  Q2.1                                     \n",
       "1 How surprising was the above information?\n",
       "3 Extremely unsurprising                   \n",
       "4                                          \n",
       "5                                          \n",
       "6 Moderately unsurprising                  \n",
       "7                                          \n",
       "  Q3.1                                               \n",
       "1 How likely are you to reduce using single use cups?\n",
       "3 Slightly unlikely                                  \n",
       "4                                                    \n",
       "5                                                    \n",
       "6 Moderately likely                                  \n",
       "7                                                    \n",
       "  Q4.1                                                                        \n",
       "1 How likely are you to bring your own reusable cup when purchasing beverages?\n",
       "3 Slightly likely                                                             \n",
       "4                                                                             \n",
       "5                                                                             \n",
       "6 Slightly likely                                                             \n",
       "7                                                                             \n",
       "  Q2.2                                     \n",
       "1 How surprising was the above information?\n",
       "3                                          \n",
       "4                                          \n",
       "5 Slightly surprising                      \n",
       "6                                          \n",
       "7                                          \n",
       "  Q3.2                                               \n",
       "1 How likely are you to reduce using single use cups?\n",
       "3                                                    \n",
       "4                                                    \n",
       "5 Slightly unlikely                                  \n",
       "6                                                    \n",
       "7                                                    \n",
       "  Q4.2                                                                        \n",
       "1 How likely are you to bring your own reusable cup when purchasing beverages?\n",
       "3                                                                             \n",
       "4                                                                             \n",
       "5 Slightly unlikely                                                           \n",
       "6                                                                             \n",
       "7                                                                             \n",
       "  Q5                                           \n",
       "1 What is your status at UBC? - Selected Choice\n",
       "3 Students                                     \n",
       "4 Not Affiliated                               \n",
       "5 Students                                     \n",
       "6 Not Affiliated                               \n",
       "7 Students                                     \n",
       "  Q5_5_TEXT                                                  \n",
       "1 What is your status at UBC? - Other (please specify) - Text\n",
       "3                                                            \n",
       "4                                                            \n",
       "5                                                            \n",
       "6                                                            \n",
       "7                                                            \n",
       "  Q6                                             \n",
       "1 What is your gender identity? - Selected Choice\n",
       "3 Woman                                          \n",
       "4 Man                                            \n",
       "5 Woman                                          \n",
       "6 Woman                                          \n",
       "7 Man                                            \n",
       "  Q6_5_TEXT                                                    \n",
       "1 What is your gender identity? - Other (please specify) - Text\n",
       "3                                                              \n",
       "4                                                              \n",
       "5                                                              \n",
       "6                                                              \n",
       "7                                                              \n",
       "  Q7                                    \n",
       "1 What is your age? (in number of years)\n",
       "3 21                                    \n",
       "4 21                                    \n",
       "5 22                                    \n",
       "6                                       \n",
       "7 21                                    \n",
       "  Q8                                                                                                                                                                                                  \n",
       "1 What factor(s) would most likely reduce your consumption of single-use cups? (Choose all applicable answers) - Selected Choice                                                                      \n",
       "3 Learning about the environmental consequences associated with single-use cups (i.e,. pollution, cups used per day),Preferences for alternatives of single-use cup (i.e., I prefer to use my own mug)\n",
       "4 Learning about the financial implications of using single-use cups (i.e., cost per cup)                                                                                                             \n",
       "5 Learning about the financial implications of using single-use cups (i.e., cost per cup),Preferences for alternatives of single-use cup (i.e., I prefer to use my own mug)                           \n",
       "6 Preferences for alternatives of single-use cup (i.e., I prefer to use my own mug)                                                                                                                   \n",
       "7 Learning about the financial implications of using single-use cups (i.e., cost per cup)                                                                                                             \n",
       "  Q8_4_TEXT                                                                                                                            \n",
       "1 What factor(s) would most likely reduce your consumption of single-use cups? (Choose all applicable answers) - Other (Specify) - Text\n",
       "3                                                                                                                                      \n",
       "4                                                                                                                                      \n",
       "5                                                                                                                                      \n",
       "6                                                                                                                                      \n",
       "7                                                                                                                                      \n",
       "  ConditionAssigned\n",
       "1 ConditionAssigned\n",
       "3 Loss             \n",
       "4 Gain             \n",
       "5 Control          \n",
       "6 Loss             \n",
       "7 Gain             "
      ]
     },
     "metadata": {},
     "output_type": "display_data"
    }
   ],
   "source": [
    "# Remove the second row as this additional data is not needed\n",
    "df_cleaned <- filter_df[-2, ]\n",
    "# View the first few rows to confirm removal\n",
    "head(df_cleaned)"
   ]
  },
  {
   "cell_type": "code",
   "execution_count": 6,
   "metadata": {
    "vscode": {
     "languageId": "r"
    }
   },
   "outputs": [],
   "source": [
    "# Specify the path and filename and add to processed data\n",
    "output_path <- \"../data/processed/df_cleaned_text.csv\"\n",
    "\n",
    "# Write the dataframe to a CSV file\n",
    "write.csv(df_cleaned, output_path, row.names = FALSE)\n"
   ]
  },
  {
   "cell_type": "code",
   "execution_count": 7,
   "metadata": {
    "vscode": {
     "languageId": "r"
    }
   },
   "outputs": [],
   "source": [
    "q5_counts <- df_cleaned %>%\n",
    "  filter(Q5 != \"\", Q5 != \"What is your status at UBC? - Selected Choice\") %>%\n",
    "  count(Q5, name = \"Count\") %>%\n",
    "  arrange(desc(Count))"
   ]
  },
  {
   "cell_type": "markdown",
   "metadata": {},
   "source": [
    "What is your status at UBC?\n",
    "\n",
    "|Status                 | Count|\n",
    "|:----------------------|-----:|\n",
    "|Students               |   121|\n",
    "|Not Affiliated         |    21|\n",
    "|Other (please specify) |     6|\n",
    "|Staff                  |     2|\n",
    "|Faculty Member         |     1|"
   ]
  },
  {
   "cell_type": "code",
   "execution_count": 8,
   "metadata": {
    "vscode": {
     "languageId": "r"
    }
   },
   "outputs": [
    {
     "data": {
      "image/png": "[encoded data removed]",
      "text/plain": [
       "plot without title"
      ]
     },
     "metadata": {
      "image/png": {
       "height": 420,
       "width": 420
      }
     },
     "output_type": "display_data"
    }
   ],
   "source": [
    "plot = ggplot(q5_counts, aes(x = reorder(Q5, -Count), y = Count, fill = Q5)) +\n",
    "    geom_col() +\n",
    "    coord_flip() + # Flip coordinates for horizontal bars\n",
    "    labs(title = \"Count of Responses by Status at UBC\",\n",
    "        x = \"Status at UBC\",\n",
    "        y = \"Count\") +\n",
    "    theme_minimal() +\n",
    "    theme(legend.title = element_blank(), # Remove legend title\n",
    "        legend.position = \"none\") # Remove legend if not needed\n",
    "plot + geom_text(aes(label = Count), position = position_dodge(width = 0.9), hjust = -0.1, size = 3.5)"
   ]
  },
  {
   "cell_type": "code",
   "execution_count": 9,
   "metadata": {
    "vscode": {
     "languageId": "r"
    }
   },
   "outputs": [],
   "source": [
    "q8_counts_ordered <- df_cleaned %>%\n",
    "  count(Q8, name = \"Count\") %>%\n",
    "  arrange(desc(Count)) # Use arrange(Count) for ascending order"
   ]
  },
  {
   "cell_type": "code",
   "execution_count": 10,
   "metadata": {
    "vscode": {
     "languageId": "r"
    }
   },
   "outputs": [],
   "source": [
    "q8_counts_ordered <- df_cleaned %>%\n",
    "  # Remove rows where Q8 is empty or has a placeholder text\n",
    "  filter(Q8 != \"\", Q8 != \"What factor(s) would most likely reduce your consumption of single-use cups? (Choose all applicable answers) - Selected Choice\") %>%\n",
    "  count(Q8, name = \"Count\") %>%\n",
    "  arrange(desc(Count)) # Use arrange(Count) for ascending order"
   ]
  },
  {
   "cell_type": "markdown",
   "metadata": {},
   "source": [
    "\n",
    "What factor(s) would most likely reduce your consumption of single-use cups? (Choose all applicable answers)\n",
    "|Question                                                                                                                                                                                                                                                                                                           | Count|\n",
    "|:------------------------------------------------------------------------------------------------------------------------------------------------------------------------------------------------------------------------------------------------------------------------------------------------------------|-----:|\n",
    "|Learning about the environmental consequences associated with single-use cups (i.e,. pollution, cups used per day),Learning about the financial implications of using single-use cups (i.e., cost per cup)                                                                                                   |    27|\n",
    "|Learning about the environmental consequences associated with single-use cups (i.e,. pollution, cups used per day),Learning about the financial implications of using single-use cups (i.e., cost per cup),Preferences for alternatives of single-use cup (i.e., I prefer to use my own mug)                 |    25|\n",
    "|Preferences for alternatives of single-use cup (i.e., I prefer to use my own mug)                                                                                                                                                                                                                            |    22|\n",
    "|Learning about the environmental consequences associated with single-use cups (i.e,. pollution, cups used per day)                                                                                                                                                                                           |    20|\n",
    "|Learning about the financial implications of using single-use cups (i.e., cost per cup)                                                                                                                                                                                                                      |    20|\n",
    "|Other (Specify)                                                                                                                                                                                                                                                                                              |    13|\n",
    "|Learning about the financial implications of using single-use cups (i.e., cost per cup),Preferences for alternatives of single-use cup (i.e., I prefer to use my own mug)                                                                                                                                    |    10|\n",
    "|Learning about the environmental consequences associated with single-use cups (i.e,. pollution, cups used per day),Preferences for alternatives of single-use cup (i.e., I prefer to use my own mug)                                                                                                         |     8|\n",
    "|Learning about the environmental consequences associated with single-use cups (i.e,. pollution, cups used per day),Learning about the financial implications of using single-use cups (i.e., cost per cup),Preferences for alternatives of single-use cup (i.e., I prefer to use my own mug),Other (Specify) |     2|\n",
    "|Learning about the financial implications of using single-use cups (i.e., cost per cup),Other (Specify)                                                                                                                                                                                                      |     2|\n",
    "|Learning about the environmental consequences associated with single-use cups (i.e,. pollution, cups used per day),Other (Specify)                                                                                                                                                                           |     1|\n",
    "|Preferences for alternatives of single-use cup (i.e., I prefer to use my own mug),Other (Specify)                                                                                                                                                                                                            |     1|"
   ]
  },
  {
   "cell_type": "code",
   "execution_count": 11,
   "metadata": {
    "vscode": {
     "languageId": "r"
    }
   },
   "outputs": [
    {
     "name": "stdout",
     "output_type": "stream",
     "text": [
      "\u001b[90m# A tibble: 4 x 2\u001b[39m\n",
      "  Category                     Count\n",
      "  \u001b[3m\u001b[90m<chr>\u001b[39m\u001b[23m                        \u001b[3m\u001b[90m<int>\u001b[39m\u001b[23m\n",
      "\u001b[90m1\u001b[39m Financial Implications          86\n",
      "\u001b[90m2\u001b[39m Environmental Consequences      83\n",
      "\u001b[90m3\u001b[39m Preferences for Alternatives    68\n",
      "\u001b[90m4\u001b[39m Other (Specify)                 19\n"
     ]
    }
   ],
   "source": [
    "individual_responses <- df_cleaned %>%\n",
    "  # Separate multiple responses into individual rows\n",
    "  separate_rows(Q8, sep = \",\") %>%\n",
    "  # Trim whitespace to ensure accurate matching\n",
    "  mutate(Q8 = trimws(Q8))\n",
    "\n",
    "# Create a new column to categorize responses based on keywords\n",
    "categorized_responses <- individual_responses %>%\n",
    "  mutate(Category = case_when(\n",
    "    str_detect(Q8, \"environmental consequences\") ~ \"Environmental Consequences\",\n",
    "    str_detect(Q8, \"financial implications\") ~ \"Financial Implications\",\n",
    "    str_detect(Q8, \"Preferences for alternatives\") ~ \"Preferences for Alternatives\",\n",
    "    str_detect(Q8, \"Other\") ~ \"Other (Specify)\",\n",
    "    TRUE ~ \"Other\"\n",
    "  )) %>%\n",
    "  count(Category, name = \"Count\") %>%\n",
    "  filter(Category != \"Other\") %>%\n",
    "  arrange(desc(Count))\n",
    "\n",
    "# To view the categorized and counted responses\n",
    "print(categorized_responses)"
   ]
  },
  {
   "cell_type": "markdown",
   "metadata": {},
   "source": [
    "Table: What factor(s) would most likely reduce your consumption of single-use cups?\n",
    "\n",
    "|Category                                                   | Count|\n",
    "|:----------------------------------------------------------|-----:|\n",
    "|Financial Implications Associated with Single-Use Cups     |    86|\n",
    "|Environmental Consequences Associated with Single-Use Cups |    83|\n",
    "|Preferences for Alternatives of Single-Use Cups            |    68|\n",
    "|Other (Specify)                                            |    19|\n"
   ]
  },
  {
   "cell_type": "code",
   "execution_count": 12,
   "metadata": {
    "vscode": {
     "languageId": "r"
    }
   },
   "outputs": [
    {
     "data": {
      "image/png": "[encoded data removed]",
      "text/plain": [
       "plot without title"
      ]
     },
     "metadata": {
      "image/png": {
       "height": 420,
       "width": 420
      }
     },
     "output_type": "display_data"
    }
   ],
   "source": [
    "plot = ggplot(categorized_responses, aes(x = reorder(Category, -Count), y = Count, fill = Category)) +\n",
    "    geom_col() +\n",
    "    coord_flip() + # Flip coordinates for horizontal bars\n",
    "    labs(title = \"Count of Responses by Status at UBC\",\n",
    "        x = \"Status at UBC\",\n",
    "        y = \"Count\") +\n",
    "    theme_minimal() +\n",
    "    theme(legend.title = element_blank(), # Remove legend title\n",
    "        legend.position = \"none\") # Remove legend if not needed\n",
    "plot + geom_text(aes(label = Count), position = position_dodge(width = 0.9), hjust = -0.1, size = 3.5)"
   ]
  },
  {
   "cell_type": "code",
   "execution_count": 13,
   "metadata": {
    "vscode": {
     "languageId": "r"
    }
   },
   "outputs": [
    {
     "data": {
      "text/html": [
       "<table class=\"dataframe\">\n",
       "<caption>A data.frame: 6 x 35</caption>\n",
       "<thead>\n",
       "\t<tr><th></th><th scope=col>StartDate</th><th scope=col>EndDate</th><th scope=col>Status</th><th scope=col>IPAddress</th><th scope=col>Progress</th><th scope=col>Duration..in.seconds.</th><th scope=col>Finished</th><th scope=col>RecordedDate</th><th scope=col>ResponseId</th><th scope=col>RecipientLastName</th><th scope=col>...</th><th scope=col>Q3.2</th><th scope=col>Q4.2</th><th scope=col>Q5</th><th scope=col>Q5_5_TEXT</th><th scope=col>Q6</th><th scope=col>Q6_5_TEXT</th><th scope=col>Q7</th><th scope=col>Q8</th><th scope=col>Q8_4_TEXT</th><th scope=col>ConditionAssigned</th></tr>\n",
       "\t<tr><th></th><th scope=col>&lt;chr&gt;</th><th scope=col>&lt;chr&gt;</th><th scope=col>&lt;chr&gt;</th><th scope=col>&lt;chr&gt;</th><th scope=col>&lt;chr&gt;</th><th scope=col>&lt;chr&gt;</th><th scope=col>&lt;chr&gt;</th><th scope=col>&lt;chr&gt;</th><th scope=col>&lt;chr&gt;</th><th scope=col>&lt;chr&gt;</th><th scope=col>...</th><th scope=col>&lt;chr&gt;</th><th scope=col>&lt;chr&gt;</th><th scope=col>&lt;chr&gt;</th><th scope=col>&lt;chr&gt;</th><th scope=col>&lt;chr&gt;</th><th scope=col>&lt;chr&gt;</th><th scope=col>&lt;chr&gt;</th><th scope=col>&lt;chr&gt;</th><th scope=col>&lt;chr&gt;</th><th scope=col>&lt;chr&gt;</th></tr>\n",
       "</thead>\n",
       "<tbody>\n",
       "\t<tr><th scope=row>1</th><td>Start Date                                          </td><td>End Date                                          </td><td>Response Type        </td><td>IP Address              </td><td>Progress               </td><td>Duration (in seconds)  </td><td>Finished               </td><td>Recorded Date                                          </td><td>Response ID             </td><td>Recipient Last Name             </td><td>...</td><td>How likely are you to reduce using single use cups?</td><td>How likely are you to bring your own reusable cup when purchasing beverages?</td><td>What is your status at UBC? - Selected Choice</td><td>What is your status at UBC? - Other (please specify) - Text</td><td>What is your gender identity? - Selected Choice</td><td>What is your gender identity? - Other (please specify) - Text</td><td>What is your age? (in number of years)</td><td>What factor(s) would most likely reduce your consumption of single-use cups? (Choose all applicable answers) - Selected Choice</td><td>What factor(s) would most likely reduce your consumption of single-use cups? (Choose all applicable answers) - Other (Specify) - Text</td><td>ConditionAssigned               </td></tr>\n",
       "\t<tr><th scope=row>2</th><td>{\"ImportId\":\"startDate\",\"timeZone\":\"America/Denver\"}</td><td>{\"ImportId\":\"endDate\",\"timeZone\":\"America/Denver\"}</td><td>{\"ImportId\":\"status\"}</td><td>{\"ImportId\":\"ipAddress\"}</td><td>{\"ImportId\":\"progress\"}</td><td>{\"ImportId\":\"duration\"}</td><td>{\"ImportId\":\"finished\"}</td><td>{\"ImportId\":\"recordedDate\",\"timeZone\":\"America/Denver\"}</td><td>{\"ImportId\":\"_recordId\"}</td><td>{\"ImportId\":\"recipientLastName\"}</td><td>...</td><td>{\"ImportId\":\"QID52\"}                               </td><td>{\"ImportId\":\"QID53\"}                                                        </td><td>{\"ImportId\":\"QID22\"}                         </td><td>{\"ImportId\":\"QID22_5_TEXT\"}                                </td><td>{\"ImportId\":\"QID24\"}                           </td><td>{\"ImportId\":\"QID24_5_TEXT\"}                                  </td><td>{\"ImportId\":\"QID23_TEXT\"}             </td><td>{\"ImportId\":\"QID32\"}                                                                                                          </td><td>{\"ImportId\":\"QID32_4_TEXT\"}                                                                                                          </td><td>{\"ImportId\":\"ConditionAssigned\"}</td></tr>\n",
       "\t<tr><th scope=row>3</th><td>2024-03-06 14:25:55                                 </td><td>2024-03-06 14:27:13                               </td><td>0                    </td><td>206.12.179.98           </td><td>100                    </td><td>77                     </td><td>1                      </td><td>2024-03-06 14:27:13                                    </td><td>R_7P4M3QNUV0sz7kl       </td><td>                                </td><td>...</td><td>                                                   </td><td>                                                                            </td><td>1                                            </td><td>                                                           </td><td>2                                              </td><td>                                                             </td><td>21                                    </td><td>1,3                                                                                                                           </td><td>                                                                                                                                     </td><td>Loss                            </td></tr>\n",
       "\t<tr><th scope=row>4</th><td>2024-03-06 14:36:46                                 </td><td>2024-03-06 14:37:20                               </td><td>0                    </td><td>24.84.220.242           </td><td>100                    </td><td>34                     </td><td>1                      </td><td>2024-03-06 14:37:21                                    </td><td>R_3uPoKeQUqogIL4l       </td><td>                                </td><td>...</td><td>                                                   </td><td>                                                                            </td><td>4                                            </td><td>                                                           </td><td>1                                              </td><td>                                                             </td><td>21                                    </td><td>2                                                                                                                             </td><td>                                                                                                                                     </td><td>Gain                            </td></tr>\n",
       "\t<tr><th scope=row>5</th><td>2024-03-06 15:59:14                                 </td><td>2024-03-06 16:00:22                               </td><td>0                    </td><td>108.180.201.174         </td><td>100                    </td><td>68                     </td><td>1                      </td><td>2024-03-06 16:00:23                                    </td><td>R_65G7BrispC2eV2n       </td><td>                                </td><td>...</td><td>3                                                  </td><td>3                                                                           </td><td>1                                            </td><td>                                                           </td><td>2                                              </td><td>                                                             </td><td>22                                    </td><td>2,3                                                                                                                           </td><td>                                                                                                                                     </td><td>Control                         </td></tr>\n",
       "\t<tr><th scope=row>6</th><td>2024-03-06 17:01:22                                 </td><td>2024-03-06 17:04:00                               </td><td>0                    </td><td>49.36.185.105           </td><td>100                    </td><td>158                    </td><td>1                      </td><td>2024-03-06 17:04:01                                    </td><td>R_40i6X1z7fQUH2Bs       </td><td>                                </td><td>...</td><td>                                                   </td><td>                                                                            </td><td>4                                            </td><td>                                                           </td><td>2                                              </td><td>                                                             </td><td>                                      </td><td>3                                                                                                                             </td><td>                                                                                                                                     </td><td>Loss                            </td></tr>\n",
       "</tbody>\n",
       "</table>\n"
      ],
      "text/latex": [
       "A data.frame: 6 x 35\n",
       "\\begin{tabular}{r|lllllllllllllllllllll}\n",
       "  & StartDate & EndDate & Status & IPAddress & Progress & Duration..in.seconds. & Finished & RecordedDate & ResponseId & RecipientLastName & ... & Q3.2 & Q4.2 & Q5 & Q5\\_5\\_TEXT & Q6 & Q6\\_5\\_TEXT & Q7 & Q8 & Q8\\_4\\_TEXT & ConditionAssigned\\\\\n",
       "  & <chr> & <chr> & <chr> & <chr> & <chr> & <chr> & <chr> & <chr> & <chr> & <chr> & ... & <chr> & <chr> & <chr> & <chr> & <chr> & <chr> & <chr> & <chr> & <chr> & <chr>\\\\\n",
       "\\hline\n",
       "\t1 & Start Date                                           & End Date                                           & Response Type         & IP Address               & Progress                & Duration (in seconds)   & Finished                & Recorded Date                                           & Response ID              & Recipient Last Name              & ... & How likely are you to reduce using single use cups? & How likely are you to bring your own reusable cup when purchasing beverages? & What is your status at UBC? - Selected Choice & What is your status at UBC? - Other (please specify) - Text & What is your gender identity? - Selected Choice & What is your gender identity? - Other (please specify) - Text & What is your age? (in number of years) & What factor(s) would most likely reduce your consumption of single-use cups? (Choose all applicable answers) - Selected Choice & What factor(s) would most likely reduce your consumption of single-use cups? (Choose all applicable answers) - Other (Specify) - Text & ConditionAssigned               \\\\\n",
       "\t2 & \\{\"ImportId\":\"startDate\",\"timeZone\":\"America/Denver\"\\} & \\{\"ImportId\":\"endDate\",\"timeZone\":\"America/Denver\"\\} & \\{\"ImportId\":\"status\"\\} & \\{\"ImportId\":\"ipAddress\"\\} & \\{\"ImportId\":\"progress\"\\} & \\{\"ImportId\":\"duration\"\\} & \\{\"ImportId\":\"finished\"\\} & \\{\"ImportId\":\"recordedDate\",\"timeZone\":\"America/Denver\"\\} & \\{\"ImportId\":\"\\_recordId\"\\} & \\{\"ImportId\":\"recipientLastName\"\\} & ... & \\{\"ImportId\":\"QID52\"\\}                                & \\{\"ImportId\":\"QID53\"\\}                                                         & \\{\"ImportId\":\"QID22\"\\}                          & \\{\"ImportId\":\"QID22\\_5\\_TEXT\"\\}                                 & \\{\"ImportId\":\"QID24\"\\}                            & \\{\"ImportId\":\"QID24\\_5\\_TEXT\"\\}                                   & \\{\"ImportId\":\"QID23\\_TEXT\"\\}              & \\{\"ImportId\":\"QID32\"\\}                                                                                                           & \\{\"ImportId\":\"QID32\\_4\\_TEXT\"\\}                                                                                                           & \\{\"ImportId\":\"ConditionAssigned\"\\}\\\\\n",
       "\t3 & 2024-03-06 14:25:55                                  & 2024-03-06 14:27:13                                & 0                     & 206.12.179.98            & 100                     & 77                      & 1                       & 2024-03-06 14:27:13                                     & R\\_7P4M3QNUV0sz7kl        &                                  & ... &                                                     &                                                                              & 1                                             &                                                             & 2                                               &                                                               & 21                                     & 1,3                                                                                                                            &                                                                                                                                       & Loss                            \\\\\n",
       "\t4 & 2024-03-06 14:36:46                                  & 2024-03-06 14:37:20                                & 0                     & 24.84.220.242            & 100                     & 34                      & 1                       & 2024-03-06 14:37:21                                     & R\\_3uPoKeQUqogIL4l        &                                  & ... &                                                     &                                                                              & 4                                             &                                                             & 1                                               &                                                               & 21                                     & 2                                                                                                                              &                                                                                                                                       & Gain                            \\\\\n",
       "\t5 & 2024-03-06 15:59:14                                  & 2024-03-06 16:00:22                                & 0                     & 108.180.201.174          & 100                     & 68                      & 1                       & 2024-03-06 16:00:23                                     & R\\_65G7BrispC2eV2n        &                                  & ... & 3                                                   & 3                                                                            & 1                                             &                                                             & 2                                               &                                                               & 22                                     & 2,3                                                                                                                            &                                                                                                                                       & Control                         \\\\\n",
       "\t6 & 2024-03-06 17:01:22                                  & 2024-03-06 17:04:00                                & 0                     & 49.36.185.105            & 100                     & 158                     & 1                       & 2024-03-06 17:04:01                                     & R\\_40i6X1z7fQUH2Bs        &                                  & ... &                                                     &                                                                              & 4                                             &                                                             & 2                                               &                                                               &                                        & 3                                                                                                                              &                                                                                                                                       & Loss                            \\\\\n",
       "\\end{tabular}\n"
      ],
      "text/markdown": [
       "\n",
       "A data.frame: 6 x 35\n",
       "\n",
       "| <!--/--> | StartDate &lt;chr&gt; | EndDate &lt;chr&gt; | Status &lt;chr&gt; | IPAddress &lt;chr&gt; | Progress &lt;chr&gt; | Duration..in.seconds. &lt;chr&gt; | Finished &lt;chr&gt; | RecordedDate &lt;chr&gt; | ResponseId &lt;chr&gt; | RecipientLastName &lt;chr&gt; | ... ... | Q3.2 &lt;chr&gt; | Q4.2 &lt;chr&gt; | Q5 &lt;chr&gt; | Q5_5_TEXT &lt;chr&gt; | Q6 &lt;chr&gt; | Q6_5_TEXT &lt;chr&gt; | Q7 &lt;chr&gt; | Q8 &lt;chr&gt; | Q8_4_TEXT &lt;chr&gt; | ConditionAssigned &lt;chr&gt; |\n",
       "|---|---|---|---|---|---|---|---|---|---|---|---|---|---|---|---|---|---|---|---|---|---|\n",
       "| 1 | Start Date                                           | End Date                                           | Response Type         | IP Address               | Progress                | Duration (in seconds)   | Finished                | Recorded Date                                           | Response ID              | Recipient Last Name              | ... | How likely are you to reduce using single use cups? | How likely are you to bring your own reusable cup when purchasing beverages? | What is your status at UBC? - Selected Choice | What is your status at UBC? - Other (please specify) - Text | What is your gender identity? - Selected Choice | What is your gender identity? - Other (please specify) - Text | What is your age? (in number of years) | What factor(s) would most likely reduce your consumption of single-use cups? (Choose all applicable answers) - Selected Choice | What factor(s) would most likely reduce your consumption of single-use cups? (Choose all applicable answers) - Other (Specify) - Text | ConditionAssigned                |\n",
       "| 2 | {\"ImportId\":\"startDate\",\"timeZone\":\"America/Denver\"} | {\"ImportId\":\"endDate\",\"timeZone\":\"America/Denver\"} | {\"ImportId\":\"status\"} | {\"ImportId\":\"ipAddress\"} | {\"ImportId\":\"progress\"} | {\"ImportId\":\"duration\"} | {\"ImportId\":\"finished\"} | {\"ImportId\":\"recordedDate\",\"timeZone\":\"America/Denver\"} | {\"ImportId\":\"_recordId\"} | {\"ImportId\":\"recipientLastName\"} | ... | {\"ImportId\":\"QID52\"}                                | {\"ImportId\":\"QID53\"}                                                         | {\"ImportId\":\"QID22\"}                          | {\"ImportId\":\"QID22_5_TEXT\"}                                 | {\"ImportId\":\"QID24\"}                            | {\"ImportId\":\"QID24_5_TEXT\"}                                   | {\"ImportId\":\"QID23_TEXT\"}              | {\"ImportId\":\"QID32\"}                                                                                                           | {\"ImportId\":\"QID32_4_TEXT\"}                                                                                                           | {\"ImportId\":\"ConditionAssigned\"} |\n",
       "| 3 | 2024-03-06 14:25:55                                  | 2024-03-06 14:27:13                                | 0                     | 206.12.179.98            | 100                     | 77                      | 1                       | 2024-03-06 14:27:13                                     | R_7P4M3QNUV0sz7kl        | <!----> | ... | <!----> | <!----> | 1                                             | <!----> | 2                                               | <!----> | 21                                     | 1,3                                                                                                                            | <!----> | Loss                             |\n",
       "| 4 | 2024-03-06 14:36:46                                  | 2024-03-06 14:37:20                                | 0                     | 24.84.220.242            | 100                     | 34                      | 1                       | 2024-03-06 14:37:21                                     | R_3uPoKeQUqogIL4l        | <!----> | ... | <!----> | <!----> | 4                                             | <!----> | 1                                               | <!----> | 21                                     | 2                                                                                                                              | <!----> | Gain                             |\n",
       "| 5 | 2024-03-06 15:59:14                                  | 2024-03-06 16:00:22                                | 0                     | 108.180.201.174          | 100                     | 68                      | 1                       | 2024-03-06 16:00:23                                     | R_65G7BrispC2eV2n        | <!----> | ... | 3                                                   | 3                                                                            | 1                                             | <!----> | 2                                               | <!----> | 22                                     | 2,3                                                                                                                            | <!----> | Control                          |\n",
       "| 6 | 2024-03-06 17:01:22                                  | 2024-03-06 17:04:00                                | 0                     | 49.36.185.105            | 100                     | 158                     | 1                       | 2024-03-06 17:04:01                                     | R_40i6X1z7fQUH2Bs        | <!----> | ... | <!----> | <!----> | 4                                             | <!----> | 2                                               | <!----> | <!----> | 3                                                                                                                              | <!----> | Loss                             |\n",
       "\n"
      ],
      "text/plain": [
       "  StartDate                                           \n",
       "1 Start Date                                          \n",
       "2 {\"ImportId\":\"startDate\",\"timeZone\":\"America/Denver\"}\n",
       "3 2024-03-06 14:25:55                                 \n",
       "4 2024-03-06 14:36:46                                 \n",
       "5 2024-03-06 15:59:14                                 \n",
       "6 2024-03-06 17:01:22                                 \n",
       "  EndDate                                            Status               \n",
       "1 End Date                                           Response Type        \n",
       "2 {\"ImportId\":\"endDate\",\"timeZone\":\"America/Denver\"} {\"ImportId\":\"status\"}\n",
       "3 2024-03-06 14:27:13                                0                    \n",
       "4 2024-03-06 14:37:20                                0                    \n",
       "5 2024-03-06 16:00:22                                0                    \n",
       "6 2024-03-06 17:04:00                                0                    \n",
       "  IPAddress                Progress                Duration..in.seconds.  \n",
       "1 IP Address               Progress                Duration (in seconds)  \n",
       "2 {\"ImportId\":\"ipAddress\"} {\"ImportId\":\"progress\"} {\"ImportId\":\"duration\"}\n",
       "3 206.12.179.98            100                     77                     \n",
       "4 24.84.220.242            100                     34                     \n",
       "5 108.180.201.174          100                     68                     \n",
       "6 49.36.185.105            100                     158                    \n",
       "  Finished               \n",
       "1 Finished               \n",
       "2 {\"ImportId\":\"finished\"}\n",
       "3 1                      \n",
       "4 1                      \n",
       "5 1                      \n",
       "6 1                      \n",
       "  RecordedDate                                           \n",
       "1 Recorded Date                                          \n",
       "2 {\"ImportId\":\"recordedDate\",\"timeZone\":\"America/Denver\"}\n",
       "3 2024-03-06 14:27:13                                    \n",
       "4 2024-03-06 14:37:21                                    \n",
       "5 2024-03-06 16:00:23                                    \n",
       "6 2024-03-06 17:04:01                                    \n",
       "  ResponseId               RecipientLastName                ...\n",
       "1 Response ID              Recipient Last Name              ...\n",
       "2 {\"ImportId\":\"_recordId\"} {\"ImportId\":\"recipientLastName\"} ...\n",
       "3 R_7P4M3QNUV0sz7kl                                         ...\n",
       "4 R_3uPoKeQUqogIL4l                                         ...\n",
       "5 R_65G7BrispC2eV2n                                         ...\n",
       "6 R_40i6X1z7fQUH2Bs                                         ...\n",
       "  Q3.2                                               \n",
       "1 How likely are you to reduce using single use cups?\n",
       "2 {\"ImportId\":\"QID52\"}                               \n",
       "3                                                    \n",
       "4                                                    \n",
       "5 3                                                  \n",
       "6                                                    \n",
       "  Q4.2                                                                        \n",
       "1 How likely are you to bring your own reusable cup when purchasing beverages?\n",
       "2 {\"ImportId\":\"QID53\"}                                                        \n",
       "3                                                                             \n",
       "4                                                                             \n",
       "5 3                                                                           \n",
       "6                                                                             \n",
       "  Q5                                           \n",
       "1 What is your status at UBC? - Selected Choice\n",
       "2 {\"ImportId\":\"QID22\"}                         \n",
       "3 1                                            \n",
       "4 4                                            \n",
       "5 1                                            \n",
       "6 4                                            \n",
       "  Q5_5_TEXT                                                  \n",
       "1 What is your status at UBC? - Other (please specify) - Text\n",
       "2 {\"ImportId\":\"QID22_5_TEXT\"}                                \n",
       "3                                                            \n",
       "4                                                            \n",
       "5                                                            \n",
       "6                                                            \n",
       "  Q6                                             \n",
       "1 What is your gender identity? - Selected Choice\n",
       "2 {\"ImportId\":\"QID24\"}                           \n",
       "3 2                                              \n",
       "4 1                                              \n",
       "5 2                                              \n",
       "6 2                                              \n",
       "  Q6_5_TEXT                                                    \n",
       "1 What is your gender identity? - Other (please specify) - Text\n",
       "2 {\"ImportId\":\"QID24_5_TEXT\"}                                  \n",
       "3                                                              \n",
       "4                                                              \n",
       "5                                                              \n",
       "6                                                              \n",
       "  Q7                                    \n",
       "1 What is your age? (in number of years)\n",
       "2 {\"ImportId\":\"QID23_TEXT\"}             \n",
       "3 21                                    \n",
       "4 21                                    \n",
       "5 22                                    \n",
       "6                                       \n",
       "  Q8                                                                                                                            \n",
       "1 What factor(s) would most likely reduce your consumption of single-use cups? (Choose all applicable answers) - Selected Choice\n",
       "2 {\"ImportId\":\"QID32\"}                                                                                                          \n",
       "3 1,3                                                                                                                           \n",
       "4 2                                                                                                                             \n",
       "5 2,3                                                                                                                           \n",
       "6 3                                                                                                                             \n",
       "  Q8_4_TEXT                                                                                                                            \n",
       "1 What factor(s) would most likely reduce your consumption of single-use cups? (Choose all applicable answers) - Other (Specify) - Text\n",
       "2 {\"ImportId\":\"QID32_4_TEXT\"}                                                                                                          \n",
       "3                                                                                                                                      \n",
       "4                                                                                                                                      \n",
       "5                                                                                                                                      \n",
       "6                                                                                                                                      \n",
       "  ConditionAssigned               \n",
       "1 ConditionAssigned               \n",
       "2 {\"ImportId\":\"ConditionAssigned\"}\n",
       "3 Loss                            \n",
       "4 Gain                            \n",
       "5 Control                         \n",
       "6 Loss                            "
      ]
     },
     "metadata": {},
     "output_type": "display_data"
    }
   ],
   "source": [
    "# Load the CSV file\n",
    "survey_data_numeric <- read.csv(\"../data/raw/2023-04-18_numerical_PSYC421-Single-Use-Cup.csv\", stringsAsFactors = FALSE)\n",
    "\n",
    "# View the first few rows of the data frame\n",
    "head(survey_data_numeric)"
   ]
  },
  {
   "cell_type": "code",
   "execution_count": 14,
   "metadata": {
    "vscode": {
     "languageId": "r"
    }
   },
   "outputs": [
    {
     "data": {
      "text/html": [
       "<table class=\"dataframe\">\n",
       "<caption>A data.frame: 6 x 20</caption>\n",
       "<thead>\n",
       "\t<tr><th></th><th scope=col>Duration..in.seconds.</th><th scope=col>Finished</th><th scope=col>ResponseId</th><th scope=col>Q2</th><th scope=col>Q3</th><th scope=col>Q4</th><th scope=col>Q2.1</th><th scope=col>Q3.1</th><th scope=col>Q4.1</th><th scope=col>Q2.2</th><th scope=col>Q3.2</th><th scope=col>Q4.2</th><th scope=col>Q5</th><th scope=col>Q5_5_TEXT</th><th scope=col>Q6</th><th scope=col>Q6_5_TEXT</th><th scope=col>Q7</th><th scope=col>Q8</th><th scope=col>Q8_4_TEXT</th><th scope=col>ConditionAssigned</th></tr>\n",
       "\t<tr><th></th><th scope=col>&lt;chr&gt;</th><th scope=col>&lt;chr&gt;</th><th scope=col>&lt;chr&gt;</th><th scope=col>&lt;chr&gt;</th><th scope=col>&lt;chr&gt;</th><th scope=col>&lt;chr&gt;</th><th scope=col>&lt;chr&gt;</th><th scope=col>&lt;chr&gt;</th><th scope=col>&lt;chr&gt;</th><th scope=col>&lt;chr&gt;</th><th scope=col>&lt;chr&gt;</th><th scope=col>&lt;chr&gt;</th><th scope=col>&lt;chr&gt;</th><th scope=col>&lt;chr&gt;</th><th scope=col>&lt;chr&gt;</th><th scope=col>&lt;chr&gt;</th><th scope=col>&lt;chr&gt;</th><th scope=col>&lt;chr&gt;</th><th scope=col>&lt;chr&gt;</th><th scope=col>&lt;chr&gt;</th></tr>\n",
       "</thead>\n",
       "<tbody>\n",
       "\t<tr><th scope=row>1</th><td>Duration (in seconds)  </td><td>Finished               </td><td>Response ID             </td><td>How surprising was the above information?</td><td>How likely are you to reduce using single use cups?</td><td>How likely are you to bring your own reusable cup when purchasing beverages?</td><td>How surprising was the above information?</td><td>How likely are you to reduce using single use cups?</td><td>How likely are you to bring your own reusable cup when purchasing beverages?</td><td>How surprising was the above information?</td><td>How likely are you to reduce using single use cups?</td><td>How likely are you to bring your own reusable cup when purchasing beverages?</td><td>What is your status at UBC? - Selected Choice</td><td>What is your status at UBC? - Other (please specify) - Text</td><td>What is your gender identity? - Selected Choice</td><td>What is your gender identity? - Other (please specify) - Text</td><td>What is your age? (in number of years)</td><td>What factor(s) would most likely reduce your consumption of single-use cups? (Choose all applicable answers) - Selected Choice</td><td>What factor(s) would most likely reduce your consumption of single-use cups? (Choose all applicable answers) - Other (Specify) - Text</td><td>ConditionAssigned               </td></tr>\n",
       "\t<tr><th scope=row>2</th><td>{\"ImportId\":\"duration\"}</td><td>{\"ImportId\":\"finished\"}</td><td>{\"ImportId\":\"_recordId\"}</td><td>{\"ImportId\":\"QID31\"}                     </td><td>{\"ImportId\":\"QID39\"}                               </td><td>{\"ImportId\":\"QID29\"}                                                        </td><td>{\"ImportId\":\"QID48\"}                     </td><td>{\"ImportId\":\"QID50\"}                               </td><td>{\"ImportId\":\"QID51\"}                                                        </td><td>{\"ImportId\":\"QID49\"}                     </td><td>{\"ImportId\":\"QID52\"}                               </td><td>{\"ImportId\":\"QID53\"}                                                        </td><td>{\"ImportId\":\"QID22\"}                         </td><td>{\"ImportId\":\"QID22_5_TEXT\"}                                </td><td>{\"ImportId\":\"QID24\"}                           </td><td>{\"ImportId\":\"QID24_5_TEXT\"}                                  </td><td>{\"ImportId\":\"QID23_TEXT\"}             </td><td>{\"ImportId\":\"QID32\"}                                                                                                          </td><td>{\"ImportId\":\"QID32_4_TEXT\"}                                                                                                          </td><td>{\"ImportId\":\"ConditionAssigned\"}</td></tr>\n",
       "\t<tr><th scope=row>3</th><td>77                     </td><td>1                      </td><td>R_7P4M3QNUV0sz7kl       </td><td>                                         </td><td>                                                   </td><td>                                                                            </td><td>1                                        </td><td>3                                                  </td><td>5                                                                           </td><td>                                         </td><td>                                                   </td><td>                                                                            </td><td>1                                            </td><td>                                                           </td><td>2                                              </td><td>                                                             </td><td>21                                    </td><td>1,3                                                                                                                           </td><td>                                                                                                                                     </td><td>Loss                            </td></tr>\n",
       "\t<tr><th scope=row>4</th><td>34                     </td><td>1                      </td><td>R_3uPoKeQUqogIL4l       </td><td>5                                        </td><td>2                                                  </td><td>2                                                                           </td><td>                                         </td><td>                                                   </td><td>                                                                            </td><td>                                         </td><td>                                                   </td><td>                                                                            </td><td>4                                            </td><td>                                                           </td><td>1                                              </td><td>                                                             </td><td>21                                    </td><td>2                                                                                                                             </td><td>                                                                                                                                     </td><td>Gain                            </td></tr>\n",
       "\t<tr><th scope=row>5</th><td>68                     </td><td>1                      </td><td>R_65G7BrispC2eV2n       </td><td>                                         </td><td>                                                   </td><td>                                                                            </td><td>                                         </td><td>                                                   </td><td>                                                                            </td><td>5                                        </td><td>3                                                  </td><td>3                                                                           </td><td>1                                            </td><td>                                                           </td><td>2                                              </td><td>                                                             </td><td>22                                    </td><td>2,3                                                                                                                           </td><td>                                                                                                                                     </td><td>Control                         </td></tr>\n",
       "\t<tr><th scope=row>6</th><td>158                    </td><td>1                      </td><td>R_40i6X1z7fQUH2Bs       </td><td>                                         </td><td>                                                   </td><td>                                                                            </td><td>2                                        </td><td>6                                                  </td><td>5                                                                           </td><td>                                         </td><td>                                                   </td><td>                                                                            </td><td>4                                            </td><td>                                                           </td><td>2                                              </td><td>                                                             </td><td>                                      </td><td>3                                                                                                                             </td><td>                                                                                                                                     </td><td>Loss                            </td></tr>\n",
       "</tbody>\n",
       "</table>\n"
      ],
      "text/latex": [
       "A data.frame: 6 x 20\n",
       "\\begin{tabular}{r|llllllllllllllllllll}\n",
       "  & Duration..in.seconds. & Finished & ResponseId & Q2 & Q3 & Q4 & Q2.1 & Q3.1 & Q4.1 & Q2.2 & Q3.2 & Q4.2 & Q5 & Q5\\_5\\_TEXT & Q6 & Q6\\_5\\_TEXT & Q7 & Q8 & Q8\\_4\\_TEXT & ConditionAssigned\\\\\n",
       "  & <chr> & <chr> & <chr> & <chr> & <chr> & <chr> & <chr> & <chr> & <chr> & <chr> & <chr> & <chr> & <chr> & <chr> & <chr> & <chr> & <chr> & <chr> & <chr> & <chr>\\\\\n",
       "\\hline\n",
       "\t1 & Duration (in seconds)   & Finished                & Response ID              & How surprising was the above information? & How likely are you to reduce using single use cups? & How likely are you to bring your own reusable cup when purchasing beverages? & How surprising was the above information? & How likely are you to reduce using single use cups? & How likely are you to bring your own reusable cup when purchasing beverages? & How surprising was the above information? & How likely are you to reduce using single use cups? & How likely are you to bring your own reusable cup when purchasing beverages? & What is your status at UBC? - Selected Choice & What is your status at UBC? - Other (please specify) - Text & What is your gender identity? - Selected Choice & What is your gender identity? - Other (please specify) - Text & What is your age? (in number of years) & What factor(s) would most likely reduce your consumption of single-use cups? (Choose all applicable answers) - Selected Choice & What factor(s) would most likely reduce your consumption of single-use cups? (Choose all applicable answers) - Other (Specify) - Text & ConditionAssigned               \\\\\n",
       "\t2 & \\{\"ImportId\":\"duration\"\\} & \\{\"ImportId\":\"finished\"\\} & \\{\"ImportId\":\"\\_recordId\"\\} & \\{\"ImportId\":\"QID31\"\\}                      & \\{\"ImportId\":\"QID39\"\\}                                & \\{\"ImportId\":\"QID29\"\\}                                                         & \\{\"ImportId\":\"QID48\"\\}                      & \\{\"ImportId\":\"QID50\"\\}                                & \\{\"ImportId\":\"QID51\"\\}                                                         & \\{\"ImportId\":\"QID49\"\\}                      & \\{\"ImportId\":\"QID52\"\\}                                & \\{\"ImportId\":\"QID53\"\\}                                                         & \\{\"ImportId\":\"QID22\"\\}                          & \\{\"ImportId\":\"QID22\\_5\\_TEXT\"\\}                                 & \\{\"ImportId\":\"QID24\"\\}                            & \\{\"ImportId\":\"QID24\\_5\\_TEXT\"\\}                                   & \\{\"ImportId\":\"QID23\\_TEXT\"\\}              & \\{\"ImportId\":\"QID32\"\\}                                                                                                           & \\{\"ImportId\":\"QID32\\_4\\_TEXT\"\\}                                                                                                           & \\{\"ImportId\":\"ConditionAssigned\"\\}\\\\\n",
       "\t3 & 77                      & 1                       & R\\_7P4M3QNUV0sz7kl        &                                           &                                                     &                                                                              & 1                                         & 3                                                   & 5                                                                            &                                           &                                                     &                                                                              & 1                                             &                                                             & 2                                               &                                                               & 21                                     & 1,3                                                                                                                            &                                                                                                                                       & Loss                            \\\\\n",
       "\t4 & 34                      & 1                       & R\\_3uPoKeQUqogIL4l        & 5                                         & 2                                                   & 2                                                                            &                                           &                                                     &                                                                              &                                           &                                                     &                                                                              & 4                                             &                                                             & 1                                               &                                                               & 21                                     & 2                                                                                                                              &                                                                                                                                       & Gain                            \\\\\n",
       "\t5 & 68                      & 1                       & R\\_65G7BrispC2eV2n        &                                           &                                                     &                                                                              &                                           &                                                     &                                                                              & 5                                         & 3                                                   & 3                                                                            & 1                                             &                                                             & 2                                               &                                                               & 22                                     & 2,3                                                                                                                            &                                                                                                                                       & Control                         \\\\\n",
       "\t6 & 158                     & 1                       & R\\_40i6X1z7fQUH2Bs        &                                           &                                                     &                                                                              & 2                                         & 6                                                   & 5                                                                            &                                           &                                                     &                                                                              & 4                                             &                                                             & 2                                               &                                                               &                                        & 3                                                                                                                              &                                                                                                                                       & Loss                            \\\\\n",
       "\\end{tabular}\n"
      ],
      "text/markdown": [
       "\n",
       "A data.frame: 6 x 20\n",
       "\n",
       "| <!--/--> | Duration..in.seconds. &lt;chr&gt; | Finished &lt;chr&gt; | ResponseId &lt;chr&gt; | Q2 &lt;chr&gt; | Q3 &lt;chr&gt; | Q4 &lt;chr&gt; | Q2.1 &lt;chr&gt; | Q3.1 &lt;chr&gt; | Q4.1 &lt;chr&gt; | Q2.2 &lt;chr&gt; | Q3.2 &lt;chr&gt; | Q4.2 &lt;chr&gt; | Q5 &lt;chr&gt; | Q5_5_TEXT &lt;chr&gt; | Q6 &lt;chr&gt; | Q6_5_TEXT &lt;chr&gt; | Q7 &lt;chr&gt; | Q8 &lt;chr&gt; | Q8_4_TEXT &lt;chr&gt; | ConditionAssigned &lt;chr&gt; |\n",
       "|---|---|---|---|---|---|---|---|---|---|---|---|---|---|---|---|---|---|---|---|---|\n",
       "| 1 | Duration (in seconds)   | Finished                | Response ID              | How surprising was the above information? | How likely are you to reduce using single use cups? | How likely are you to bring your own reusable cup when purchasing beverages? | How surprising was the above information? | How likely are you to reduce using single use cups? | How likely are you to bring your own reusable cup when purchasing beverages? | How surprising was the above information? | How likely are you to reduce using single use cups? | How likely are you to bring your own reusable cup when purchasing beverages? | What is your status at UBC? - Selected Choice | What is your status at UBC? - Other (please specify) - Text | What is your gender identity? - Selected Choice | What is your gender identity? - Other (please specify) - Text | What is your age? (in number of years) | What factor(s) would most likely reduce your consumption of single-use cups? (Choose all applicable answers) - Selected Choice | What factor(s) would most likely reduce your consumption of single-use cups? (Choose all applicable answers) - Other (Specify) - Text | ConditionAssigned                |\n",
       "| 2 | {\"ImportId\":\"duration\"} | {\"ImportId\":\"finished\"} | {\"ImportId\":\"_recordId\"} | {\"ImportId\":\"QID31\"}                      | {\"ImportId\":\"QID39\"}                                | {\"ImportId\":\"QID29\"}                                                         | {\"ImportId\":\"QID48\"}                      | {\"ImportId\":\"QID50\"}                                | {\"ImportId\":\"QID51\"}                                                         | {\"ImportId\":\"QID49\"}                      | {\"ImportId\":\"QID52\"}                                | {\"ImportId\":\"QID53\"}                                                         | {\"ImportId\":\"QID22\"}                          | {\"ImportId\":\"QID22_5_TEXT\"}                                 | {\"ImportId\":\"QID24\"}                            | {\"ImportId\":\"QID24_5_TEXT\"}                                   | {\"ImportId\":\"QID23_TEXT\"}              | {\"ImportId\":\"QID32\"}                                                                                                           | {\"ImportId\":\"QID32_4_TEXT\"}                                                                                                           | {\"ImportId\":\"ConditionAssigned\"} |\n",
       "| 3 | 77                      | 1                       | R_7P4M3QNUV0sz7kl        | <!----> | <!----> | <!----> | 1                                         | 3                                                   | 5                                                                            | <!----> | <!----> | <!----> | 1                                             | <!----> | 2                                               | <!----> | 21                                     | 1,3                                                                                                                            | <!----> | Loss                             |\n",
       "| 4 | 34                      | 1                       | R_3uPoKeQUqogIL4l        | 5                                         | 2                                                   | 2                                                                            | <!----> | <!----> | <!----> | <!----> | <!----> | <!----> | 4                                             | <!----> | 1                                               | <!----> | 21                                     | 2                                                                                                                              | <!----> | Gain                             |\n",
       "| 5 | 68                      | 1                       | R_65G7BrispC2eV2n        | <!----> | <!----> | <!----> | <!----> | <!----> | <!----> | 5                                         | 3                                                   | 3                                                                            | 1                                             | <!----> | 2                                               | <!----> | 22                                     | 2,3                                                                                                                            | <!----> | Control                          |\n",
       "| 6 | 158                     | 1                       | R_40i6X1z7fQUH2Bs        | <!----> | <!----> | <!----> | 2                                         | 6                                                   | 5                                                                            | <!----> | <!----> | <!----> | 4                                             | <!----> | 2                                               | <!----> | <!----> | 3                                                                                                                              | <!----> | Loss                             |\n",
       "\n"
      ],
      "text/plain": [
       "  Duration..in.seconds.   Finished                ResponseId              \n",
       "1 Duration (in seconds)   Finished                Response ID             \n",
       "2 {\"ImportId\":\"duration\"} {\"ImportId\":\"finished\"} {\"ImportId\":\"_recordId\"}\n",
       "3 77                      1                       R_7P4M3QNUV0sz7kl       \n",
       "4 34                      1                       R_3uPoKeQUqogIL4l       \n",
       "5 68                      1                       R_65G7BrispC2eV2n       \n",
       "6 158                     1                       R_40i6X1z7fQUH2Bs       \n",
       "  Q2                                       \n",
       "1 How surprising was the above information?\n",
       "2 {\"ImportId\":\"QID31\"}                     \n",
       "3                                          \n",
       "4 5                                        \n",
       "5                                          \n",
       "6                                          \n",
       "  Q3                                                 \n",
       "1 How likely are you to reduce using single use cups?\n",
       "2 {\"ImportId\":\"QID39\"}                               \n",
       "3                                                    \n",
       "4 2                                                  \n",
       "5                                                    \n",
       "6                                                    \n",
       "  Q4                                                                          \n",
       "1 How likely are you to bring your own reusable cup when purchasing beverages?\n",
       "2 {\"ImportId\":\"QID29\"}                                                        \n",
       "3                                                                             \n",
       "4 2                                                                           \n",
       "5                                                                             \n",
       "6                                                                             \n",
       "  Q2.1                                     \n",
       "1 How surprising was the above information?\n",
       "2 {\"ImportId\":\"QID48\"}                     \n",
       "3 1                                        \n",
       "4                                          \n",
       "5                                          \n",
       "6 2                                        \n",
       "  Q3.1                                               \n",
       "1 How likely are you to reduce using single use cups?\n",
       "2 {\"ImportId\":\"QID50\"}                               \n",
       "3 3                                                  \n",
       "4                                                    \n",
       "5                                                    \n",
       "6 6                                                  \n",
       "  Q4.1                                                                        \n",
       "1 How likely are you to bring your own reusable cup when purchasing beverages?\n",
       "2 {\"ImportId\":\"QID51\"}                                                        \n",
       "3 5                                                                           \n",
       "4                                                                             \n",
       "5                                                                             \n",
       "6 5                                                                           \n",
       "  Q2.2                                     \n",
       "1 How surprising was the above information?\n",
       "2 {\"ImportId\":\"QID49\"}                     \n",
       "3                                          \n",
       "4                                          \n",
       "5 5                                        \n",
       "6                                          \n",
       "  Q3.2                                               \n",
       "1 How likely are you to reduce using single use cups?\n",
       "2 {\"ImportId\":\"QID52\"}                               \n",
       "3                                                    \n",
       "4                                                    \n",
       "5 3                                                  \n",
       "6                                                    \n",
       "  Q4.2                                                                        \n",
       "1 How likely are you to bring your own reusable cup when purchasing beverages?\n",
       "2 {\"ImportId\":\"QID53\"}                                                        \n",
       "3                                                                             \n",
       "4                                                                             \n",
       "5 3                                                                           \n",
       "6                                                                             \n",
       "  Q5                                           \n",
       "1 What is your status at UBC? - Selected Choice\n",
       "2 {\"ImportId\":\"QID22\"}                         \n",
       "3 1                                            \n",
       "4 4                                            \n",
       "5 1                                            \n",
       "6 4                                            \n",
       "  Q5_5_TEXT                                                  \n",
       "1 What is your status at UBC? - Other (please specify) - Text\n",
       "2 {\"ImportId\":\"QID22_5_TEXT\"}                                \n",
       "3                                                            \n",
       "4                                                            \n",
       "5                                                            \n",
       "6                                                            \n",
       "  Q6                                             \n",
       "1 What is your gender identity? - Selected Choice\n",
       "2 {\"ImportId\":\"QID24\"}                           \n",
       "3 2                                              \n",
       "4 1                                              \n",
       "5 2                                              \n",
       "6 2                                              \n",
       "  Q6_5_TEXT                                                    \n",
       "1 What is your gender identity? - Other (please specify) - Text\n",
       "2 {\"ImportId\":\"QID24_5_TEXT\"}                                  \n",
       "3                                                              \n",
       "4                                                              \n",
       "5                                                              \n",
       "6                                                              \n",
       "  Q7                                    \n",
       "1 What is your age? (in number of years)\n",
       "2 {\"ImportId\":\"QID23_TEXT\"}             \n",
       "3 21                                    \n",
       "4 21                                    \n",
       "5 22                                    \n",
       "6                                       \n",
       "  Q8                                                                                                                            \n",
       "1 What factor(s) would most likely reduce your consumption of single-use cups? (Choose all applicable answers) - Selected Choice\n",
       "2 {\"ImportId\":\"QID32\"}                                                                                                          \n",
       "3 1,3                                                                                                                           \n",
       "4 2                                                                                                                             \n",
       "5 2,3                                                                                                                           \n",
       "6 3                                                                                                                             \n",
       "  Q8_4_TEXT                                                                                                                            \n",
       "1 What factor(s) would most likely reduce your consumption of single-use cups? (Choose all applicable answers) - Other (Specify) - Text\n",
       "2 {\"ImportId\":\"QID32_4_TEXT\"}                                                                                                          \n",
       "3                                                                                                                                      \n",
       "4                                                                                                                                      \n",
       "5                                                                                                                                      \n",
       "6                                                                                                                                      \n",
       "  ConditionAssigned               \n",
       "1 ConditionAssigned               \n",
       "2 {\"ImportId\":\"ConditionAssigned\"}\n",
       "3 Loss                            \n",
       "4 Gain                            \n",
       "5 Control                         \n",
       "6 Loss                            "
      ]
     },
     "metadata": {},
     "output_type": "display_data"
    }
   ],
   "source": [
    "# keep only selected columns for analysis\n",
    "\n",
    "filter_df_numerical <- dplyr::select(survey_data_numeric, \n",
    "  `Duration..in.seconds.`, `Finished`, `ResponseId`, \n",
    "  `Q2`, `Q3`, `Q4`, \n",
    "  `Q2.1`, `Q3.1`, `Q4.1`, \n",
    "  `Q2.2`, `Q3.2`, `Q4.2`, \n",
    "  `Q5`, `Q5_5_TEXT`, `Q6`, `Q6_5_TEXT`, `Q7`, `Q8`, `Q8_4_TEXT`, \n",
    "  `ConditionAssigned`\n",
    ")\n",
    "# View the first few rows of the modified dataframe\n",
    "head(filter_df_numerical)\n"
   ]
  },
  {
   "cell_type": "code",
   "execution_count": 15,
   "metadata": {
    "vscode": {
     "languageId": "r"
    }
   },
   "outputs": [
    {
     "data": {
      "text/html": [
       "<table class=\"dataframe\">\n",
       "<caption>A data.frame: 6 x 20</caption>\n",
       "<thead>\n",
       "\t<tr><th></th><th scope=col>Duration..in.seconds.</th><th scope=col>Finished</th><th scope=col>ResponseId</th><th scope=col>Q2</th><th scope=col>Q3</th><th scope=col>Q4</th><th scope=col>Q2.1</th><th scope=col>Q3.1</th><th scope=col>Q4.1</th><th scope=col>Q2.2</th><th scope=col>Q3.2</th><th scope=col>Q4.2</th><th scope=col>Q5</th><th scope=col>Q5_5_TEXT</th><th scope=col>Q6</th><th scope=col>Q6_5_TEXT</th><th scope=col>Q7</th><th scope=col>Q8</th><th scope=col>Q8_4_TEXT</th><th scope=col>ConditionAssigned</th></tr>\n",
       "\t<tr><th></th><th scope=col>&lt;chr&gt;</th><th scope=col>&lt;chr&gt;</th><th scope=col>&lt;chr&gt;</th><th scope=col>&lt;chr&gt;</th><th scope=col>&lt;chr&gt;</th><th scope=col>&lt;chr&gt;</th><th scope=col>&lt;chr&gt;</th><th scope=col>&lt;chr&gt;</th><th scope=col>&lt;chr&gt;</th><th scope=col>&lt;chr&gt;</th><th scope=col>&lt;chr&gt;</th><th scope=col>&lt;chr&gt;</th><th scope=col>&lt;chr&gt;</th><th scope=col>&lt;chr&gt;</th><th scope=col>&lt;chr&gt;</th><th scope=col>&lt;chr&gt;</th><th scope=col>&lt;chr&gt;</th><th scope=col>&lt;chr&gt;</th><th scope=col>&lt;chr&gt;</th><th scope=col>&lt;chr&gt;</th></tr>\n",
       "</thead>\n",
       "<tbody>\n",
       "\t<tr><th scope=row>1</th><td>Duration (in seconds)</td><td>Finished</td><td>Response ID      </td><td>How surprising was the above information?</td><td>How likely are you to reduce using single use cups?</td><td>How likely are you to bring your own reusable cup when purchasing beverages?</td><td>How surprising was the above information?</td><td>How likely are you to reduce using single use cups?</td><td>How likely are you to bring your own reusable cup when purchasing beverages?</td><td>How surprising was the above information?</td><td>How likely are you to reduce using single use cups?</td><td>How likely are you to bring your own reusable cup when purchasing beverages?</td><td>What is your status at UBC? - Selected Choice</td><td>What is your status at UBC? - Other (please specify) - Text</td><td>What is your gender identity? - Selected Choice</td><td>What is your gender identity? - Other (please specify) - Text</td><td>What is your age? (in number of years)</td><td>What factor(s) would most likely reduce your consumption of single-use cups? (Choose all applicable answers) - Selected Choice</td><td>What factor(s) would most likely reduce your consumption of single-use cups? (Choose all applicable answers) - Other (Specify) - Text</td><td>ConditionAssigned</td></tr>\n",
       "\t<tr><th scope=row>3</th><td>77                   </td><td>1       </td><td>R_7P4M3QNUV0sz7kl</td><td>                                         </td><td>                                                   </td><td>                                                                            </td><td>1                                        </td><td>3                                                  </td><td>5                                                                           </td><td>                                         </td><td>                                                   </td><td>                                                                            </td><td>1                                            </td><td>                                                           </td><td>2                                              </td><td>                                                             </td><td>21                                    </td><td>1,3                                                                                                                           </td><td>                                                                                                                                     </td><td>Loss             </td></tr>\n",
       "\t<tr><th scope=row>4</th><td>34                   </td><td>1       </td><td>R_3uPoKeQUqogIL4l</td><td>5                                        </td><td>2                                                  </td><td>2                                                                           </td><td>                                         </td><td>                                                   </td><td>                                                                            </td><td>                                         </td><td>                                                   </td><td>                                                                            </td><td>4                                            </td><td>                                                           </td><td>1                                              </td><td>                                                             </td><td>21                                    </td><td>2                                                                                                                             </td><td>                                                                                                                                     </td><td>Gain             </td></tr>\n",
       "\t<tr><th scope=row>5</th><td>68                   </td><td>1       </td><td>R_65G7BrispC2eV2n</td><td>                                         </td><td>                                                   </td><td>                                                                            </td><td>                                         </td><td>                                                   </td><td>                                                                            </td><td>5                                        </td><td>3                                                  </td><td>3                                                                           </td><td>1                                            </td><td>                                                           </td><td>2                                              </td><td>                                                             </td><td>22                                    </td><td>2,3                                                                                                                           </td><td>                                                                                                                                     </td><td>Control          </td></tr>\n",
       "\t<tr><th scope=row>6</th><td>158                  </td><td>1       </td><td>R_40i6X1z7fQUH2Bs</td><td>                                         </td><td>                                                   </td><td>                                                                            </td><td>2                                        </td><td>6                                                  </td><td>5                                                                           </td><td>                                         </td><td>                                                   </td><td>                                                                            </td><td>4                                            </td><td>                                                           </td><td>2                                              </td><td>                                                             </td><td>                                      </td><td>3                                                                                                                             </td><td>                                                                                                                                     </td><td>Loss             </td></tr>\n",
       "\t<tr><th scope=row>7</th><td>91                   </td><td>1       </td><td>R_1k0T1HeuJsmtdQm</td><td>5                                        </td><td>3                                                  </td><td>3                                                                           </td><td>                                         </td><td>                                                   </td><td>                                                                            </td><td>                                         </td><td>                                                   </td><td>                                                                            </td><td>1                                            </td><td>                                                           </td><td>1                                              </td><td>                                                             </td><td>21                                    </td><td>2                                                                                                                             </td><td>                                                                                                                                     </td><td>Gain             </td></tr>\n",
       "</tbody>\n",
       "</table>\n"
      ],
      "text/latex": [
       "A data.frame: 6 x 20\n",
       "\\begin{tabular}{r|llllllllllllllllllll}\n",
       "  & Duration..in.seconds. & Finished & ResponseId & Q2 & Q3 & Q4 & Q2.1 & Q3.1 & Q4.1 & Q2.2 & Q3.2 & Q4.2 & Q5 & Q5\\_5\\_TEXT & Q6 & Q6\\_5\\_TEXT & Q7 & Q8 & Q8\\_4\\_TEXT & ConditionAssigned\\\\\n",
       "  & <chr> & <chr> & <chr> & <chr> & <chr> & <chr> & <chr> & <chr> & <chr> & <chr> & <chr> & <chr> & <chr> & <chr> & <chr> & <chr> & <chr> & <chr> & <chr> & <chr>\\\\\n",
       "\\hline\n",
       "\t1 & Duration (in seconds) & Finished & Response ID       & How surprising was the above information? & How likely are you to reduce using single use cups? & How likely are you to bring your own reusable cup when purchasing beverages? & How surprising was the above information? & How likely are you to reduce using single use cups? & How likely are you to bring your own reusable cup when purchasing beverages? & How surprising was the above information? & How likely are you to reduce using single use cups? & How likely are you to bring your own reusable cup when purchasing beverages? & What is your status at UBC? - Selected Choice & What is your status at UBC? - Other (please specify) - Text & What is your gender identity? - Selected Choice & What is your gender identity? - Other (please specify) - Text & What is your age? (in number of years) & What factor(s) would most likely reduce your consumption of single-use cups? (Choose all applicable answers) - Selected Choice & What factor(s) would most likely reduce your consumption of single-use cups? (Choose all applicable answers) - Other (Specify) - Text & ConditionAssigned\\\\\n",
       "\t3 & 77                    & 1        & R\\_7P4M3QNUV0sz7kl &                                           &                                                     &                                                                              & 1                                         & 3                                                   & 5                                                                            &                                           &                                                     &                                                                              & 1                                             &                                                             & 2                                               &                                                               & 21                                     & 1,3                                                                                                                            &                                                                                                                                       & Loss             \\\\\n",
       "\t4 & 34                    & 1        & R\\_3uPoKeQUqogIL4l & 5                                         & 2                                                   & 2                                                                            &                                           &                                                     &                                                                              &                                           &                                                     &                                                                              & 4                                             &                                                             & 1                                               &                                                               & 21                                     & 2                                                                                                                              &                                                                                                                                       & Gain             \\\\\n",
       "\t5 & 68                    & 1        & R\\_65G7BrispC2eV2n &                                           &                                                     &                                                                              &                                           &                                                     &                                                                              & 5                                         & 3                                                   & 3                                                                            & 1                                             &                                                             & 2                                               &                                                               & 22                                     & 2,3                                                                                                                            &                                                                                                                                       & Control          \\\\\n",
       "\t6 & 158                   & 1        & R\\_40i6X1z7fQUH2Bs &                                           &                                                     &                                                                              & 2                                         & 6                                                   & 5                                                                            &                                           &                                                     &                                                                              & 4                                             &                                                             & 2                                               &                                                               &                                        & 3                                                                                                                              &                                                                                                                                       & Loss             \\\\\n",
       "\t7 & 91                    & 1        & R\\_1k0T1HeuJsmtdQm & 5                                         & 3                                                   & 3                                                                            &                                           &                                                     &                                                                              &                                           &                                                     &                                                                              & 1                                             &                                                             & 1                                               &                                                               & 21                                     & 2                                                                                                                              &                                                                                                                                       & Gain             \\\\\n",
       "\\end{tabular}\n"
      ],
      "text/markdown": [
       "\n",
       "A data.frame: 6 x 20\n",
       "\n",
       "| <!--/--> | Duration..in.seconds. &lt;chr&gt; | Finished &lt;chr&gt; | ResponseId &lt;chr&gt; | Q2 &lt;chr&gt; | Q3 &lt;chr&gt; | Q4 &lt;chr&gt; | Q2.1 &lt;chr&gt; | Q3.1 &lt;chr&gt; | Q4.1 &lt;chr&gt; | Q2.2 &lt;chr&gt; | Q3.2 &lt;chr&gt; | Q4.2 &lt;chr&gt; | Q5 &lt;chr&gt; | Q5_5_TEXT &lt;chr&gt; | Q6 &lt;chr&gt; | Q6_5_TEXT &lt;chr&gt; | Q7 &lt;chr&gt; | Q8 &lt;chr&gt; | Q8_4_TEXT &lt;chr&gt; | ConditionAssigned &lt;chr&gt; |\n",
       "|---|---|---|---|---|---|---|---|---|---|---|---|---|---|---|---|---|---|---|---|---|\n",
       "| 1 | Duration (in seconds) | Finished | Response ID       | How surprising was the above information? | How likely are you to reduce using single use cups? | How likely are you to bring your own reusable cup when purchasing beverages? | How surprising was the above information? | How likely are you to reduce using single use cups? | How likely are you to bring your own reusable cup when purchasing beverages? | How surprising was the above information? | How likely are you to reduce using single use cups? | How likely are you to bring your own reusable cup when purchasing beverages? | What is your status at UBC? - Selected Choice | What is your status at UBC? - Other (please specify) - Text | What is your gender identity? - Selected Choice | What is your gender identity? - Other (please specify) - Text | What is your age? (in number of years) | What factor(s) would most likely reduce your consumption of single-use cups? (Choose all applicable answers) - Selected Choice | What factor(s) would most likely reduce your consumption of single-use cups? (Choose all applicable answers) - Other (Specify) - Text | ConditionAssigned |\n",
       "| 3 | 77                    | 1        | R_7P4M3QNUV0sz7kl | <!----> | <!----> | <!----> | 1                                         | 3                                                   | 5                                                                            | <!----> | <!----> | <!----> | 1                                             | <!----> | 2                                               | <!----> | 21                                     | 1,3                                                                                                                            | <!----> | Loss              |\n",
       "| 4 | 34                    | 1        | R_3uPoKeQUqogIL4l | 5                                         | 2                                                   | 2                                                                            | <!----> | <!----> | <!----> | <!----> | <!----> | <!----> | 4                                             | <!----> | 1                                               | <!----> | 21                                     | 2                                                                                                                              | <!----> | Gain              |\n",
       "| 5 | 68                    | 1        | R_65G7BrispC2eV2n | <!----> | <!----> | <!----> | <!----> | <!----> | <!----> | 5                                         | 3                                                   | 3                                                                            | 1                                             | <!----> | 2                                               | <!----> | 22                                     | 2,3                                                                                                                            | <!----> | Control           |\n",
       "| 6 | 158                   | 1        | R_40i6X1z7fQUH2Bs | <!----> | <!----> | <!----> | 2                                         | 6                                                   | 5                                                                            | <!----> | <!----> | <!----> | 4                                             | <!----> | 2                                               | <!----> | <!----> | 3                                                                                                                              | <!----> | Loss              |\n",
       "| 7 | 91                    | 1        | R_1k0T1HeuJsmtdQm | 5                                         | 3                                                   | 3                                                                            | <!----> | <!----> | <!----> | <!----> | <!----> | <!----> | 1                                             | <!----> | 1                                               | <!----> | 21                                     | 2                                                                                                                              | <!----> | Gain              |\n",
       "\n"
      ],
      "text/plain": [
       "  Duration..in.seconds. Finished ResponseId       \n",
       "1 Duration (in seconds) Finished Response ID      \n",
       "3 77                    1        R_7P4M3QNUV0sz7kl\n",
       "4 34                    1        R_3uPoKeQUqogIL4l\n",
       "5 68                    1        R_65G7BrispC2eV2n\n",
       "6 158                   1        R_40i6X1z7fQUH2Bs\n",
       "7 91                    1        R_1k0T1HeuJsmtdQm\n",
       "  Q2                                       \n",
       "1 How surprising was the above information?\n",
       "3                                          \n",
       "4 5                                        \n",
       "5                                          \n",
       "6                                          \n",
       "7 5                                        \n",
       "  Q3                                                 \n",
       "1 How likely are you to reduce using single use cups?\n",
       "3                                                    \n",
       "4 2                                                  \n",
       "5                                                    \n",
       "6                                                    \n",
       "7 3                                                  \n",
       "  Q4                                                                          \n",
       "1 How likely are you to bring your own reusable cup when purchasing beverages?\n",
       "3                                                                             \n",
       "4 2                                                                           \n",
       "5                                                                             \n",
       "6                                                                             \n",
       "7 3                                                                           \n",
       "  Q2.1                                     \n",
       "1 How surprising was the above information?\n",
       "3 1                                        \n",
       "4                                          \n",
       "5                                          \n",
       "6 2                                        \n",
       "7                                          \n",
       "  Q3.1                                               \n",
       "1 How likely are you to reduce using single use cups?\n",
       "3 3                                                  \n",
       "4                                                    \n",
       "5                                                    \n",
       "6 6                                                  \n",
       "7                                                    \n",
       "  Q4.1                                                                        \n",
       "1 How likely are you to bring your own reusable cup when purchasing beverages?\n",
       "3 5                                                                           \n",
       "4                                                                             \n",
       "5                                                                             \n",
       "6 5                                                                           \n",
       "7                                                                             \n",
       "  Q2.2                                     \n",
       "1 How surprising was the above information?\n",
       "3                                          \n",
       "4                                          \n",
       "5 5                                        \n",
       "6                                          \n",
       "7                                          \n",
       "  Q3.2                                               \n",
       "1 How likely are you to reduce using single use cups?\n",
       "3                                                    \n",
       "4                                                    \n",
       "5 3                                                  \n",
       "6                                                    \n",
       "7                                                    \n",
       "  Q4.2                                                                        \n",
       "1 How likely are you to bring your own reusable cup when purchasing beverages?\n",
       "3                                                                             \n",
       "4                                                                             \n",
       "5 3                                                                           \n",
       "6                                                                             \n",
       "7                                                                             \n",
       "  Q5                                           \n",
       "1 What is your status at UBC? - Selected Choice\n",
       "3 1                                            \n",
       "4 4                                            \n",
       "5 1                                            \n",
       "6 4                                            \n",
       "7 1                                            \n",
       "  Q5_5_TEXT                                                  \n",
       "1 What is your status at UBC? - Other (please specify) - Text\n",
       "3                                                            \n",
       "4                                                            \n",
       "5                                                            \n",
       "6                                                            \n",
       "7                                                            \n",
       "  Q6                                             \n",
       "1 What is your gender identity? - Selected Choice\n",
       "3 2                                              \n",
       "4 1                                              \n",
       "5 2                                              \n",
       "6 2                                              \n",
       "7 1                                              \n",
       "  Q6_5_TEXT                                                    \n",
       "1 What is your gender identity? - Other (please specify) - Text\n",
       "3                                                              \n",
       "4                                                              \n",
       "5                                                              \n",
       "6                                                              \n",
       "7                                                              \n",
       "  Q7                                    \n",
       "1 What is your age? (in number of years)\n",
       "3 21                                    \n",
       "4 21                                    \n",
       "5 22                                    \n",
       "6                                       \n",
       "7 21                                    \n",
       "  Q8                                                                                                                            \n",
       "1 What factor(s) would most likely reduce your consumption of single-use cups? (Choose all applicable answers) - Selected Choice\n",
       "3 1,3                                                                                                                           \n",
       "4 2                                                                                                                             \n",
       "5 2,3                                                                                                                           \n",
       "6 3                                                                                                                             \n",
       "7 2                                                                                                                             \n",
       "  Q8_4_TEXT                                                                                                                            \n",
       "1 What factor(s) would most likely reduce your consumption of single-use cups? (Choose all applicable answers) - Other (Specify) - Text\n",
       "3                                                                                                                                      \n",
       "4                                                                                                                                      \n",
       "5                                                                                                                                      \n",
       "6                                                                                                                                      \n",
       "7                                                                                                                                      \n",
       "  ConditionAssigned\n",
       "1 ConditionAssigned\n",
       "3 Loss             \n",
       "4 Gain             \n",
       "5 Control          \n",
       "6 Loss             \n",
       "7 Gain             "
      ]
     },
     "metadata": {},
     "output_type": "display_data"
    }
   ],
   "source": [
    "# Remove the second row as this additional data is not needed\n",
    "df_cleaned_numerical <- filter_df_numerical[-2, ]\n",
    "\n",
    "# View the first few rows to confirm removal\n",
    "head(df_cleaned_numerical)"
   ]
  },
  {
   "cell_type": "code",
   "execution_count": 16,
   "metadata": {
    "vscode": {
     "languageId": "r"
    }
   },
   "outputs": [],
   "source": [
    "# Specify the path and filename and add to processed data\n",
    "output_path <- \"../data/processed/df_cleaned_numerical.csv\"\n",
    "\n",
    "# Write the dataframe to a CSV file\n",
    "write.csv(df_cleaned_numerical, output_path, row.names = FALSE)\n"
   ]
  },
  {
   "cell_type": "code",
   "execution_count": 17,
   "metadata": {
    "vscode": {
     "languageId": "r"
    }
   },
   "outputs": [],
   "source": [
    "df_cleaned_numerical <- df_cleaned_numerical[-1, ]\n"
   ]
  },
  {
   "cell_type": "code",
   "execution_count": 18,
   "metadata": {
    "vscode": {
     "languageId": "r"
    }
   },
   "outputs": [
    {
     "data": {
      "text/html": [
       "<table class=\"dataframe\">\n",
       "<caption>A data.frame: 6 x 23</caption>\n",
       "<thead>\n",
       "\t<tr><th></th><th scope=col>Duration..in.seconds.</th><th scope=col>Finished</th><th scope=col>ResponseId</th><th scope=col>Q5</th><th scope=col>Q5_5_TEXT</th><th scope=col>Q6</th><th scope=col>Q6_5_TEXT</th><th scope=col>Q7</th><th scope=col>Q8</th><th scope=col>Q8_4_TEXT</th><th scope=col>...</th><th scope=col>Q4_combined</th><th scope=col>Q2</th><th scope=col>Q3</th><th scope=col>Q4</th><th scope=col>Q2.1</th><th scope=col>Q3.1</th><th scope=col>Q4.1</th><th scope=col>Q2.2</th><th scope=col>Q3.2</th><th scope=col>Q4.2</th></tr>\n",
       "\t<tr><th></th><th scope=col>&lt;chr&gt;</th><th scope=col>&lt;chr&gt;</th><th scope=col>&lt;chr&gt;</th><th scope=col>&lt;chr&gt;</th><th scope=col>&lt;chr&gt;</th><th scope=col>&lt;chr&gt;</th><th scope=col>&lt;chr&gt;</th><th scope=col>&lt;chr&gt;</th><th scope=col>&lt;chr&gt;</th><th scope=col>&lt;chr&gt;</th><th scope=col>...</th><th scope=col>&lt;dbl&gt;</th><th scope=col>&lt;dbl&gt;</th><th scope=col>&lt;dbl&gt;</th><th scope=col>&lt;dbl&gt;</th><th scope=col>&lt;dbl&gt;</th><th scope=col>&lt;dbl&gt;</th><th scope=col>&lt;dbl&gt;</th><th scope=col>&lt;dbl&gt;</th><th scope=col>&lt;dbl&gt;</th><th scope=col>&lt;dbl&gt;</th></tr>\n",
       "</thead>\n",
       "<tbody>\n",
       "\t<tr><th scope=row>3</th><td>77 </td><td>1</td><td>R_7P4M3QNUV0sz7kl</td><td>1</td><td></td><td>2</td><td></td><td>21</td><td>1,3</td><td></td><td>...</td><td>5</td><td>NA</td><td>NA</td><td>NA</td><td> 1</td><td> 3</td><td> 5</td><td>NA</td><td>NA</td><td>NA</td></tr>\n",
       "\t<tr><th scope=row>4</th><td>34 </td><td>1</td><td>R_3uPoKeQUqogIL4l</td><td>4</td><td></td><td>1</td><td></td><td>21</td><td>2  </td><td></td><td>...</td><td>2</td><td> 5</td><td> 2</td><td> 2</td><td>NA</td><td>NA</td><td>NA</td><td>NA</td><td>NA</td><td>NA</td></tr>\n",
       "\t<tr><th scope=row>5</th><td>68 </td><td>1</td><td>R_65G7BrispC2eV2n</td><td>1</td><td></td><td>2</td><td></td><td>22</td><td>2,3</td><td></td><td>...</td><td>3</td><td>NA</td><td>NA</td><td>NA</td><td>NA</td><td>NA</td><td>NA</td><td> 5</td><td> 3</td><td> 3</td></tr>\n",
       "\t<tr><th scope=row>6</th><td>158</td><td>1</td><td>R_40i6X1z7fQUH2Bs</td><td>4</td><td></td><td>2</td><td></td><td>  </td><td>3  </td><td></td><td>...</td><td>5</td><td>NA</td><td>NA</td><td>NA</td><td> 2</td><td> 6</td><td> 5</td><td>NA</td><td>NA</td><td>NA</td></tr>\n",
       "\t<tr><th scope=row>7</th><td>91 </td><td>1</td><td>R_1k0T1HeuJsmtdQm</td><td>1</td><td></td><td>1</td><td></td><td>21</td><td>2  </td><td></td><td>...</td><td>3</td><td> 5</td><td> 3</td><td> 3</td><td>NA</td><td>NA</td><td>NA</td><td>NA</td><td>NA</td><td>NA</td></tr>\n",
       "\t<tr><th scope=row>8</th><td>103</td><td>1</td><td>R_3y9bl3tR1vzxcSR</td><td>1</td><td></td><td>2</td><td></td><td>22</td><td>1,2</td><td></td><td>...</td><td>6</td><td>NA</td><td>NA</td><td>NA</td><td> 2</td><td> 7</td><td> 6</td><td>NA</td><td>NA</td><td>NA</td></tr>\n",
       "</tbody>\n",
       "</table>\n"
      ],
      "text/latex": [
       "A data.frame: 6 x 23\n",
       "\\begin{tabular}{r|lllllllllllllllllllll}\n",
       "  & Duration..in.seconds. & Finished & ResponseId & Q5 & Q5\\_5\\_TEXT & Q6 & Q6\\_5\\_TEXT & Q7 & Q8 & Q8\\_4\\_TEXT & ... & Q4\\_combined & Q2 & Q3 & Q4 & Q2.1 & Q3.1 & Q4.1 & Q2.2 & Q3.2 & Q4.2\\\\\n",
       "  & <chr> & <chr> & <chr> & <chr> & <chr> & <chr> & <chr> & <chr> & <chr> & <chr> & ... & <dbl> & <dbl> & <dbl> & <dbl> & <dbl> & <dbl> & <dbl> & <dbl> & <dbl> & <dbl>\\\\\n",
       "\\hline\n",
       "\t3 & 77  & 1 & R\\_7P4M3QNUV0sz7kl & 1 &  & 2 &  & 21 & 1,3 &  & ... & 5 & NA & NA & NA &  1 &  3 &  5 & NA & NA & NA\\\\\n",
       "\t4 & 34  & 1 & R\\_3uPoKeQUqogIL4l & 4 &  & 1 &  & 21 & 2   &  & ... & 2 &  5 &  2 &  2 & NA & NA & NA & NA & NA & NA\\\\\n",
       "\t5 & 68  & 1 & R\\_65G7BrispC2eV2n & 1 &  & 2 &  & 22 & 2,3 &  & ... & 3 & NA & NA & NA & NA & NA & NA &  5 &  3 &  3\\\\\n",
       "\t6 & 158 & 1 & R\\_40i6X1z7fQUH2Bs & 4 &  & 2 &  &    & 3   &  & ... & 5 & NA & NA & NA &  2 &  6 &  5 & NA & NA & NA\\\\\n",
       "\t7 & 91  & 1 & R\\_1k0T1HeuJsmtdQm & 1 &  & 1 &  & 21 & 2   &  & ... & 3 &  5 &  3 &  3 & NA & NA & NA & NA & NA & NA\\\\\n",
       "\t8 & 103 & 1 & R\\_3y9bl3tR1vzxcSR & 1 &  & 2 &  & 22 & 1,2 &  & ... & 6 & NA & NA & NA &  2 &  7 &  6 & NA & NA & NA\\\\\n",
       "\\end{tabular}\n"
      ],
      "text/markdown": [
       "\n",
       "A data.frame: 6 x 23\n",
       "\n",
       "| <!--/--> | Duration..in.seconds. &lt;chr&gt; | Finished &lt;chr&gt; | ResponseId &lt;chr&gt; | Q5 &lt;chr&gt; | Q5_5_TEXT &lt;chr&gt; | Q6 &lt;chr&gt; | Q6_5_TEXT &lt;chr&gt; | Q7 &lt;chr&gt; | Q8 &lt;chr&gt; | Q8_4_TEXT &lt;chr&gt; | ... ... | Q4_combined &lt;dbl&gt; | Q2 &lt;dbl&gt; | Q3 &lt;dbl&gt; | Q4 &lt;dbl&gt; | Q2.1 &lt;dbl&gt; | Q3.1 &lt;dbl&gt; | Q4.1 &lt;dbl&gt; | Q2.2 &lt;dbl&gt; | Q3.2 &lt;dbl&gt; | Q4.2 &lt;dbl&gt; |\n",
       "|---|---|---|---|---|---|---|---|---|---|---|---|---|---|---|---|---|---|---|---|---|---|\n",
       "| 3 | 77  | 1 | R_7P4M3QNUV0sz7kl | 1 | <!----> | 2 | <!----> | 21 | 1,3 | <!----> | ... | 5 | NA | NA | NA |  1 |  3 |  5 | NA | NA | NA |\n",
       "| 4 | 34  | 1 | R_3uPoKeQUqogIL4l | 4 | <!----> | 1 | <!----> | 21 | 2   | <!----> | ... | 2 |  5 |  2 |  2 | NA | NA | NA | NA | NA | NA |\n",
       "| 5 | 68  | 1 | R_65G7BrispC2eV2n | 1 | <!----> | 2 | <!----> | 22 | 2,3 | <!----> | ... | 3 | NA | NA | NA | NA | NA | NA |  5 |  3 |  3 |\n",
       "| 6 | 158 | 1 | R_40i6X1z7fQUH2Bs | 4 | <!----> | 2 | <!----> | <!----> | 3   | <!----> | ... | 5 | NA | NA | NA |  2 |  6 |  5 | NA | NA | NA |\n",
       "| 7 | 91  | 1 | R_1k0T1HeuJsmtdQm | 1 | <!----> | 1 | <!----> | 21 | 2   | <!----> | ... | 3 |  5 |  3 |  3 | NA | NA | NA | NA | NA | NA |\n",
       "| 8 | 103 | 1 | R_3y9bl3tR1vzxcSR | 1 | <!----> | 2 | <!----> | 22 | 1,2 | <!----> | ... | 6 | NA | NA | NA |  2 |  7 |  6 | NA | NA | NA |\n",
       "\n"
      ],
      "text/plain": [
       "  Duration..in.seconds. Finished ResponseId        Q5 Q5_5_TEXT Q6 Q6_5_TEXT Q7\n",
       "3 77                    1        R_7P4M3QNUV0sz7kl 1            2            21\n",
       "4 34                    1        R_3uPoKeQUqogIL4l 4            1            21\n",
       "5 68                    1        R_65G7BrispC2eV2n 1            2            22\n",
       "6 158                   1        R_40i6X1z7fQUH2Bs 4            2              \n",
       "7 91                    1        R_1k0T1HeuJsmtdQm 1            1            21\n",
       "8 103                   1        R_3y9bl3tR1vzxcSR 1            2            22\n",
       "  Q8  Q8_4_TEXT ... Q4_combined Q2 Q3 Q4 Q2.1 Q3.1 Q4.1 Q2.2 Q3.2 Q4.2\n",
       "3 1,3           ... 5           NA NA NA  1    3    5   NA   NA   NA  \n",
       "4 2             ... 2            5  2  2 NA   NA   NA   NA   NA   NA  \n",
       "5 2,3           ... 3           NA NA NA NA   NA   NA    5    3    3  \n",
       "6 3             ... 5           NA NA NA  2    6    5   NA   NA   NA  \n",
       "7 2             ... 3            5  3  3 NA   NA   NA   NA   NA   NA  \n",
       "8 1,2           ... 6           NA NA NA  2    7    6   NA   NA   NA  "
      ]
     },
     "metadata": {},
     "output_type": "display_data"
    }
   ],
   "source": [
    "\n",
    "# Convert Q2 Q3 and Q4 columns to numeric\n",
    "df_cleaned_numerical$Q2 <- as.numeric(as.character(df_cleaned_numerical$Q2))\n",
    "df_cleaned_numerical$`Q2.1` <- as.numeric(as.character(df_cleaned_numerical$`Q2.1`))\n",
    "df_cleaned_numerical$`Q2.2` <- as.numeric(as.character(df_cleaned_numerical$`Q2.2`))\n",
    "\n",
    "df_cleaned_numerical$Q3 <- as.numeric(as.character(df_cleaned_numerical$Q3))\n",
    "df_cleaned_numerical$`Q3.1` <- as.numeric(as.character(df_cleaned_numerical$`Q3.1`))\n",
    "df_cleaned_numerical$`Q3.2` <- as.numeric(as.character(df_cleaned_numerical$`Q3.2`))\n",
    "\n",
    "df_cleaned_numerical$Q4 <- as.numeric(as.character(df_cleaned_numerical$Q4))\n",
    "df_cleaned_numerical$`Q4.1` <- as.numeric(as.character(df_cleaned_numerical$`Q4.1`))\n",
    "df_cleaned_numerical$`Q4.2` <- as.numeric(as.character(df_cleaned_numerical$`Q4.2`))\n",
    "\n",
    "# Create Q2_combined Q3_combined and Q4_combined columns\n",
    "df_cleaned_numerical <- df_cleaned_numerical %>%\n",
    "  mutate(\n",
    "    Q2_combined = case_when(\n",
    "      ConditionAssigned == \"Gain\" ~ Q2,\n",
    "      ConditionAssigned == \"Loss\" ~ `Q2.1`,\n",
    "      ConditionAssigned == \"Control\" ~ `Q2.2`,\n",
    "      TRUE ~ NA_real_\n",
    "    ),\n",
    "    Q3_combined = case_when(\n",
    "      ConditionAssigned == \"Gain\" ~ Q3,\n",
    "      ConditionAssigned == \"Loss\" ~ `Q3.1`,\n",
    "      ConditionAssigned == \"Control\" ~ `Q3.2`,\n",
    "      TRUE ~ NA_real_\n",
    "    ),\n",
    "    Q4_combined = case_when(\n",
    "      ConditionAssigned == \"Gain\" ~ Q4,\n",
    "      ConditionAssigned == \"Loss\" ~ `Q4.1`,\n",
    "      ConditionAssigned == \"Control\" ~ `Q4.2`,\n",
    "      TRUE ~ NA_real_\n",
    "    )\n",
    "  )\n",
    "\n",
    "# Remove the original Q2 Q3 and Q4 columns\n",
    "df_cleaned_numerical <- df_cleaned_numerical %>%\n",
    "  dplyr::select(-Q2, -`Q2.1`, -`Q2.2`,-Q3, -`Q3.1`, -`Q3.2`, -Q4, -`Q4.1`, -`Q4.2`, everything())\n",
    "\n",
    "# View the updated dataframe\n",
    "head(df_cleaned_numerical)\n"
   ]
  },
  {
   "cell_type": "code",
   "execution_count": 19,
   "metadata": {
    "vscode": {
     "languageId": "r"
    }
   },
   "outputs": [
    {
     "data": {
      "text/html": [
       "<style>\n",
       ".list-inline {list-style: none; margin:0; padding: 0}\n",
       ".list-inline>li {display: inline-block}\n",
       ".list-inline>li:not(:last-child)::after {content: \"\\00b7\"; padding: 0 .5ex}\n",
       "</style>\n",
       "<ol class=list-inline><li>'Duration..in.seconds.'</li><li>'Finished'</li><li>'ResponseId'</li><li>'Q5'</li><li>'Q5_5_TEXT'</li><li>'Q6'</li><li>'Q6_5_TEXT'</li><li>'Q7'</li><li>'Q8'</li><li>'Q8_4_TEXT'</li><li>'ConditionAssigned'</li><li>'Q2_combined'</li><li>'Q3_combined'</li><li>'Q4_combined'</li><li>'Q2'</li><li>'Q3'</li><li>'Q4'</li><li>'Q2.1'</li><li>'Q3.1'</li><li>'Q4.1'</li><li>'Q2.2'</li><li>'Q3.2'</li><li>'Q4.2'</li></ol>\n"
      ],
      "text/latex": [
       "\\begin{enumerate*}\n",
       "\\item 'Duration..in.seconds.'\n",
       "\\item 'Finished'\n",
       "\\item 'ResponseId'\n",
       "\\item 'Q5'\n",
       "\\item 'Q5\\_5\\_TEXT'\n",
       "\\item 'Q6'\n",
       "\\item 'Q6\\_5\\_TEXT'\n",
       "\\item 'Q7'\n",
       "\\item 'Q8'\n",
       "\\item 'Q8\\_4\\_TEXT'\n",
       "\\item 'ConditionAssigned'\n",
       "\\item 'Q2\\_combined'\n",
       "\\item 'Q3\\_combined'\n",
       "\\item 'Q4\\_combined'\n",
       "\\item 'Q2'\n",
       "\\item 'Q3'\n",
       "\\item 'Q4'\n",
       "\\item 'Q2.1'\n",
       "\\item 'Q3.1'\n",
       "\\item 'Q4.1'\n",
       "\\item 'Q2.2'\n",
       "\\item 'Q3.2'\n",
       "\\item 'Q4.2'\n",
       "\\end{enumerate*}\n"
      ],
      "text/markdown": [
       "1. 'Duration..in.seconds.'\n",
       "2. 'Finished'\n",
       "3. 'ResponseId'\n",
       "4. 'Q5'\n",
       "5. 'Q5_5_TEXT'\n",
       "6. 'Q6'\n",
       "7. 'Q6_5_TEXT'\n",
       "8. 'Q7'\n",
       "9. 'Q8'\n",
       "10. 'Q8_4_TEXT'\n",
       "11. 'ConditionAssigned'\n",
       "12. 'Q2_combined'\n",
       "13. 'Q3_combined'\n",
       "14. 'Q4_combined'\n",
       "15. 'Q2'\n",
       "16. 'Q3'\n",
       "17. 'Q4'\n",
       "18. 'Q2.1'\n",
       "19. 'Q3.1'\n",
       "20. 'Q4.1'\n",
       "21. 'Q2.2'\n",
       "22. 'Q3.2'\n",
       "23. 'Q4.2'\n",
       "\n",
       "\n"
      ],
      "text/plain": [
       " [1] \"Duration..in.seconds.\" \"Finished\"              \"ResponseId\"           \n",
       " [4] \"Q5\"                    \"Q5_5_TEXT\"             \"Q6\"                   \n",
       " [7] \"Q6_5_TEXT\"             \"Q7\"                    \"Q8\"                   \n",
       "[10] \"Q8_4_TEXT\"             \"ConditionAssigned\"     \"Q2_combined\"          \n",
       "[13] \"Q3_combined\"           \"Q4_combined\"           \"Q2\"                   \n",
       "[16] \"Q3\"                    \"Q4\"                    \"Q2.1\"                 \n",
       "[19] \"Q3.1\"                  \"Q4.1\"                  \"Q2.2\"                 \n",
       "[22] \"Q3.2\"                  \"Q4.2\"                 "
      ]
     },
     "metadata": {},
     "output_type": "display_data"
    }
   ],
   "source": [
    "names(df_cleaned_numerical)"
   ]
  },
  {
   "cell_type": "code",
   "execution_count": 20,
   "metadata": {
    "vscode": {
     "languageId": "r"
    }
   },
   "outputs": [
    {
     "data": {
      "text/html": [
       "<table class=\"dataframe\">\n",
       "<caption>A data.frame: 158 x 5</caption>\n",
       "<thead>\n",
       "\t<tr><th></th><th scope=col>ResponseId</th><th scope=col>ConditionAssigned</th><th scope=col>Q2_combined</th><th scope=col>Q3_combined</th><th scope=col>Q4_combined</th></tr>\n",
       "\t<tr><th></th><th scope=col>&lt;chr&gt;</th><th scope=col>&lt;chr&gt;</th><th scope=col>&lt;dbl&gt;</th><th scope=col>&lt;dbl&gt;</th><th scope=col>&lt;dbl&gt;</th></tr>\n",
       "</thead>\n",
       "<tbody>\n",
       "\t<tr><th scope=row>3</th><td>R_7P4M3QNUV0sz7kl</td><td>Loss   </td><td> 1</td><td> 3</td><td> 5</td></tr>\n",
       "\t<tr><th scope=row>4</th><td>R_3uPoKeQUqogIL4l</td><td>Gain   </td><td> 5</td><td> 2</td><td> 2</td></tr>\n",
       "\t<tr><th scope=row>5</th><td>R_65G7BrispC2eV2n</td><td>Control</td><td> 5</td><td> 3</td><td> 3</td></tr>\n",
       "\t<tr><th scope=row>6</th><td>R_40i6X1z7fQUH2Bs</td><td>Loss   </td><td> 2</td><td> 6</td><td> 5</td></tr>\n",
       "\t<tr><th scope=row>7</th><td>R_1k0T1HeuJsmtdQm</td><td>Gain   </td><td> 5</td><td> 3</td><td> 3</td></tr>\n",
       "\t<tr><th scope=row>8</th><td>R_3y9bl3tR1vzxcSR</td><td>Loss   </td><td> 2</td><td> 7</td><td> 6</td></tr>\n",
       "\t<tr><th scope=row>9</th><td>R_7jx25gH6q84XuJX</td><td>Control</td><td> 1</td><td> 5</td><td> 4</td></tr>\n",
       "\t<tr><th scope=row>10</th><td>R_1F5my25GorP5SB7</td><td>Control</td><td> 1</td><td> 3</td><td> 3</td></tr>\n",
       "\t<tr><th scope=row>11</th><td>R_4rrxy04vs26yGbE</td><td>Gain   </td><td> 5</td><td> 5</td><td> 3</td></tr>\n",
       "\t<tr><th scope=row>12</th><td>R_4YM0YRlwqDt84n6</td><td>Loss   </td><td> 4</td><td> 5</td><td> 2</td></tr>\n",
       "\t<tr><th scope=row>13</th><td>R_3HirVktC5EZCToz</td><td>       </td><td>NA</td><td>NA</td><td>NA</td></tr>\n",
       "\t<tr><th scope=row>14</th><td>R_7jVsDsHWJIq8ryF</td><td>Gain   </td><td> 5</td><td> 4</td><td> 2</td></tr>\n",
       "\t<tr><th scope=row>15</th><td>R_4zBJfhVvODh4DfU</td><td>Control</td><td> 2</td><td> 6</td><td> 6</td></tr>\n",
       "\t<tr><th scope=row>16</th><td>R_4fbm5Ejfli11HdD</td><td>Loss   </td><td> 6</td><td> 6</td><td> 7</td></tr>\n",
       "\t<tr><th scope=row>17</th><td>R_4FBbMcgkQPVv6hj</td><td>Gain   </td><td> 1</td><td> 5</td><td> 1</td></tr>\n",
       "\t<tr><th scope=row>18</th><td>R_2t2ZsgiK9zDXOCd</td><td>Loss   </td><td> 3</td><td> 6</td><td> 5</td></tr>\n",
       "\t<tr><th scope=row>19</th><td>R_4EVytMWzOPhC0oN</td><td>Control</td><td> 1</td><td> 4</td><td> 5</td></tr>\n",
       "\t<tr><th scope=row>20</th><td>R_4vbKtMtrQdExNwl</td><td>Control</td><td> 4</td><td> 2</td><td> 2</td></tr>\n",
       "\t<tr><th scope=row>21</th><td>R_3LXNk1DDObbonKj</td><td>Loss   </td><td> 5</td><td> 6</td><td> 5</td></tr>\n",
       "\t<tr><th scope=row>22</th><td>R_1Xd0KpBBcYliB4F</td><td>Control</td><td> 1</td><td> 6</td><td> 6</td></tr>\n",
       "\t<tr><th scope=row>23</th><td>R_3joLtZXkaKa4969</td><td>Gain   </td><td> 5</td><td> 4</td><td> 4</td></tr>\n",
       "\t<tr><th scope=row>24</th><td>R_5TPKL7HtrsGPkGZ</td><td>Loss   </td><td> 4</td><td> 7</td><td> 7</td></tr>\n",
       "\t<tr><th scope=row>25</th><td>R_5v34hBiUkhAMNe8</td><td>Gain   </td><td> 1</td><td> 3</td><td> 1</td></tr>\n",
       "\t<tr><th scope=row>26</th><td>R_4Ejo47W5aWAd16r</td><td>Control</td><td> 1</td><td> 4</td><td> 1</td></tr>\n",
       "\t<tr><th scope=row>27</th><td>R_3AtA0ToAL1kTjkR</td><td>Loss   </td><td> 1</td><td> 4</td><td> 2</td></tr>\n",
       "\t<tr><th scope=row>28</th><td>R_3j9z5Mw2V2vW5BG</td><td>Control</td><td> 3</td><td> 5</td><td> 3</td></tr>\n",
       "\t<tr><th scope=row>29</th><td>R_1ZZZHiN45qpdhFD</td><td>Gain   </td><td> 6</td><td> 7</td><td> 1</td></tr>\n",
       "\t<tr><th scope=row>30</th><td>R_2abK14rV2Tm7jZQ</td><td>Loss   </td><td> 5</td><td> 7</td><td> 3</td></tr>\n",
       "\t<tr><th scope=row>31</th><td>R_3g6LePmlQn4jRUZ</td><td>Control</td><td> 1</td><td> 4</td><td> 3</td></tr>\n",
       "\t<tr><th scope=row>32</th><td>R_7Z4zcdlWkTaDvz3</td><td>Loss   </td><td> 2</td><td> 1</td><td> 5</td></tr>\n",
       "\t<tr><th scope=row>...</th><td>...</td><td>...</td><td>...</td><td>...</td><td>...</td></tr>\n",
       "\t<tr><th scope=row>131</th><td>R_26fnMiOd6cyliwH</td><td>       </td><td>NA</td><td>NA</td><td>NA</td></tr>\n",
       "\t<tr><th scope=row>132</th><td>R_2UhdYV0GluzxroC</td><td>Loss   </td><td> 3</td><td> 5</td><td> 5</td></tr>\n",
       "\t<tr><th scope=row>133</th><td>R_8OkgrACH0vqBe0N</td><td>Gain   </td><td> 6</td><td> 5</td><td> 3</td></tr>\n",
       "\t<tr><th scope=row>134</th><td>R_7g4VgMcH7Svl9U5</td><td>Loss   </td><td> 2</td><td> 6</td><td> 5</td></tr>\n",
       "\t<tr><th scope=row>135</th><td>R_3gEKd49f3dsh4U9</td><td>Loss   </td><td> 2</td><td> 3</td><td> 3</td></tr>\n",
       "\t<tr><th scope=row>136</th><td>R_7z8eLXyOsJt13Uk</td><td>Control</td><td> 4</td><td> 2</td><td> 1</td></tr>\n",
       "\t<tr><th scope=row>137</th><td>R_7fdhgwlT77Jeymj</td><td>       </td><td>NA</td><td>NA</td><td>NA</td></tr>\n",
       "\t<tr><th scope=row>138</th><td>R_5SdhHiAM1BhH54p</td><td>Control</td><td> 1</td><td> 3</td><td> 2</td></tr>\n",
       "\t<tr><th scope=row>139</th><td>R_5dNvg2BuZrg5Kss</td><td>Gain   </td><td> 5</td><td> 3</td><td> 5</td></tr>\n",
       "\t<tr><th scope=row>140</th><td>R_7QLFJi1nHrw9V2P</td><td>Loss   </td><td> 4</td><td> 7</td><td> 6</td></tr>\n",
       "\t<tr><th scope=row>141</th><td>R_57WYmPRzXDSeSKR</td><td>Control</td><td> 2</td><td> 4</td><td> 4</td></tr>\n",
       "\t<tr><th scope=row>142</th><td>R_1R8E8XTlpyqAXLP</td><td>Gain   </td><td> 2</td><td> 3</td><td> 4</td></tr>\n",
       "\t<tr><th scope=row>143</th><td>R_6OW74jbYqKL3ikV</td><td>Gain   </td><td> 1</td><td> 1</td><td> 1</td></tr>\n",
       "\t<tr><th scope=row>144</th><td>R_5AjjRK492Lljyxz</td><td>Loss   </td><td> 3</td><td> 6</td><td> 5</td></tr>\n",
       "\t<tr><th scope=row>145</th><td>R_5o7G9oVfLl8H9xw</td><td>Control</td><td> 4</td><td> 5</td><td> 4</td></tr>\n",
       "\t<tr><th scope=row>146</th><td>R_3nHJrQkcD2nf1IM</td><td>Loss   </td><td> 5</td><td> 3</td><td> 2</td></tr>\n",
       "\t<tr><th scope=row>147</th><td>R_78HQ71fTuW0awFb</td><td>Control</td><td> 1</td><td> 6</td><td> 6</td></tr>\n",
       "\t<tr><th scope=row>148</th><td>R_7mmkGU11fel5e6J</td><td>Gain   </td><td> 6</td><td> 6</td><td> 5</td></tr>\n",
       "\t<tr><th scope=row>149</th><td>R_3E02UFF150agytV</td><td>Control</td><td> 2</td><td> 5</td><td> 5</td></tr>\n",
       "\t<tr><th scope=row>150</th><td>R_3AJHwuxmhY4zp0R</td><td>Gain   </td><td> 5</td><td> 5</td><td> 3</td></tr>\n",
       "\t<tr><th scope=row>151</th><td>R_2sh9aB8AOECQhYv</td><td>Control</td><td> 3</td><td> 1</td><td> 1</td></tr>\n",
       "\t<tr><th scope=row>152</th><td>R_5m0lnPzpem8Z0M9</td><td>Loss   </td><td> 5</td><td> 1</td><td> 1</td></tr>\n",
       "\t<tr><th scope=row>153</th><td>R_5efOR25E4CRXPW6</td><td>Loss   </td><td> 2</td><td> 3</td><td> 2</td></tr>\n",
       "\t<tr><th scope=row>154</th><td>R_7HjVpX6tsulNlqZ</td><td>Gain   </td><td> 5</td><td> 5</td><td> 5</td></tr>\n",
       "\t<tr><th scope=row>155</th><td>R_7CNdtdw6qqwMGcc</td><td>Loss   </td><td>NA</td><td>NA</td><td>NA</td></tr>\n",
       "\t<tr><th scope=row>156</th><td>R_8VPQF9ai6Lrhbax</td><td>Control</td><td> 1</td><td> 1</td><td> 1</td></tr>\n",
       "\t<tr><th scope=row>157</th><td>R_7t3YFsezgAn8QQU</td><td>Loss   </td><td> 4</td><td> 1</td><td> 3</td></tr>\n",
       "\t<tr><th scope=row>158</th><td>R_3aOKRatgTlSR240</td><td>Gain   </td><td> 7</td><td> 5</td><td> 3</td></tr>\n",
       "\t<tr><th scope=row>159</th><td>R_4dh8hABCGlhs8ka</td><td>Gain   </td><td> 1</td><td> 1</td><td> 1</td></tr>\n",
       "\t<tr><th scope=row>160</th><td>R_7iOOHIfY3kuYfsN</td><td>Loss   </td><td> 5</td><td> 1</td><td> 1</td></tr>\n",
       "</tbody>\n",
       "</table>\n"
      ],
      "text/latex": [
       "A data.frame: 158 x 5\n",
       "\\begin{tabular}{r|lllll}\n",
       "  & ResponseId & ConditionAssigned & Q2\\_combined & Q3\\_combined & Q4\\_combined\\\\\n",
       "  & <chr> & <chr> & <dbl> & <dbl> & <dbl>\\\\\n",
       "\\hline\n",
       "\t3 & R\\_7P4M3QNUV0sz7kl & Loss    &  1 &  3 &  5\\\\\n",
       "\t4 & R\\_3uPoKeQUqogIL4l & Gain    &  5 &  2 &  2\\\\\n",
       "\t5 & R\\_65G7BrispC2eV2n & Control &  5 &  3 &  3\\\\\n",
       "\t6 & R\\_40i6X1z7fQUH2Bs & Loss    &  2 &  6 &  5\\\\\n",
       "\t7 & R\\_1k0T1HeuJsmtdQm & Gain    &  5 &  3 &  3\\\\\n",
       "\t8 & R\\_3y9bl3tR1vzxcSR & Loss    &  2 &  7 &  6\\\\\n",
       "\t9 & R\\_7jx25gH6q84XuJX & Control &  1 &  5 &  4\\\\\n",
       "\t10 & R\\_1F5my25GorP5SB7 & Control &  1 &  3 &  3\\\\\n",
       "\t11 & R\\_4rrxy04vs26yGbE & Gain    &  5 &  5 &  3\\\\\n",
       "\t12 & R\\_4YM0YRlwqDt84n6 & Loss    &  4 &  5 &  2\\\\\n",
       "\t13 & R\\_3HirVktC5EZCToz &         & NA & NA & NA\\\\\n",
       "\t14 & R\\_7jVsDsHWJIq8ryF & Gain    &  5 &  4 &  2\\\\\n",
       "\t15 & R\\_4zBJfhVvODh4DfU & Control &  2 &  6 &  6\\\\\n",
       "\t16 & R\\_4fbm5Ejfli11HdD & Loss    &  6 &  6 &  7\\\\\n",
       "\t17 & R\\_4FBbMcgkQPVv6hj & Gain    &  1 &  5 &  1\\\\\n",
       "\t18 & R\\_2t2ZsgiK9zDXOCd & Loss    &  3 &  6 &  5\\\\\n",
       "\t19 & R\\_4EVytMWzOPhC0oN & Control &  1 &  4 &  5\\\\\n",
       "\t20 & R\\_4vbKtMtrQdExNwl & Control &  4 &  2 &  2\\\\\n",
       "\t21 & R\\_3LXNk1DDObbonKj & Loss    &  5 &  6 &  5\\\\\n",
       "\t22 & R\\_1Xd0KpBBcYliB4F & Control &  1 &  6 &  6\\\\\n",
       "\t23 & R\\_3joLtZXkaKa4969 & Gain    &  5 &  4 &  4\\\\\n",
       "\t24 & R\\_5TPKL7HtrsGPkGZ & Loss    &  4 &  7 &  7\\\\\n",
       "\t25 & R\\_5v34hBiUkhAMNe8 & Gain    &  1 &  3 &  1\\\\\n",
       "\t26 & R\\_4Ejo47W5aWAd16r & Control &  1 &  4 &  1\\\\\n",
       "\t27 & R\\_3AtA0ToAL1kTjkR & Loss    &  1 &  4 &  2\\\\\n",
       "\t28 & R\\_3j9z5Mw2V2vW5BG & Control &  3 &  5 &  3\\\\\n",
       "\t29 & R\\_1ZZZHiN45qpdhFD & Gain    &  6 &  7 &  1\\\\\n",
       "\t30 & R\\_2abK14rV2Tm7jZQ & Loss    &  5 &  7 &  3\\\\\n",
       "\t31 & R\\_3g6LePmlQn4jRUZ & Control &  1 &  4 &  3\\\\\n",
       "\t32 & R\\_7Z4zcdlWkTaDvz3 & Loss    &  2 &  1 &  5\\\\\n",
       "\t... & ... & ... & ... & ... & ...\\\\\n",
       "\t131 & R\\_26fnMiOd6cyliwH &         & NA & NA & NA\\\\\n",
       "\t132 & R\\_2UhdYV0GluzxroC & Loss    &  3 &  5 &  5\\\\\n",
       "\t133 & R\\_8OkgrACH0vqBe0N & Gain    &  6 &  5 &  3\\\\\n",
       "\t134 & R\\_7g4VgMcH7Svl9U5 & Loss    &  2 &  6 &  5\\\\\n",
       "\t135 & R\\_3gEKd49f3dsh4U9 & Loss    &  2 &  3 &  3\\\\\n",
       "\t136 & R\\_7z8eLXyOsJt13Uk & Control &  4 &  2 &  1\\\\\n",
       "\t137 & R\\_7fdhgwlT77Jeymj &         & NA & NA & NA\\\\\n",
       "\t138 & R\\_5SdhHiAM1BhH54p & Control &  1 &  3 &  2\\\\\n",
       "\t139 & R\\_5dNvg2BuZrg5Kss & Gain    &  5 &  3 &  5\\\\\n",
       "\t140 & R\\_7QLFJi1nHrw9V2P & Loss    &  4 &  7 &  6\\\\\n",
       "\t141 & R\\_57WYmPRzXDSeSKR & Control &  2 &  4 &  4\\\\\n",
       "\t142 & R\\_1R8E8XTlpyqAXLP & Gain    &  2 &  3 &  4\\\\\n",
       "\t143 & R\\_6OW74jbYqKL3ikV & Gain    &  1 &  1 &  1\\\\\n",
       "\t144 & R\\_5AjjRK492Lljyxz & Loss    &  3 &  6 &  5\\\\\n",
       "\t145 & R\\_5o7G9oVfLl8H9xw & Control &  4 &  5 &  4\\\\\n",
       "\t146 & R\\_3nHJrQkcD2nf1IM & Loss    &  5 &  3 &  2\\\\\n",
       "\t147 & R\\_78HQ71fTuW0awFb & Control &  1 &  6 &  6\\\\\n",
       "\t148 & R\\_7mmkGU11fel5e6J & Gain    &  6 &  6 &  5\\\\\n",
       "\t149 & R\\_3E02UFF150agytV & Control &  2 &  5 &  5\\\\\n",
       "\t150 & R\\_3AJHwuxmhY4zp0R & Gain    &  5 &  5 &  3\\\\\n",
       "\t151 & R\\_2sh9aB8AOECQhYv & Control &  3 &  1 &  1\\\\\n",
       "\t152 & R\\_5m0lnPzpem8Z0M9 & Loss    &  5 &  1 &  1\\\\\n",
       "\t153 & R\\_5efOR25E4CRXPW6 & Loss    &  2 &  3 &  2\\\\\n",
       "\t154 & R\\_7HjVpX6tsulNlqZ & Gain    &  5 &  5 &  5\\\\\n",
       "\t155 & R\\_7CNdtdw6qqwMGcc & Loss    & NA & NA & NA\\\\\n",
       "\t156 & R\\_8VPQF9ai6Lrhbax & Control &  1 &  1 &  1\\\\\n",
       "\t157 & R\\_7t3YFsezgAn8QQU & Loss    &  4 &  1 &  3\\\\\n",
       "\t158 & R\\_3aOKRatgTlSR240 & Gain    &  7 &  5 &  3\\\\\n",
       "\t159 & R\\_4dh8hABCGlhs8ka & Gain    &  1 &  1 &  1\\\\\n",
       "\t160 & R\\_7iOOHIfY3kuYfsN & Loss    &  5 &  1 &  1\\\\\n",
       "\\end{tabular}\n"
      ],
      "text/markdown": [
       "\n",
       "A data.frame: 158 x 5\n",
       "\n",
       "| <!--/--> | ResponseId &lt;chr&gt; | ConditionAssigned &lt;chr&gt; | Q2_combined &lt;dbl&gt; | Q3_combined &lt;dbl&gt; | Q4_combined &lt;dbl&gt; |\n",
       "|---|---|---|---|---|---|\n",
       "| 3 | R_7P4M3QNUV0sz7kl | Loss    |  1 |  3 |  5 |\n",
       "| 4 | R_3uPoKeQUqogIL4l | Gain    |  5 |  2 |  2 |\n",
       "| 5 | R_65G7BrispC2eV2n | Control |  5 |  3 |  3 |\n",
       "| 6 | R_40i6X1z7fQUH2Bs | Loss    |  2 |  6 |  5 |\n",
       "| 7 | R_1k0T1HeuJsmtdQm | Gain    |  5 |  3 |  3 |\n",
       "| 8 | R_3y9bl3tR1vzxcSR | Loss    |  2 |  7 |  6 |\n",
       "| 9 | R_7jx25gH6q84XuJX | Control |  1 |  5 |  4 |\n",
       "| 10 | R_1F5my25GorP5SB7 | Control |  1 |  3 |  3 |\n",
       "| 11 | R_4rrxy04vs26yGbE | Gain    |  5 |  5 |  3 |\n",
       "| 12 | R_4YM0YRlwqDt84n6 | Loss    |  4 |  5 |  2 |\n",
       "| 13 | R_3HirVktC5EZCToz | <!----> | NA | NA | NA |\n",
       "| 14 | R_7jVsDsHWJIq8ryF | Gain    |  5 |  4 |  2 |\n",
       "| 15 | R_4zBJfhVvODh4DfU | Control |  2 |  6 |  6 |\n",
       "| 16 | R_4fbm5Ejfli11HdD | Loss    |  6 |  6 |  7 |\n",
       "| 17 | R_4FBbMcgkQPVv6hj | Gain    |  1 |  5 |  1 |\n",
       "| 18 | R_2t2ZsgiK9zDXOCd | Loss    |  3 |  6 |  5 |\n",
       "| 19 | R_4EVytMWzOPhC0oN | Control |  1 |  4 |  5 |\n",
       "| 20 | R_4vbKtMtrQdExNwl | Control |  4 |  2 |  2 |\n",
       "| 21 | R_3LXNk1DDObbonKj | Loss    |  5 |  6 |  5 |\n",
       "| 22 | R_1Xd0KpBBcYliB4F | Control |  1 |  6 |  6 |\n",
       "| 23 | R_3joLtZXkaKa4969 | Gain    |  5 |  4 |  4 |\n",
       "| 24 | R_5TPKL7HtrsGPkGZ | Loss    |  4 |  7 |  7 |\n",
       "| 25 | R_5v34hBiUkhAMNe8 | Gain    |  1 |  3 |  1 |\n",
       "| 26 | R_4Ejo47W5aWAd16r | Control |  1 |  4 |  1 |\n",
       "| 27 | R_3AtA0ToAL1kTjkR | Loss    |  1 |  4 |  2 |\n",
       "| 28 | R_3j9z5Mw2V2vW5BG | Control |  3 |  5 |  3 |\n",
       "| 29 | R_1ZZZHiN45qpdhFD | Gain    |  6 |  7 |  1 |\n",
       "| 30 | R_2abK14rV2Tm7jZQ | Loss    |  5 |  7 |  3 |\n",
       "| 31 | R_3g6LePmlQn4jRUZ | Control |  1 |  4 |  3 |\n",
       "| 32 | R_7Z4zcdlWkTaDvz3 | Loss    |  2 |  1 |  5 |\n",
       "| ... | ... | ... | ... | ... | ... |\n",
       "| 131 | R_26fnMiOd6cyliwH | <!----> | NA | NA | NA |\n",
       "| 132 | R_2UhdYV0GluzxroC | Loss    |  3 |  5 |  5 |\n",
       "| 133 | R_8OkgrACH0vqBe0N | Gain    |  6 |  5 |  3 |\n",
       "| 134 | R_7g4VgMcH7Svl9U5 | Loss    |  2 |  6 |  5 |\n",
       "| 135 | R_3gEKd49f3dsh4U9 | Loss    |  2 |  3 |  3 |\n",
       "| 136 | R_7z8eLXyOsJt13Uk | Control |  4 |  2 |  1 |\n",
       "| 137 | R_7fdhgwlT77Jeymj | <!----> | NA | NA | NA |\n",
       "| 138 | R_5SdhHiAM1BhH54p | Control |  1 |  3 |  2 |\n",
       "| 139 | R_5dNvg2BuZrg5Kss | Gain    |  5 |  3 |  5 |\n",
       "| 140 | R_7QLFJi1nHrw9V2P | Loss    |  4 |  7 |  6 |\n",
       "| 141 | R_57WYmPRzXDSeSKR | Control |  2 |  4 |  4 |\n",
       "| 142 | R_1R8E8XTlpyqAXLP | Gain    |  2 |  3 |  4 |\n",
       "| 143 | R_6OW74jbYqKL3ikV | Gain    |  1 |  1 |  1 |\n",
       "| 144 | R_5AjjRK492Lljyxz | Loss    |  3 |  6 |  5 |\n",
       "| 145 | R_5o7G9oVfLl8H9xw | Control |  4 |  5 |  4 |\n",
       "| 146 | R_3nHJrQkcD2nf1IM | Loss    |  5 |  3 |  2 |\n",
       "| 147 | R_78HQ71fTuW0awFb | Control |  1 |  6 |  6 |\n",
       "| 148 | R_7mmkGU11fel5e6J | Gain    |  6 |  6 |  5 |\n",
       "| 149 | R_3E02UFF150agytV | Control |  2 |  5 |  5 |\n",
       "| 150 | R_3AJHwuxmhY4zp0R | Gain    |  5 |  5 |  3 |\n",
       "| 151 | R_2sh9aB8AOECQhYv | Control |  3 |  1 |  1 |\n",
       "| 152 | R_5m0lnPzpem8Z0M9 | Loss    |  5 |  1 |  1 |\n",
       "| 153 | R_5efOR25E4CRXPW6 | Loss    |  2 |  3 |  2 |\n",
       "| 154 | R_7HjVpX6tsulNlqZ | Gain    |  5 |  5 |  5 |\n",
       "| 155 | R_7CNdtdw6qqwMGcc | Loss    | NA | NA | NA |\n",
       "| 156 | R_8VPQF9ai6Lrhbax | Control |  1 |  1 |  1 |\n",
       "| 157 | R_7t3YFsezgAn8QQU | Loss    |  4 |  1 |  3 |\n",
       "| 158 | R_3aOKRatgTlSR240 | Gain    |  7 |  5 |  3 |\n",
       "| 159 | R_4dh8hABCGlhs8ka | Gain    |  1 |  1 |  1 |\n",
       "| 160 | R_7iOOHIfY3kuYfsN | Loss    |  5 |  1 |  1 |\n",
       "\n"
      ],
      "text/plain": [
       "    ResponseId        ConditionAssigned Q2_combined Q3_combined Q4_combined\n",
       "3   R_7P4M3QNUV0sz7kl Loss               1           3           5         \n",
       "4   R_3uPoKeQUqogIL4l Gain               5           2           2         \n",
       "5   R_65G7BrispC2eV2n Control            5           3           3         \n",
       "6   R_40i6X1z7fQUH2Bs Loss               2           6           5         \n",
       "7   R_1k0T1HeuJsmtdQm Gain               5           3           3         \n",
       "8   R_3y9bl3tR1vzxcSR Loss               2           7           6         \n",
       "9   R_7jx25gH6q84XuJX Control            1           5           4         \n",
       "10  R_1F5my25GorP5SB7 Control            1           3           3         \n",
       "11  R_4rrxy04vs26yGbE Gain               5           5           3         \n",
       "12  R_4YM0YRlwqDt84n6 Loss               4           5           2         \n",
       "13  R_3HirVktC5EZCToz                   NA          NA          NA         \n",
       "14  R_7jVsDsHWJIq8ryF Gain               5           4           2         \n",
       "15  R_4zBJfhVvODh4DfU Control            2           6           6         \n",
       "16  R_4fbm5Ejfli11HdD Loss               6           6           7         \n",
       "17  R_4FBbMcgkQPVv6hj Gain               1           5           1         \n",
       "18  R_2t2ZsgiK9zDXOCd Loss               3           6           5         \n",
       "19  R_4EVytMWzOPhC0oN Control            1           4           5         \n",
       "20  R_4vbKtMtrQdExNwl Control            4           2           2         \n",
       "21  R_3LXNk1DDObbonKj Loss               5           6           5         \n",
       "22  R_1Xd0KpBBcYliB4F Control            1           6           6         \n",
       "23  R_3joLtZXkaKa4969 Gain               5           4           4         \n",
       "24  R_5TPKL7HtrsGPkGZ Loss               4           7           7         \n",
       "25  R_5v34hBiUkhAMNe8 Gain               1           3           1         \n",
       "26  R_4Ejo47W5aWAd16r Control            1           4           1         \n",
       "27  R_3AtA0ToAL1kTjkR Loss               1           4           2         \n",
       "28  R_3j9z5Mw2V2vW5BG Control            3           5           3         \n",
       "29  R_1ZZZHiN45qpdhFD Gain               6           7           1         \n",
       "30  R_2abK14rV2Tm7jZQ Loss               5           7           3         \n",
       "31  R_3g6LePmlQn4jRUZ Control            1           4           3         \n",
       "32  R_7Z4zcdlWkTaDvz3 Loss               2           1           5         \n",
       "... ...               ...               ...         ...         ...        \n",
       "131 R_26fnMiOd6cyliwH                   NA          NA          NA         \n",
       "132 R_2UhdYV0GluzxroC Loss               3           5           5         \n",
       "133 R_8OkgrACH0vqBe0N Gain               6           5           3         \n",
       "134 R_7g4VgMcH7Svl9U5 Loss               2           6           5         \n",
       "135 R_3gEKd49f3dsh4U9 Loss               2           3           3         \n",
       "136 R_7z8eLXyOsJt13Uk Control            4           2           1         \n",
       "137 R_7fdhgwlT77Jeymj                   NA          NA          NA         \n",
       "138 R_5SdhHiAM1BhH54p Control            1           3           2         \n",
       "139 R_5dNvg2BuZrg5Kss Gain               5           3           5         \n",
       "140 R_7QLFJi1nHrw9V2P Loss               4           7           6         \n",
       "141 R_57WYmPRzXDSeSKR Control            2           4           4         \n",
       "142 R_1R8E8XTlpyqAXLP Gain               2           3           4         \n",
       "143 R_6OW74jbYqKL3ikV Gain               1           1           1         \n",
       "144 R_5AjjRK492Lljyxz Loss               3           6           5         \n",
       "145 R_5o7G9oVfLl8H9xw Control            4           5           4         \n",
       "146 R_3nHJrQkcD2nf1IM Loss               5           3           2         \n",
       "147 R_78HQ71fTuW0awFb Control            1           6           6         \n",
       "148 R_7mmkGU11fel5e6J Gain               6           6           5         \n",
       "149 R_3E02UFF150agytV Control            2           5           5         \n",
       "150 R_3AJHwuxmhY4zp0R Gain               5           5           3         \n",
       "151 R_2sh9aB8AOECQhYv Control            3           1           1         \n",
       "152 R_5m0lnPzpem8Z0M9 Loss               5           1           1         \n",
       "153 R_5efOR25E4CRXPW6 Loss               2           3           2         \n",
       "154 R_7HjVpX6tsulNlqZ Gain               5           5           5         \n",
       "155 R_7CNdtdw6qqwMGcc Loss              NA          NA          NA         \n",
       "156 R_8VPQF9ai6Lrhbax Control            1           1           1         \n",
       "157 R_7t3YFsezgAn8QQU Loss               4           1           3         \n",
       "158 R_3aOKRatgTlSR240 Gain               7           5           3         \n",
       "159 R_4dh8hABCGlhs8ka Gain               1           1           1         \n",
       "160 R_7iOOHIfY3kuYfsN Loss               5           1           1         "
      ]
     },
     "metadata": {},
     "output_type": "display_data"
    }
   ],
   "source": [
    "df_cleaned_numerical_final <- dplyr::select(df_cleaned_numerical, \n",
    "  `ResponseId`, \n",
    "  `ConditionAssigned`,\n",
    "  `Q2_combined`,`Q3_combined`, `Q4_combined`\n",
    ")\n",
    "df_cleaned_numerical_final"
   ]
  },
  {
   "cell_type": "code",
   "execution_count": 21,
   "metadata": {
    "vscode": {
     "languageId": "r"
    }
   },
   "outputs": [
    {
     "name": "stdout",
     "output_type": "stream",
     "text": [
      "\u001b[90m# A tibble: 4 x 2\u001b[39m\n",
      "  ConditionAssigned Count\n",
      "  \u001b[3m\u001b[90m<chr>\u001b[39m\u001b[23m             \u001b[3m\u001b[90m<int>\u001b[39m\u001b[23m\n",
      "\u001b[90m1\u001b[39m \u001b[90m\"\u001b[39m\u001b[90m\"\u001b[39m                    4\n",
      "\u001b[90m2\u001b[39m \u001b[90m\"\u001b[39mControl\u001b[90m\"\u001b[39m            51\n",
      "\u001b[90m3\u001b[39m \u001b[90m\"\u001b[39mGain\u001b[90m\"\u001b[39m               50\n",
      "\u001b[90m4\u001b[39m \u001b[90m\"\u001b[39mLoss\u001b[90m\"\u001b[39m               53\n"
     ]
    }
   ],
   "source": [
    "count_by_condition <- df_cleaned_numerical %>%\n",
    "  group_by(ConditionAssigned) %>%\n",
    "  summarise(Count = n())\n",
    "\n",
    "# To view the count for each ConditionAssigned\n",
    "print(count_by_condition)\n"
   ]
  },
  {
   "cell_type": "markdown",
   "metadata": {},
   "source": [
    "Table: Count by Condition Assigned\n",
    "\n",
    "| ConditionAssigned | Count |\n",
    "|-------------------|------:|\n",
    "| Loss              |    53 |\n",
    "| Control           |    51 |\n",
    "| Gain              |    50 |\n",
    "\n",
    "4 values unassigned (NaN)"
   ]
  },
  {
   "cell_type": "code",
   "execution_count": 22,
   "metadata": {
    "vscode": {
     "languageId": "r"
    }
   },
   "outputs": [],
   "source": [
    "# Specify the path and filename and add to processed data\n",
    "output_path <- \"../data/processed/numerical_final.csv\"\n",
    "\n",
    "# Write the dataframe to a CSV file\n",
    "write.csv(df_cleaned_numerical_final, output_path, row.names = FALSE)"
   ]
  },
  {
   "cell_type": "markdown",
   "metadata": {},
   "source": [
    "## Conducting Statistical Analysis for N=158 total with 4 missing values"
   ]
  },
  {
   "cell_type": "markdown",
   "metadata": {},
   "source": [
    "## **Descriptive Statistics**\n",
    "\n",
    "The table presents descriptive statistics for responses to three questions (`Q2_combined`, `Q3_combined`, `Q4_combined`) under three different conditions (`Control`, `Gain`, `Loss`). \n",
    "\n",
    "|ConditionAssigned |  Q2_mean| Q2_median| Q2_mode|    Q2_sd| Q2_variance|  Q3_mean| Q3_median| Q3_mode|    Q3_sd| Q3_variance|  Q4_mean| Q4_median| Q4_mode|    Q4_sd| Q4_variance|\n",
    "|:-----------------|--------:|---------:|-------:|--------:|-----------:|--------:|---------:|-------:|--------:|-----------:|--------:|---------:|-------:|--------:|-----------:|\n",
    "|Control           | 2.509804|       2.0|       1| 1.592137|    2.534902| 3.784314|         4|       5| 1.792358|    3.212549| 3.117647|         3|       1| 1.872400|    3.505882|\n",
    "|Gain              | 3.604167|       3.5|       5| 1.954151|    3.818706| 3.978723|         4|       5| 1.905249|    3.629972| 3.270833|         3|       1| 1.818809|    3.308067|\n",
    "|Loss              | 3.653846|       4.0|       2| 1.643581|    2.701357| 4.461538|         5|       6| 2.004520|    4.018099| 4.057692|         5|       5| 1.924185|    3.702489|\n",
    "\n",
    "Here's a brief interpretation of what the data tells us:\n",
    "\n",
    "### `Q2_combined` (How surprising was the information?)\n",
    "- **Control**: Average surprise is moderately low (mean = 2.51), with the most frequent response being 1 (not surprising). The median response is 2, indicating a skew towards lower surprise in the control group. With an SD of 1.592 and variance of 2.534, responses exhibit moderate variability, mostly skewed towards not being surprised.\n",
    "- **Gain**: Slightly higher average surprise (mean = 3.60) with a median of 3.5, suggesting a more uniform distribution of responses but still leaning towards the lower end. The mode is 5, indicating that the most common response is high surprise. The SD of 1.954 and variance of 3.819 indicate a wider range of reactions, from not surprised to highly surprised, with a tendency towards the latter.\n",
    "- **Loss**: Similar to the Gain condition, with a slightly higher mean (3.65) and the median at 4. The mode is 2, suggesting that the most frequent individual response leans towards lower surprise, despite the higher overall average. Responses under the Loss condition show a spread (SD = 1.643, variance = 2.701) similar to Gain, suggesting varied levels of surprise but a higher average surprise overall.\n",
    "\n",
    "### `Q3_combined` (Likelihood of reducing single-use cups)\n",
    "- **Control**: Participants are somewhat likely to reduce use (mean = 3.78), with the median at 4 and the mode at 5, indicating a tendency towards agreeing with the likelihood of reducing use. An SD of 1.792 and variance of 3.213 reveal a spread in the likelihood of reducing cup use, with a trend towards likelihood.\n",
    "- **Gain**: Slightly higher likelihood (mean = 3.98) with both median and mode at 4 and 5, respectively, suggesting a consistent agreement on the likelihood of reducing use. The SD of 1.905 and variance of 3.630 reflect a range of responses but generally show agreement towards reducing cup usage.\n",
    "- **Loss**: Shows the highest likelihood (mean = 4.46) with the median at 5 and the mode at 6, indicating strong agreement towards reducing single-use cup consumption. Exhibiting the broadest spread of responses (SD = 2.004, variance = 4.018), indicating a strong but varied agreement towards reducing cup usage.\n",
    "\n",
    "### `Q4_combined` (Likelihood of bringing own reusable cup)\n",
    "- **Control**: Lower likelihood (mean = 3.12) with a median of 3 and a surprising mode of 1, indicating a significant number of participants are unlikely to bring their own cup despite the mean suggesting otherwise. The higher SD of 1.872 and variance of 3.506 suggest significant variability, with many leaning towards unlikely to bring their own cup.\n",
    "- **Gain**: Similar to Control in mean (3.27) and median (3), but with a mode of 1, indicating some reluctance among participants in the Gain condition as well. Similarly, an SD of 1.819 and variance of 3.308 show varied responses with a notable portion showing reluctance.\n",
    "- **Loss**: Higher likelihood (mean = 4.06) with a median of 5 and a mode of 5, showing a strong agreement among Loss condition participants to bring their own reusable cup. The SD of 1.924 and variance of 3.702 indicate a broad range of responses, yet with a consensus more strongly inclined towards bringing a reusable cup.\n",
    "\n",
    "### Summary\n",
    "- The `Loss` condition consistently shows a trend towards higher means in responses, indicating that framing the question in terms of loss (potential negative outcomes) may more strongly influence participants' attitudes towards reducing single-use cups and bringing their own reusable cups.\n",
    "- Despite some variability in the modes, which could suggest individual response preferences or outliers, the median and mean values across the three questions suggest that how information is framed (`Control`, `Gain`, or `Loss`) can influence reported attitudes and intentions.\n",
    "- The notable difference in modes for Q4_combined across conditions, especially the mode of 5 for `Loss`, underlines the importance of framing in encouraging pro-environmental behaviors."
   ]
  },
  {
   "cell_type": "code",
   "execution_count": 23,
   "metadata": {
    "vscode": {
     "languageId": "r"
    }
   },
   "outputs": [
    {
     "data": {
      "text/html": [
       "<table class=\"dataframe\">\n",
       "<caption>A tibble: 3 x 16</caption>\n",
       "<thead>\n",
       "\t<tr><th scope=col>ConditionAssigned</th><th scope=col>Q2_mean</th><th scope=col>Q2_median</th><th scope=col>Q2_mode</th><th scope=col>Q2_sd</th><th scope=col>Q2_variance</th><th scope=col>Q3_mean</th><th scope=col>Q3_median</th><th scope=col>Q3_mode</th><th scope=col>Q3_sd</th><th scope=col>Q3_variance</th><th scope=col>Q4_mean</th><th scope=col>Q4_median</th><th scope=col>Q4_mode</th><th scope=col>Q4_sd</th><th scope=col>Q4_variance</th></tr>\n",
       "\t<tr><th scope=col>&lt;chr&gt;</th><th scope=col>&lt;dbl&gt;</th><th scope=col>&lt;dbl&gt;</th><th scope=col>&lt;dbl&gt;</th><th scope=col>&lt;dbl&gt;</th><th scope=col>&lt;dbl&gt;</th><th scope=col>&lt;dbl&gt;</th><th scope=col>&lt;dbl&gt;</th><th scope=col>&lt;dbl&gt;</th><th scope=col>&lt;dbl&gt;</th><th scope=col>&lt;dbl&gt;</th><th scope=col>&lt;dbl&gt;</th><th scope=col>&lt;dbl&gt;</th><th scope=col>&lt;dbl&gt;</th><th scope=col>&lt;dbl&gt;</th><th scope=col>&lt;dbl&gt;</th></tr>\n",
       "</thead>\n",
       "<tbody>\n",
       "\t<tr><td>Control</td><td>2.509804</td><td>2.0</td><td>1</td><td>1.592138</td><td>2.534902</td><td>3.784314</td><td>4</td><td>5</td><td>1.792359</td><td>3.212549</td><td>3.117647</td><td>3</td><td>1</td><td>1.872400</td><td>3.505882</td></tr>\n",
       "\t<tr><td>Gain   </td><td>3.604167</td><td>3.5</td><td>5</td><td>1.954151</td><td>3.818706</td><td>3.978723</td><td>4</td><td>5</td><td>1.905249</td><td>3.629972</td><td>3.270833</td><td>3</td><td>1</td><td>1.818809</td><td>3.308067</td></tr>\n",
       "\t<tr><td>Loss   </td><td>3.653846</td><td>4.0</td><td>2</td><td>1.643581</td><td>2.701357</td><td>4.461538</td><td>5</td><td>6</td><td>2.004520</td><td>4.018100</td><td>4.057692</td><td>5</td><td>5</td><td>1.924185</td><td>3.702489</td></tr>\n",
       "</tbody>\n",
       "</table>\n"
      ],
      "text/latex": [
       "A tibble: 3 x 16\n",
       "\\begin{tabular}{llllllllllllllll}\n",
       " ConditionAssigned & Q2\\_mean & Q2\\_median & Q2\\_mode & Q2\\_sd & Q2\\_variance & Q3\\_mean & Q3\\_median & Q3\\_mode & Q3\\_sd & Q3\\_variance & Q4\\_mean & Q4\\_median & Q4\\_mode & Q4\\_sd & Q4\\_variance\\\\\n",
       " <chr> & <dbl> & <dbl> & <dbl> & <dbl> & <dbl> & <dbl> & <dbl> & <dbl> & <dbl> & <dbl> & <dbl> & <dbl> & <dbl> & <dbl> & <dbl>\\\\\n",
       "\\hline\n",
       "\t Control & 2.509804 & 2.0 & 1 & 1.592138 & 2.534902 & 3.784314 & 4 & 5 & 1.792359 & 3.212549 & 3.117647 & 3 & 1 & 1.872400 & 3.505882\\\\\n",
       "\t Gain    & 3.604167 & 3.5 & 5 & 1.954151 & 3.818706 & 3.978723 & 4 & 5 & 1.905249 & 3.629972 & 3.270833 & 3 & 1 & 1.818809 & 3.308067\\\\\n",
       "\t Loss    & 3.653846 & 4.0 & 2 & 1.643581 & 2.701357 & 4.461538 & 5 & 6 & 2.004520 & 4.018100 & 4.057692 & 5 & 5 & 1.924185 & 3.702489\\\\\n",
       "\\end{tabular}\n"
      ],
      "text/markdown": [
       "\n",
       "A tibble: 3 x 16\n",
       "\n",
       "| ConditionAssigned &lt;chr&gt; | Q2_mean &lt;dbl&gt; | Q2_median &lt;dbl&gt; | Q2_mode &lt;dbl&gt; | Q2_sd &lt;dbl&gt; | Q2_variance &lt;dbl&gt; | Q3_mean &lt;dbl&gt; | Q3_median &lt;dbl&gt; | Q3_mode &lt;dbl&gt; | Q3_sd &lt;dbl&gt; | Q3_variance &lt;dbl&gt; | Q4_mean &lt;dbl&gt; | Q4_median &lt;dbl&gt; | Q4_mode &lt;dbl&gt; | Q4_sd &lt;dbl&gt; | Q4_variance &lt;dbl&gt; |\n",
       "|---|---|---|---|---|---|---|---|---|---|---|---|---|---|---|---|\n",
       "| Control | 2.509804 | 2.0 | 1 | 1.592138 | 2.534902 | 3.784314 | 4 | 5 | 1.792359 | 3.212549 | 3.117647 | 3 | 1 | 1.872400 | 3.505882 |\n",
       "| Gain    | 3.604167 | 3.5 | 5 | 1.954151 | 3.818706 | 3.978723 | 4 | 5 | 1.905249 | 3.629972 | 3.270833 | 3 | 1 | 1.818809 | 3.308067 |\n",
       "| Loss    | 3.653846 | 4.0 | 2 | 1.643581 | 2.701357 | 4.461538 | 5 | 6 | 2.004520 | 4.018100 | 4.057692 | 5 | 5 | 1.924185 | 3.702489 |\n",
       "\n"
      ],
      "text/plain": [
       "  ConditionAssigned Q2_mean  Q2_median Q2_mode Q2_sd    Q2_variance Q3_mean \n",
       "1 Control           2.509804 2.0       1       1.592138 2.534902    3.784314\n",
       "2 Gain              3.604167 3.5       5       1.954151 3.818706    3.978723\n",
       "3 Loss              3.653846 4.0       2       1.643581 2.701357    4.461538\n",
       "  Q3_median Q3_mode Q3_sd    Q3_variance Q4_mean  Q4_median Q4_mode Q4_sd   \n",
       "1 4         5       1.792359 3.212549    3.117647 3         1       1.872400\n",
       "2 4         5       1.905249 3.629972    3.270833 3         1       1.818809\n",
       "3 5         6       2.004520 4.018100    4.057692 5         5       1.924185\n",
       "  Q4_variance\n",
       "1 3.505882   \n",
       "2 3.308067   \n",
       "3 3.702489   "
      ]
     },
     "metadata": {},
     "output_type": "display_data"
    }
   ],
   "source": [
    "# Helper function to calculate mode\n",
    "calculate_mode <- function(x) {\n",
    "  ux <- unique(x)\n",
    "  ux[which.max(tabulate(match(x, ux)))]\n",
    "}\n",
    "\n",
    "# Calculating descriptive statistics\n",
    "\n",
    "descriptive_stats <- df_cleaned_numerical %>%\n",
    "  filter(ConditionAssigned != \"\") %>% # Filtering out rows where ConditionAssigned is NA\n",
    "  group_by(ConditionAssigned) %>%\n",
    "  summarise(\n",
    "    Q2_mean = mean(Q2_combined, na.rm = TRUE),\n",
    "    Q2_median = median(Q2_combined, na.rm = TRUE),\n",
    "    Q2_mode = calculate_mode(Q2_combined),\n",
    "    Q2_sd = sd(Q2_combined, na.rm = TRUE), # Standard deviation for Q2\n",
    "    Q2_variance = var(Q2_combined, na.rm = TRUE), # Variance for Q2\n",
    "    Q3_mean = mean(Q3_combined, na.rm = TRUE),\n",
    "    Q3_median = median(Q3_combined, na.rm = TRUE),\n",
    "    Q3_mode = calculate_mode(Q3_combined),\n",
    "    Q3_sd = sd(Q3_combined, na.rm = TRUE), # Standard deviation for Q3\n",
    "    Q3_variance = var(Q3_combined, na.rm = TRUE), # Variance for Q3\n",
    "    Q4_mean = mean(Q4_combined, na.rm = TRUE),\n",
    "    Q4_median = median(Q4_combined, na.rm = TRUE),\n",
    "    Q4_mode = calculate_mode(Q4_combined),\n",
    "    Q4_sd = sd(Q4_combined, na.rm = TRUE), # Standard deviation for Q4\n",
    "    Q4_variance = var(Q4_combined, na.rm = TRUE) # Variance for Q4\n",
    "  )\n",
    "\n",
    "# View the results\n",
    "descriptive_stats\n"
   ]
  },
  {
   "cell_type": "markdown",
   "metadata": {},
   "source": [
    "## **One-Way ANOVA**\n",
    "\n",
    "#### ANOVA Summaries Interpretation\n",
    "\n",
    "We conducted an ANOVA (Analysis of Variance) to examine if there were statistically significant differences between the means of `Q2`, `Q3`, and `Q4` scores across the different `ConditionAssigned` groups. Below is a summary of the findings from each ANOVA test:\n",
    "\n",
    "### For `Q2`: How surprising was the above information?  \n",
    "\n",
    "The ANOVA test for `Q2_combined` suggests that there is a statistically significant difference between the groups determined by `ConditionAssigned` (F(2, 148) = 7.074, p = 0.00116). The p-value is less than the conventional threshold of 0.05, which indicates that we can reject the null hypothesis of equal means across the conditions for this variable. This means that the `ConditionAssigned` factor does have an effect on the `Q2_combined` responses. Specifically, with a p-value of 0.00116, this effect is significant at the 0.01 level.\n",
    "\n",
    "### For `Q3`: How likely are you to reduce using single use cups?\n",
    "\n",
    "For `Q3_combined`, the ANOVA test did not find a statistically significant difference between the groups defined by `ConditionAssigned` (F(2, 147) = 1.727, p = 0.181). The p-value is greater than 0.05, leading us to fail to reject the null hypothesis. Therefore, we do not have sufficient evidence to conclude that there are differences in the means of `Q3_combined` across the different conditions.\n",
    "\n",
    "### For `Q4`: How likely are you to bring your own reusable cup when purchasing beverages?\n",
    "\n",
    "The ANOVA test for `Q4_combined` shows that there is a statistically significant difference between the groups as per `ConditionAssigned` (F(2, 148) = 3.722, p = 0.0265). The p-value is less than 0.05, which suggests that the means for `Q4_combined` are not equal across all conditions. The significance level for this result is at the 0.05 level but not at the more stringent 0.01 level.\n",
    "\n",
    "**In conclusion, the ANOVA analysis indicates that the condition participants were assigned to had a significant impact on their responses to certain survey questions (`Q2` and `Q4`), while it did not significantly affect responses for `Q3`.**\n",
    "\n",
    "---\n",
    "\n",
    "It is important to note that while ANOVA tells us that there is a difference in means, it does not tell us which specific groups are different from each other. To determine this, a post hoc test such as Tukey's HSD (Honestly Significant Difference) would be conducted following a significant ANOVA result. Additionally, the statement \"7 observations deleted due to missingness\" and \"8 observations deleted due to missingness\" indicate that some data was not included in the analysis due to missing values. This should be considered when interpreting the results and should be acknowledged in your study limitations or discussion sections."
   ]
  },
  {
   "cell_type": "code",
   "execution_count": 24,
   "metadata": {
    "vscode": {
     "languageId": "r"
    }
   },
   "outputs": [
    {
     "data": {
      "text/plain": [
       "                   Df Sum Sq Mean Sq F value  Pr(>F)   \n",
       "ConditionAssigned   2   42.4   21.22   7.074 0.00116 **\n",
       "Residuals         148  444.0    3.00                   \n",
       "---\n",
       "Signif. codes:  0 '***' 0.001 '**' 0.01 '*' 0.05 '.' 0.1 ' ' 1\n",
       "7 observations deleted due to missingness"
      ]
     },
     "metadata": {},
     "output_type": "display_data"
    },
    {
     "data": {
      "text/plain": [
       "                   Df Sum Sq Mean Sq F value Pr(>F)\n",
       "ConditionAssigned   2   12.5   6.255   1.727  0.181\n",
       "Residuals         147  532.5   3.623               \n",
       "8 observations deleted due to missingness"
      ]
     },
     "metadata": {},
     "output_type": "display_data"
    },
    {
     "data": {
      "text/plain": [
       "                   Df Sum Sq Mean Sq F value Pr(>F)  \n",
       "ConditionAssigned   2   26.1  13.067   3.722 0.0265 *\n",
       "Residuals         148  519.6   3.511                 \n",
       "---\n",
       "Signif. codes:  0 '***' 0.001 '**' 0.01 '*' 0.05 '.' 0.1 ' ' 1\n",
       "7 observations deleted due to missingness"
      ]
     },
     "metadata": {},
     "output_type": "display_data"
    }
   ],
   "source": [
    "# For Q2_combined\n",
    "aov_Q2 <- aov(Q2_combined ~ ConditionAssigned, data = df_cleaned_numerical)\n",
    "summary(aov_Q2)\n",
    "\n",
    "# For Q3_combined\n",
    "aov_Q3 <- aov(Q3_combined ~ ConditionAssigned, data = df_cleaned_numerical)\n",
    "summary(aov_Q3)\n",
    "\n",
    "# For Q4_combined\n",
    "aov_Q4 <- aov(Q4_combined ~ ConditionAssigned, data = df_cleaned_numerical)\n",
    "summary(aov_Q4)\n"
   ]
  },
  {
   "cell_type": "markdown",
   "metadata": {},
   "source": [
    "## **Tukey's HSD Test**"
   ]
  },
  {
   "cell_type": "markdown",
   "metadata": {},
   "source": [
    "### How surprising was the above information? \n",
    "\n",
    "The Tukey's Honest Significant Difference (HSD) test for `Q2_combined` yields the following insights regarding the impact of different conditions (\"Gain\", \"Loss\", and \"Control\") on participants' responses:\n",
    "\n",
    "1. **Gain vs. Control**: Participants in the \"Gain\" condition scored on average 1.094 units higher than those in the \"Control\" group. This difference is statistically significant (p = 0.0057), indicating a reliable effect of the \"Gain\" condition on increasing scores.\n",
    "\n",
    "2. **Loss vs. Control**: Participants in the \"Loss\" condition scored on average 1.144 units higher than the \"Control\" group. This difference is also statistically significant (p = 0.0029), suggesting the \"Loss\" condition effectively increased scores compared to the control.\n",
    "\n",
    "3. **Loss vs. Gain**: The difference between the \"Loss\" and \"Gain\" groups is not statistically significant, with a mean difference of approximately 0.05 units (p = 0.9887). This implies that the influence of \"Loss\" and \"Gain\" conditions on `Q2_combined` scores is comparable.\n",
    "\n",
    "### Summary:\n",
    "\n",
    "The analysis indicates that both \"Gain\" and \"Loss\" conditions are associated with higher `Q2_combined` scores when compared to the \"Control\" condition, with both effects being statistically significant. There is no significant difference in scores between the \"Gain\" and \"Loss\" conditions, suggesting that the way the condition is framed (as a gain or a loss) does not significantly alter the impact on participants' responses in this context."
   ]
  },
  {
   "cell_type": "code",
   "execution_count": 25,
   "metadata": {
    "vscode": {
     "languageId": "r"
    }
   },
   "outputs": [
    {
     "name": "stdout",
     "output_type": "stream",
     "text": [
      "  Tukey multiple comparisons of means\n",
      "    95% family-wise confidence level\n",
      "\n",
      "Fit: aov(formula = Q2_combined ~ ConditionAssigned, data = df_cleaned_numerical)\n",
      "\n",
      "$ConditionAssigned\n",
      "                   diff        lwr       upr     p adj\n",
      "Gain-Control 1.09436275  0.2697220 1.9190035 0.0057202\n",
      "Loss-Control 1.14404223  0.3359057 1.9521788 0.0029149\n",
      "Loss-Gain    0.04967949 -0.7711078 0.8704668 0.9887439\n",
      "\n"
     ]
    }
   ],
   "source": [
    "# Tukey HSD test for Q2_combined\n",
    "tukey_Q2 <- TukeyHSD(aov(Q2_combined ~ ConditionAssigned, data = df_cleaned_numerical))\n",
    "print(tukey_Q2)"
   ]
  },
  {
   "cell_type": "markdown",
   "metadata": {},
   "source": [
    "### How likely are you to reduce using single use cups?"
   ]
  },
  {
   "cell_type": "markdown",
   "metadata": {},
   "source": [
    "The Tukey's Honest Significant Difference (HSD) test for `Q3_combined` offers a comparison of means across the \"Gain\", \"Loss\", and \"Control\" conditions, and here are the results:\n",
    "\n",
    "1. **Gain vs. Control**: The mean score for the \"Gain\" condition is 0.194 units higher than for the \"Control\" group. However, this difference is not statistically significant (p = 0.8689), suggesting that the \"Gain\" framing does not significantly affect the `Q3_combined` scores compared to the control.\n",
    "\n",
    "2. **Loss vs. Control**: Participants in the \"Loss\" condition have a mean score that is 0.677 units higher than those in the \"Control\" group. While this shows a greater difference than the \"Gain\" condition, it is still not statistically significant (p = 0.1713), indicating that the \"Loss\" condition does not lead to a significant change in `Q3_combined` scores compared to the control.\n",
    "\n",
    "3. **Loss vs. Gain**: The comparison between \"Loss\" and \"Gain\" shows a mean difference of 0.483 units, with the \"Loss\" condition being higher. This difference is not statistically significant (p = 0.4199), implying that there is no significant difference in the `Q3_combined` scores between the \"Loss\" and \"Gain\" conditions.\n",
    "\n",
    "### Summary:\n",
    "\n",
    "The Tukey HSD test results for `Q3_combined` suggest there are no statistically significant differences between the \"Control\" condition and either the \"Gain\" or \"Loss\" conditions. Similarly, no significant difference is noted when comparing the \"Gain\" and \"Loss\" conditions directly. Essentially, the framing of the condition, whether as a gain or a loss, does not appear to have a significant effect on `Q3_combined` scores."
   ]
  },
  {
   "cell_type": "code",
   "execution_count": 26,
   "metadata": {
    "vscode": {
     "languageId": "r"
    }
   },
   "outputs": [
    {
     "name": "stdout",
     "output_type": "stream",
     "text": [
      "  Tukey multiple comparisons of means\n",
      "    95% family-wise confidence level\n",
      "\n",
      "Fit: aov(formula = Q3_combined ~ ConditionAssigned, data = df_cleaned_numerical)\n",
      "\n",
      "$ConditionAssigned\n",
      "                  diff        lwr      upr     p adj\n",
      "Gain-Control 0.1944097 -0.7167984 1.105618 0.8689420\n",
      "Loss-Control 0.6772247 -0.2108927 1.565342 0.1713452\n",
      "Loss-Gain    0.4828151 -0.4241813 1.389811 0.4198802\n",
      "\n"
     ]
    }
   ],
   "source": [
    "# Tukey HSD test for Q2_combined\n",
    "tukey_Q3 <- TukeyHSD(aov(Q3_combined ~ ConditionAssigned, data = df_cleaned_numerical))\n",
    "print(tukey_Q3)"
   ]
  },
  {
   "cell_type": "markdown",
   "metadata": {},
   "source": [
    "### How likely are you to bring your own reusable cup when purchasing beverages?"
   ]
  },
  {
   "cell_type": "markdown",
   "metadata": {},
   "source": [
    "The Tukey's Honest Significant Difference (HSD) test for `Q4_combined` yields insights into how different conditions—\"Gain\", \"Loss\", and \"Control\"—affect the outcomes. Here's a concise interpretation of the findings:\n",
    "\n",
    "1. **Gain vs. Control**: The average score under the \"Gain\" condition exceeds that of the \"Control\" group by 0.153 units, though this difference doesn't reach statistical significance (p = 0.913). This indicates that introducing a \"Gain\" framework doesn't significantly alter `Q4_combined` scores compared to the control setting.\n",
    "\n",
    "2. **Loss vs. Control**: Here, the \"Loss\" condition results in a mean score 0.940 units higher than the \"Control\", marking a statistically significant difference (p = 0.032). This suggests that the \"Loss\" framing can significantly impact `Q4_combined` scores, enhancing them in comparison to the baseline control condition.\n",
    "\n",
    "3. **Loss vs. Gain**: The comparison reveals a difference of 0.787 units, with \"Loss\" scoring higher than \"Gain\". While not meeting the conventional threshold for statistical significance (p = 0.094), this outcome hints at a trend where \"Loss\" may exert a stronger influence on `Q4_combined` scores than \"Gain\", albeit not conclusively so.\n",
    "\n",
    "### Summary:\n",
    "\n",
    "For `Q4_combined` scores, only the difference between \"Loss\" and \"Control\" conditions is statistically significant, suggesting that framing an outcome as a loss might more effectively influence certain participant responses than a neutral or gain-oriented framing. The comparisons between \"Gain\" vs. \"Control\" and \"Loss\" vs. \"Gain\" do not show statistically significant differences, though the latter exhibits a suggestive trend that merits further exploration."
   ]
  },
  {
   "cell_type": "code",
   "execution_count": 27,
   "metadata": {
    "vscode": {
     "languageId": "r"
    }
   },
   "outputs": [
    {
     "name": "stdout",
     "output_type": "stream",
     "text": [
      "  Tukey multiple comparisons of means\n",
      "    95% family-wise confidence level\n",
      "\n",
      "Fit: aov(formula = Q4_combined ~ ConditionAssigned, data = df_cleaned_numerical)\n",
      "\n",
      "$ConditionAssigned\n",
      "                  diff         lwr      upr     p adj\n",
      "Gain-Control 0.1531863 -0.73890883 1.045281 0.9129876\n",
      "Loss-Control 0.9400452  0.06580435 1.814286 0.0318105\n",
      "Loss-Gain    0.7868590 -0.10106744 1.674785 0.0937022\n",
      "\n"
     ]
    }
   ],
   "source": [
    "# Tukey HSD test for Q4_combined\n",
    "tukey_Q4 <- TukeyHSD(aov(Q4_combined ~ ConditionAssigned, data = df_cleaned_numerical))\n",
    "print(tukey_Q4)"
   ]
  },
  {
   "cell_type": "markdown",
   "metadata": {},
   "source": [
    "---"
   ]
  }
 ],
 "metadata": {
  "kernelspec": {
   "display_name": "R",
   "language": "R",
   "name": "ir"
  },
  "language_info": {
   "codemirror_mode": "r",
   "file_extension": ".r",
   "mimetype": "text/x-r-source",
   "name": "R",
   "pygments_lexer": "r",
   "version": "4.3.2"
  }
 },
 "nbformat": 4,
 "nbformat_minor": 2
}
